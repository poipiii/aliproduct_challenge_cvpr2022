{
 "cells": [
  {
   "cell_type": "code",
   "execution_count": 1,
   "metadata": {},
   "outputs": [],
   "source": [
    "import sys\n",
    "sys.path.insert(0, '..')\n",
    "module_path = os.path.abspath(os.path.join('..'))\n",
    "if module_path not in sys.path:\n",
    "    sys.path.append(module_path+\"/model\")\n",
    "import clip\n",
    "import torch\n",
    "from torch.utils.data import Dataset, DataLoader\n",
    "import matplotlib.pyplot as plt\n",
    "from PIL import Image\n",
    "import pandas as pd\n",
    "import numpy as np\n",
    "import pytorch_lightning as pl\n",
    "from pytorch_lightning import Trainer\n",
    "from sklearn.metrics import top_k_accuracy_score\n",
    "from sklearn.model_selection import train_test_split\n",
    "import pickle\n",
    "from tqdm import tqdm\n",
    "import gc\n",
    "import os\n",
    "import pickle\n",
    "from model.aliproduct_blip_model import ALIPRODUCT_BLIP\n",
    "from model.dataset import ALIPRODUCT_DATASET,prepare_data\n",
    "from model.CONFIG import CONFIG\n",
    "import faiss\n",
    "from torchvision import transforms\n",
    "from torchvision.transforms.functional import InterpolationMode\n"
   ]
  },
  {
   "cell_type": "code",
   "execution_count": 2,
   "metadata": {},
   "outputs": [],
   "source": [
    "clean_df = pd.read_csv(\"/home/ubuntu/Desktop/CVPR 2022 AliProducts Challenge/code/data/val_data_prompt_clean.csv\")\n"
   ]
  },
  {
   "cell_type": "code",
   "execution_count": 3,
   "metadata": {},
   "outputs": [
    {
     "data": {
      "text/html": [
       "<div>\n",
       "<style scoped>\n",
       "    .dataframe tbody tr th:only-of-type {\n",
       "        vertical-align: middle;\n",
       "    }\n",
       "\n",
       "    .dataframe tbody tr th {\n",
       "        vertical-align: top;\n",
       "    }\n",
       "\n",
       "    .dataframe thead th {\n",
       "        text-align: right;\n",
       "    }\n",
       "</style>\n",
       "<table border=\"1\" class=\"dataframe\">\n",
       "  <thead>\n",
       "    <tr style=\"text-align: right;\">\n",
       "      <th></th>\n",
       "      <th>caption</th>\n",
       "      <th>product</th>\n",
       "      <th>label</th>\n",
       "      <th>step_1_lower</th>\n",
       "      <th>step_2_no_sp_char</th>\n",
       "      <th>step_3_no_stop</th>\n",
       "      <th>step_4_no_num</th>\n",
       "      <th>step_5_no_dupe</th>\n",
       "      <th>step_6_no_len_1_token</th>\n",
       "      <th>caption_crop_first_70%</th>\n",
       "      <th>caption_crop_last_70%</th>\n",
       "      <th>caption_crop_middle_70%</th>\n",
       "      <th>captions_cn</th>\n",
       "    </tr>\n",
       "  </thead>\n",
       "  <tbody>\n",
       "    <tr>\n",
       "      <th>0</th>\n",
       "      <td>Tanabata Valentine's Day Shenzhen Bao'an M Nan...</td>\n",
       "      <td>O1CN01cSoTwD1spJos7ZSF6_!!0-item_pic.jpg</td>\n",
       "      <td>32820</td>\n",
       "      <td>tanabata valentine's day shenzhen bao'an m nan...</td>\n",
       "      <td>tanabata valentines day shenzhen baoan m nansh...</td>\n",
       "      <td>tanabata valentines day shenzhen baoan nanshan...</td>\n",
       "      <td>tanabata valentines day shenzhen baoan nanshan...</td>\n",
       "      <td>luohu arrangement valentines decorative chest ...</td>\n",
       "      <td>arrangement chest valentines decorative nansha...</td>\n",
       "      <td>Tanabata Valentine's Day Shenzhen Bao'an M Nan...</td>\n",
       "      <td>M Nanshan Futian Luohu Car Decorative Flowers ...</td>\n",
       "      <td>Shenzhen Bao'an M Nanshan Futian Luohu Car Dec...</td>\n",
       "      <td>塔那巴塔情人节 清心宝安 南山福田罗虎 汽车装饰花花花花花花 胸衣布置安排</td>\n",
       "    </tr>\n",
       "    <tr>\n",
       "      <th>1</th>\n",
       "      <td>Children's Toys Little Girl over 6 Years Old G...</td>\n",
       "      <td>O1CN01iI5sGv1vIkV5dfICu_!!0-item_pic.jpg</td>\n",
       "      <td>8326</td>\n",
       "      <td>children's toys little girl over 6 years old g...</td>\n",
       "      <td>childrens toys little girl over 6 years old gi...</td>\n",
       "      <td>childrens toys little girl 6 years old girls 3...</td>\n",
       "      <td>childrens toys little girl years old girls boy...</td>\n",
       "      <td>years childrens little old boys baby gift chil...</td>\n",
       "      <td>years childrens little old boys baby gift chil...</td>\n",
       "      <td>Children's Toys Little Girl over 6 Years Old G...</td>\n",
       "      <td>Old Girls 3-9 Boys 7 Students I Day Gift 10 Ch...</td>\n",
       "      <td>over 6 Years Old Girls 3-9 Boys 7 Students I D...</td>\n",
       "      <td>6岁以上的儿童玩具小女孩 3-9 男孩 7 学生I日 学生I日 10 儿童8 婴儿4 拼图</td>\n",
       "    </tr>\n",
       "    <tr>\n",
       "      <th>2</th>\n",
       "      <td>sm qing qu Alternative Sex between Men and Wom...</td>\n",
       "      <td>O1CN01xnnyaz248W0n5le2q_!!131027346.jpg</td>\n",
       "      <td>47598</td>\n",
       "      <td>sm qing qu alternative sex between men and wom...</td>\n",
       "      <td>sm qing qu alternative sex between men and wom...</td>\n",
       "      <td>sm qing qu alternative sex men women metal tai...</td>\n",
       "      <td>sm qing qu alternative sex men women metal tai...</td>\n",
       "      <td>tail men fox ting alternative qu sex sai women...</td>\n",
       "      <td>tail men fox metal alternative qu sex sai wome...</td>\n",
       "      <td>sm qing qu Alternative Sex between Men and Wom...</td>\n",
       "      <td>between Men and Women with Metal Tail Fox Tail...</td>\n",
       "      <td>Alternative Sex between Men and Women with Met...</td>\n",
       "      <td>使用金属尾狐尾巴的男女替代性行为</td>\n",
       "    </tr>\n",
       "    <tr>\n",
       "      <th>3</th>\n",
       "      <td>Traditional Chinese Painting Burnin' Up Yingke...</td>\n",
       "      <td>O1CN01lfHuuA1D3K2MEM63p_!!160-0-lubanu.jpg</td>\n",
       "      <td>36608</td>\n",
       "      <td>traditional chinese painting burnin' up yingke...</td>\n",
       "      <td>traditional chinese painting burnin up yingkes...</td>\n",
       "      <td>traditional chinese painting burnin yingkesong...</td>\n",
       "      <td>traditional chinese painting burnin yingkesong...</td>\n",
       "      <td>lucky patron paintings decorative traditional ...</td>\n",
       "      <td>lucky patron paintings decorative traditional ...</td>\n",
       "      <td>Traditional Chinese Painting Burnin' Up Yingke...</td>\n",
       "      <td>Yingkesong Landscape Painting Patron Living Ro...</td>\n",
       "      <td>Burnin' Up Yingkesong Landscape Painting Patro...</td>\n",
       "      <td>中华传统绘画烧在延克松露地绘画主办人 客厅绘画老板办公室 幸运装饰墙壁</td>\n",
       "    </tr>\n",
       "    <tr>\n",
       "      <th>4</th>\n",
       "      <td>lgnace Lee Men's Jeans Thick Section Distresse...</td>\n",
       "      <td>TB23FV3afBNTKJjy0FdXXcPpVXa_!!1944606990.jpg</td>\n",
       "      <td>45566</td>\n",
       "      <td>lgnace lee men's jeans thick section distresse...</td>\n",
       "      <td>lgnace lee mens jeans thick section distressed...</td>\n",
       "      <td>lgnace lee mens jeans thick section distressed...</td>\n",
       "      <td>lgnace lee mens jeans thick section distressed...</td>\n",
       "      <td>lee jeans mens tide brand slacksmusic lgnace t...</td>\n",
       "      <td>lee jeans mens tide brand slacksmusic lgnace t...</td>\n",
       "      <td>lgnace Lee Men's Jeans Thick Section Distresse...</td>\n",
       "      <td>Section Distressed Straight Youth Autumn Tide ...</td>\n",
       "      <td>Men's Jeans Thick Section Distressed Straight ...</td>\n",
       "      <td>Lgnace Lee Lee Men的Jeans Thick分会受困于直立青年 秋秋潮的B...</td>\n",
       "    </tr>\n",
       "  </tbody>\n",
       "</table>\n",
       "</div>"
      ],
      "text/plain": [
       "                                             caption  \\\n",
       "0  Tanabata Valentine's Day Shenzhen Bao'an M Nan...   \n",
       "1  Children's Toys Little Girl over 6 Years Old G...   \n",
       "2  sm qing qu Alternative Sex between Men and Wom...   \n",
       "3  Traditional Chinese Painting Burnin' Up Yingke...   \n",
       "4  lgnace Lee Men's Jeans Thick Section Distresse...   \n",
       "\n",
       "                                        product  label  \\\n",
       "0      O1CN01cSoTwD1spJos7ZSF6_!!0-item_pic.jpg  32820   \n",
       "1      O1CN01iI5sGv1vIkV5dfICu_!!0-item_pic.jpg   8326   \n",
       "2       O1CN01xnnyaz248W0n5le2q_!!131027346.jpg  47598   \n",
       "3    O1CN01lfHuuA1D3K2MEM63p_!!160-0-lubanu.jpg  36608   \n",
       "4  TB23FV3afBNTKJjy0FdXXcPpVXa_!!1944606990.jpg  45566   \n",
       "\n",
       "                                        step_1_lower  \\\n",
       "0  tanabata valentine's day shenzhen bao'an m nan...   \n",
       "1  children's toys little girl over 6 years old g...   \n",
       "2  sm qing qu alternative sex between men and wom...   \n",
       "3  traditional chinese painting burnin' up yingke...   \n",
       "4  lgnace lee men's jeans thick section distresse...   \n",
       "\n",
       "                                   step_2_no_sp_char  \\\n",
       "0  tanabata valentines day shenzhen baoan m nansh...   \n",
       "1  childrens toys little girl over 6 years old gi...   \n",
       "2  sm qing qu alternative sex between men and wom...   \n",
       "3  traditional chinese painting burnin up yingkes...   \n",
       "4  lgnace lee mens jeans thick section distressed...   \n",
       "\n",
       "                                      step_3_no_stop  \\\n",
       "0  tanabata valentines day shenzhen baoan nanshan...   \n",
       "1  childrens toys little girl 6 years old girls 3...   \n",
       "2  sm qing qu alternative sex men women metal tai...   \n",
       "3  traditional chinese painting burnin yingkesong...   \n",
       "4  lgnace lee mens jeans thick section distressed...   \n",
       "\n",
       "                                       step_4_no_num  \\\n",
       "0  tanabata valentines day shenzhen baoan nanshan...   \n",
       "1  childrens toys little girl years old girls boy...   \n",
       "2  sm qing qu alternative sex men women metal tai...   \n",
       "3  traditional chinese painting burnin yingkesong...   \n",
       "4  lgnace lee mens jeans thick section distressed...   \n",
       "\n",
       "                                      step_5_no_dupe  \\\n",
       "0  luohu arrangement valentines decorative chest ...   \n",
       "1  years childrens little old boys baby gift chil...   \n",
       "2  tail men fox ting alternative qu sex sai women...   \n",
       "3  lucky patron paintings decorative traditional ...   \n",
       "4  lee jeans mens tide brand slacksmusic lgnace t...   \n",
       "\n",
       "                               step_6_no_len_1_token  \\\n",
       "0  arrangement chest valentines decorative nansha...   \n",
       "1  years childrens little old boys baby gift chil...   \n",
       "2  tail men fox metal alternative qu sex sai wome...   \n",
       "3  lucky patron paintings decorative traditional ...   \n",
       "4  lee jeans mens tide brand slacksmusic lgnace t...   \n",
       "\n",
       "                              caption_crop_first_70%  \\\n",
       "0  Tanabata Valentine's Day Shenzhen Bao'an M Nan...   \n",
       "1  Children's Toys Little Girl over 6 Years Old G...   \n",
       "2  sm qing qu Alternative Sex between Men and Wom...   \n",
       "3  Traditional Chinese Painting Burnin' Up Yingke...   \n",
       "4  lgnace Lee Men's Jeans Thick Section Distresse...   \n",
       "\n",
       "                               caption_crop_last_70%  \\\n",
       "0  M Nanshan Futian Luohu Car Decorative Flowers ...   \n",
       "1  Old Girls 3-9 Boys 7 Students I Day Gift 10 Ch...   \n",
       "2  between Men and Women with Metal Tail Fox Tail...   \n",
       "3  Yingkesong Landscape Painting Patron Living Ro...   \n",
       "4  Section Distressed Straight Youth Autumn Tide ...   \n",
       "\n",
       "                             caption_crop_middle_70%  \\\n",
       "0  Shenzhen Bao'an M Nanshan Futian Luohu Car Dec...   \n",
       "1  over 6 Years Old Girls 3-9 Boys 7 Students I D...   \n",
       "2  Alternative Sex between Men and Women with Met...   \n",
       "3  Burnin' Up Yingkesong Landscape Painting Patro...   \n",
       "4  Men's Jeans Thick Section Distressed Straight ...   \n",
       "\n",
       "                                         captions_cn  \n",
       "0              塔那巴塔情人节 清心宝安 南山福田罗虎 汽车装饰花花花花花花 胸衣布置安排  \n",
       "1      6岁以上的儿童玩具小女孩 3-9 男孩 7 学生I日 学生I日 10 儿童8 婴儿4 拼图  \n",
       "2                                   使用金属尾狐尾巴的男女替代性行为  \n",
       "3                中华传统绘画烧在延克松露地绘画主办人 客厅绘画老板办公室 幸运装饰墙壁  \n",
       "4   Lgnace Lee Lee Men的Jeans Thick分会受困于直立青年 秋秋潮的B...  "
      ]
     },
     "execution_count": 3,
     "metadata": {},
     "output_type": "execute_result"
    }
   ],
   "source": [
    "clean_df.head()"
   ]
  },
  {
   "cell_type": "code",
   "execution_count": 4,
   "metadata": {},
   "outputs": [],
   "source": [
    "# col_to_test =  [c for c in clean_df.columns.values if \"caption\" in c] + [c for c in clean_df.columns.values if \"step\" in c]\n",
    "col_to_test =  [\"caption\"]"
   ]
  },
  {
   "cell_type": "code",
   "execution_count": 5,
   "metadata": {},
   "outputs": [
    {
     "data": {
      "text/plain": [
       "['caption']"
      ]
     },
     "execution_count": 5,
     "metadata": {},
     "output_type": "execute_result"
    }
   ],
   "source": [
    "col_to_test"
   ]
  },
  {
   "cell_type": "code",
   "execution_count": 6,
   "metadata": {},
   "outputs": [
    {
     "name": "stdout",
     "output_type": "stream",
     "text": [
      "load checkpoint from /home/ubuntu/Desktop/Retrieval_aliproduct2_blip_large/save_checkpoint_0.pth\n"
     ]
    }
   ],
   "source": [
    "image_size = 384\n",
    "model_url = '/home/ubuntu/Desktop/Retrieval_aliproduct2_blip_large/save_checkpoint_0.pth'\n",
    "\n",
    "preprocess = transforms.Compose([\n",
    "        transforms.Resize((image_size,image_size),interpolation=InterpolationMode.BICUBIC),\n",
    "        transforms.ToTensor(),\n",
    "        transforms.Normalize((0.48145466, 0.4578275, 0.40821073), (0.26862954, 0.26130258, 0.27577711))\n",
    "        ]) \n",
    "clip_model =ALIPRODUCT_BLIP(model_url,image_size,vit='large')"
   ]
  },
  {
   "cell_type": "code",
   "execution_count": 7,
   "metadata": {},
   "outputs": [],
   "source": [
    "def test_feature(caption_col):\n",
    "    test_loader,df = prepare_data(\"/home/ubuntu/Desktop/CVPR 2022 AliProducts Challenge/code/data/val_data_prompt_clean.csv\",\n",
    "    CONFIG.test_image_data_dir,CONFIG.test_image_data_folder\n",
    "    ,CONFIG.test_image_col,caption_col,100,preprocess,CONFIG.global_random_state,test=True,tokenize=False)\n",
    "    trainer = Trainer(gpus=1)\n",
    "    pred = trainer.predict(clip_model,test_loader)\n",
    "    full_pred = tuple(map(torch.concat, zip(*pred)))\n",
    "    image_embed,text_embed = full_pred\n",
    "    # print(image_embed.size())\n",
    "    # print(text_embed.size())\n",
    "    faiss_index = faiss.IndexFlatIP(256)\n",
    "    print(image_embed.numpy().astype(np.float32).shape)\n",
    "    faiss_index.add(image_embed.numpy().astype(np.float32))\n",
    "    top5_k_e,top5_k_y_pred = faiss_index.search(text_embed.numpy().astype(np.float32),5)\n",
    "    top10_k_e,top10_k_y_pred = faiss_index.search(text_embed.numpy().astype(np.float32),10)\n",
    "    top5_preds = np.array([1 if y_true in y_pred else 0 for y_true,y_pred in zip(df.index.values,top5_k_y_pred)])\n",
    "    print(caption_col,\"num correct pred top 5 k\",sum(top5_preds))\n",
    "    top10_preds = np.array([1 if y_true in y_pred else 0 for y_true,y_pred in zip(df.index.values,top10_k_y_pred)])\n",
    "    print(caption_col,\"num correct pred top 10 k\",sum(top10_preds))\n",
    "\n",
    "    top5_acc = top5_preds[top5_preds ==1].shape[0] / top5_preds.shape[0]\n",
    "    top10_acc = top10_preds[top10_preds ==1].shape[0] / top10_preds.shape[0]\n",
    "    return top5_acc,top10_acc"
   ]
  },
  {
   "cell_type": "code",
   "execution_count": 8,
   "metadata": {},
   "outputs": [
    {
     "name": "stderr",
     "output_type": "stream",
     "text": [
      "GPU available: True, used: True\n",
      "TPU available: False, using: 0 TPU cores\n",
      "IPU available: False, using: 0 IPUs\n",
      "HPU available: False, using: 0 HPUs\n",
      "LOCAL_RANK: 0 - CUDA_VISIBLE_DEVICES: [0,1,2,3]\n"
     ]
    },
    {
     "name": "stdout",
     "output_type": "stream",
     "text": [
      "Predicting DataLoader 0: 100%|██████████| 500/500 [51:41<00:00,  6.20s/it]\n",
      "(50000, 256)\n",
      "caption num correct pred top 5 k 19250\n",
      "caption num correct pred top 10 k 25230\n"
     ]
    }
   ],
   "source": [
    "col_name = []\n",
    "top5_acc_preds = []\n",
    "top10_acc_preds = []\n",
    "for col in col_to_test:\n",
    "    top5_acc,top10_acc = test_feature(col)\n",
    "    col_name.append(col)\n",
    "    top5_acc_preds.append(top5_acc)\n",
    "    top10_acc_preds.append(top10_acc)\n"
   ]
  },
  {
   "cell_type": "code",
   "execution_count": 9,
   "metadata": {},
   "outputs": [],
   "source": [
    "pred_df = {\"caption_clean_method\":col_name,\"top_5\":top5_acc_preds,\"top_10\":top10_acc_preds}"
   ]
  },
  {
   "cell_type": "code",
   "execution_count": 10,
   "metadata": {},
   "outputs": [
    {
     "data": {
      "text/plain": [
       "[0.385]"
      ]
     },
     "execution_count": 10,
     "metadata": {},
     "output_type": "execute_result"
    }
   ],
   "source": [
    "top5_acc_preds"
   ]
  },
  {
   "cell_type": "code",
   "execution_count": 11,
   "metadata": {},
   "outputs": [],
   "source": [
    "pred_df = pd.DataFrame(pred_df)"
   ]
  },
  {
   "cell_type": "code",
   "execution_count": 12,
   "metadata": {},
   "outputs": [
    {
     "data": {
      "text/html": [
       "<div>\n",
       "<style scoped>\n",
       "    .dataframe tbody tr th:only-of-type {\n",
       "        vertical-align: middle;\n",
       "    }\n",
       "\n",
       "    .dataframe tbody tr th {\n",
       "        vertical-align: top;\n",
       "    }\n",
       "\n",
       "    .dataframe thead th {\n",
       "        text-align: right;\n",
       "    }\n",
       "</style>\n",
       "<table border=\"1\" class=\"dataframe\">\n",
       "  <thead>\n",
       "    <tr style=\"text-align: right;\">\n",
       "      <th></th>\n",
       "      <th>caption_clean_method</th>\n",
       "      <th>top_5</th>\n",
       "      <th>top_10</th>\n",
       "    </tr>\n",
       "  </thead>\n",
       "  <tbody>\n",
       "    <tr>\n",
       "      <th>0</th>\n",
       "      <td>caption</td>\n",
       "      <td>0.385</td>\n",
       "      <td>0.5046</td>\n",
       "    </tr>\n",
       "  </tbody>\n",
       "</table>\n",
       "</div>"
      ],
      "text/plain": [
       "  caption_clean_method  top_5  top_10\n",
       "0              caption  0.385  0.5046"
      ]
     },
     "execution_count": 12,
     "metadata": {},
     "output_type": "execute_result"
    }
   ],
   "source": [
    "pred_df"
   ]
  },
  {
   "cell_type": "code",
   "execution_count": null,
   "metadata": {},
   "outputs": [],
   "source": []
  }
 ],
 "metadata": {
  "interpreter": {
   "hash": "caf1c2fcf97217de91eafa76b907d50f9ea378f5ffbee7f571142d119bb6a771"
  },
  "kernelspec": {
   "display_name": "Python 3.9.7 ('base')",
   "language": "python",
   "name": "python3"
  },
  "language_info": {
   "codemirror_mode": {
    "name": "ipython",
    "version": 3
   },
   "file_extension": ".py",
   "mimetype": "text/x-python",
   "name": "python",
   "nbconvert_exporter": "python",
   "pygments_lexer": "ipython3",
   "version": "3.9.7"
  },
  "orig_nbformat": 4
 },
 "nbformat": 4,
 "nbformat_minor": 2
}
