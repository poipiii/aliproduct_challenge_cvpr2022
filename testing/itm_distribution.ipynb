{
 "cells": [
  {
   "cell_type": "code",
   "execution_count": 25,
   "metadata": {},
   "outputs": [],
   "source": [
    "import pickle\n",
    "import os\n",
    "import torch\n",
    "import numpy as np\n",
    "import pandas as pd\n",
    "from tqdm.notebook import tqdm\n",
    "import seaborn as sns\n",
    "import matplotlib.pyplot as plt"
   ]
  },
  {
   "cell_type": "code",
   "execution_count": 26,
   "metadata": {},
   "outputs": [],
   "source": [
    "filename = \"/home/ubuntu/Desktop/CVPR 2022 AliProducts Challenge/code/model/BLIP/blip_train_features_noisy_32_0.pkl\"\n",
    "all_features_1 = torch.load(filename)\n",
    "\n",
    "filename = \"/home/ubuntu/Desktop/CVPR 2022 AliProducts Challenge/code/model/BLIP/blip_train_features_noisy_32_1.pkl\"\n",
    "all_features_2 = torch.load(filename)\n",
    "\n",
    "filename = \"/home/ubuntu/Desktop/CVPR 2022 AliProducts Challenge/code/model/BLIP/blip_train_features_noisy_32_2.pkl\"\n",
    "all_features_3 = torch.load(filename)\n",
    "\n",
    "filename = \"/home/ubuntu/Desktop/CVPR 2022 AliProducts Challenge/code/model/BLIP/blip_train_features_noisy_32_3.pkl\"\n",
    "all_features_4 = torch.load(filename)"
   ]
  },
  {
   "cell_type": "code",
   "execution_count": 27,
   "metadata": {},
   "outputs": [],
   "source": [
    "all_features = all_features_1+all_features_2+all_features_3+all_features_4"
   ]
  },
  {
   "cell_type": "code",
   "execution_count": 28,
   "metadata": {},
   "outputs": [],
   "source": [
    "all_features = torch.concat(all_features).numpy()"
   ]
  },
  {
   "cell_type": "code",
   "execution_count": 29,
   "metadata": {},
   "outputs": [
    {
     "data": {
      "text/plain": [
       "(3600666,)"
      ]
     },
     "execution_count": 29,
     "metadata": {},
     "output_type": "execute_result"
    }
   ],
   "source": [
    "all_features.shape"
   ]
  },
  {
   "cell_type": "code",
   "execution_count": 30,
   "metadata": {},
   "outputs": [
    {
     "data": {
      "image/png": "[encoded data removed]",
      "text/plain": [
       "<Figure size 720x576 with 1 Axes>"
      ]
     },
     "metadata": {
      "needs_background": "light"
     },
     "output_type": "display_data"
    }
   ],
   "source": [
    "p =sns.displot(all_features)\n",
    "p.ax.set_xlabel(\"itm score\")\n",
    "p.fig.set_size_inches(10,8)\n"
   ]
  },
  {
   "cell_type": "code",
   "execution_count": 31,
   "metadata": {},
   "outputs": [
    {
     "name": "stdout",
     "output_type": "stream",
     "text": [
      "number of images at threshold of 0.9 is: 868597\n",
      "number of images at threshold of 0.8 is: 555148\n",
      "number of images at threshold of 0.7 is: 412581\n",
      "number of images at threshold of 0.6 is: 320945\n",
      "number of images at threshold of 0.5 is: 253855\n",
      "number of images at threshold of 0.4 is: 199942\n",
      "number of images at threshold of 0.3 is: 153657\n",
      "number of images at threshold of 0.2 is: 109956\n",
      "number of images at threshold of 0.1 is: 62464\n"
     ]
    }
   ],
   "source": [
    "for t in range(9,0,-1):\n",
    "    print(f\"number of images at threshold of {t/10} is: {all_features[all_features < t/10].shape[0]}\")"
   ]
  },
  {
   "cell_type": "code",
   "execution_count": 32,
   "metadata": {},
   "outputs": [],
   "source": [
    "filename = \"all_itm_score_train_v5.pkl\"\n",
    "file = open(filename,\"wb\")\n",
    "pickle.dump(all_features,file)\n",
    "file.close()"
   ]
  },
  {
   "cell_type": "code",
   "execution_count": null,
   "metadata": {},
   "outputs": [],
   "source": []
  }
 ],
 "metadata": {
  "interpreter": {
   "hash": "1448b48b023bcc9c3d4a79e814720a10ca6d4244f75e0f7ce4af58f96ba2b7d3"
  },
  "kernelspec": {
   "display_name": "Python 3.9.12 ('base')",
   "language": "python",
   "name": "python3"
  },
  "language_info": {
   "codemirror_mode": {
    "name": "ipython",
    "version": 3
   },
   "file_extension": ".py",
   "mimetype": "text/x-python",
   "name": "python",
   "nbconvert_exporter": "python",
   "pygments_lexer": "ipython3",
   "version": "3.9.12"
  },
  "orig_nbformat": 4
 },
 "nbformat": 4,
 "nbformat_minor": 2
}
