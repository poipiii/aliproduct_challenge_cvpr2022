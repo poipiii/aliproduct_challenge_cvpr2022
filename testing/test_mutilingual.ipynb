{
 "cells": [
  {
   "cell_type": "code",
   "execution_count": 1,
   "metadata": {},
   "outputs": [
    {
     "name": "stdout",
     "output_type": "stream",
     "text": [
      "Cloning into 'Multilingual-CLIP'...\n",
      "remote: Enumerating objects: 435, done.\u001b[K\n",
      "remote: Counting objects: 100% (121/121), done.\u001b[K\n",
      "remote: Compressing objects: 100% (112/112), done.\u001b[K\n",
      "remote: Total 435 (delta 61), reused 41 (delta 8), pack-reused 314\u001b[K\n",
      "Receiving objects: 100% (435/435), 7.94 MiB | 17.57 MiB/s, done.\n",
      "Resolving deltas: 100% (200/200), done.\n",
      "/home/ubuntu/Desktop/CVPR 2022 AliProducts Challenge/code/testing/Multilingual-CLIP\n",
      "--2022-05-08 18:50:00--  https://www.dropbox.com/s/s77xw5308jeljlp/Swedish-500k%20Linear%20Weights.pkl\n",
      "Resolving www.dropbox.com (www.dropbox.com)... 162.125.81.18, 2620:100:6031:18::a27d:5112\n",
      "Connecting to www.dropbox.com (www.dropbox.com)|162.125.81.18|:443... connected.\n",
      "HTTP request sent, awaiting response... 301 Moved Permanently\n",
      "Location: /s/raw/s77xw5308jeljlp/Swedish-500k%20Linear%20Weights.pkl [following]\n",
      "--2022-05-08 18:50:01--  https://www.dropbox.com/s/raw/s77xw5308jeljlp/Swedish-500k%20Linear%20Weights.pkl\n",
      "Reusing existing connection to www.dropbox.com:443.\n",
      "HTTP request sent, awaiting response... 302 Found\n",
      "Location: https://uc3e167aaa3e717f347ec1094413.dl.dropboxusercontent.com/cd/0/inline/Bk0Zs4dhXnDByigO_Od6mHwlnCEtCWMUWcsMtONJRg0N9zZ3F1nY4CVqkjYaoPG_EYi18FKBSJvg67jxAln6iPJhElff5-7Mn2kW8khHkwtTNLAzHjxuNOq9TQLYNeGc6UehtAZT-PxYvvEu81ly2cmqDU2BUi4B0RWCbeLKkfxckA/file# [following]\n",
      "--2022-05-08 18:50:01--  https://uc3e167aaa3e717f347ec1094413.dl.dropboxusercontent.com/cd/0/inline/Bk0Zs4dhXnDByigO_Od6mHwlnCEtCWMUWcsMtONJRg0N9zZ3F1nY4CVqkjYaoPG_EYi18FKBSJvg67jxAln6iPJhElff5-7Mn2kW8khHkwtTNLAzHjxuNOq9TQLYNeGc6UehtAZT-PxYvvEu81ly2cmqDU2BUi4B0RWCbeLKkfxckA/file\n",
      "Resolving uc3e167aaa3e717f347ec1094413.dl.dropboxusercontent.com (uc3e167aaa3e717f347ec1094413.dl.dropboxusercontent.com)... 162.125.81.15, 2620:100:6031:15::a27d:510f\n",
      "Connecting to uc3e167aaa3e717f347ec1094413.dl.dropboxusercontent.com (uc3e167aaa3e717f347ec1094413.dl.dropboxusercontent.com)|162.125.81.15|:443... connected.\n",
      "HTTP request sent, awaiting response... 302 Found\n",
      "Location: /cd/0/inline2/Bk27rhi-wy9knOhSxOlnIQoba79Vyy9pxu2P1WN3EVpw090WAbU-DhzDPFtjw6Vf3ND5vo7cpCht-AwJY_IrirO5yYUr-yTeUH4dv8wldSvyWYwtTPD56qUuK8DaqNNvBWuEfyfNmMtaQZRCa_kTlzzuQc0OPWome8Uv4sYv17611admDnuPtoqemfSJMYemSzAGDs62JolTI_7eF6h8hlLBlCs4A2Uo4SfFMkwppuKwyF90-9TY4AevDflo_jivq3LrRw8XKZXee50Og94cEk0CgZEIJbJ0xGh4rttKSwt0pYv_PGFtJS4hVtBWbWeBn-4zcgdct9OtTKp4Mcp42I9YzGZ9QvkV8Z8n_IdjDxHSc84rg3y10GqJVVFMqMAsQFzshFeDpTU6mlOTL38ARLuWrDnMUNkmjL68IciNpc_o7w/file [following]\n",
      "--2022-05-08 18:50:02--  https://uc3e167aaa3e717f347ec1094413.dl.dropboxusercontent.com/cd/0/inline2/Bk27rhi-wy9knOhSxOlnIQoba79Vyy9pxu2P1WN3EVpw090WAbU-DhzDPFtjw6Vf3ND5vo7cpCht-AwJY_IrirO5yYUr-yTeUH4dv8wldSvyWYwtTPD56qUuK8DaqNNvBWuEfyfNmMtaQZRCa_kTlzzuQc0OPWome8Uv4sYv17611admDnuPtoqemfSJMYemSzAGDs62JolTI_7eF6h8hlLBlCs4A2Uo4SfFMkwppuKwyF90-9TY4AevDflo_jivq3LrRw8XKZXee50Og94cEk0CgZEIJbJ0xGh4rttKSwt0pYv_PGFtJS4hVtBWbWeBn-4zcgdct9OtTKp4Mcp42I9YzGZ9QvkV8Z8n_IdjDxHSc84rg3y10GqJVVFMqMAsQFzshFeDpTU6mlOTL38ARLuWrDnMUNkmjL68IciNpc_o7w/file\n",
      "Reusing existing connection to uc3e167aaa3e717f347ec1094413.dl.dropboxusercontent.com:443.\n",
      "HTTP request sent, awaiting response... 200 OK\n",
      "Length: 1968845 (1,9M) [application/octet-stream]\n",
      "Saving to: ‘/home/ubuntu/Desktop/CVPR/Swedish-500k Linear Weights.pkl’\n",
      "\n",
      "Swedish-500k Linear 100%[===================>]   1,88M  5,20MB/s    in 0,4s    \n",
      "\n",
      "2022-05-08 18:50:03 (5,20 MB/s) - ‘/home/ubuntu/Desktop/CVPR/Swedish-500k Linear Weights.pkl’ saved [1968845/1968845]\n",
      "\n",
      "--2022-05-08 18:50:03--  http://2022/\n",
      "Resolving 2022 (2022)... 0.0.7.230\n",
      "Connecting to 2022 (2022)|0.0.7.230|:80... failed: Connection timed out.\n",
      "Retrying.\n",
      "\n",
      "--2022-05-08 18:52:15--  (try: 2)  http://2022/\n",
      "Connecting to 2022 (2022)|0.0.7.230|:80... failed: Connection timed out.\n",
      "Retrying.\n",
      "\n",
      "--2022-05-08 18:54:27--  (try: 3)  http://2022/\n",
      "Connecting to 2022 (2022)|0.0.7.230|:80... failed: Connection timed out.\n",
      "Retrying.\n",
      "\n",
      "--2022-05-08 18:56:41--  (try: 4)  http://2022/\n",
      "Connecting to 2022 (2022)|0.0.7.230|:80... failed: Connection timed out.\n",
      "Retrying.\n",
      "\n",
      "--2022-05-08 18:58:55--  (try: 5)  http://2022/\n",
      "Connecting to 2022 (2022)|0.0.7.230|:80... failed: Connection timed out.\n",
      "Retrying.\n",
      "\n",
      "--2022-05-08 19:01:11--  (try: 6)  http://2022/\n",
      "Connecting to 2022 (2022)|0.0.7.230|:80... failed: Connection timed out.\n",
      "Retrying.\n",
      "\n",
      "--2022-05-08 19:03:27--  (try: 7)  http://2022/\n",
      "Connecting to 2022 (2022)|0.0.7.230|:80... failed: Connection timed out.\n",
      "Retrying.\n",
      "\n",
      "--2022-05-08 19:05:44--  (try: 8)  http://2022/\n",
      "Connecting to 2022 (2022)|0.0.7.230|:80... failed: Connection timed out.\n",
      "Retrying.\n",
      "\n",
      "--2022-05-08 19:08:02--  (try: 9)  http://2022/\n",
      "Connecting to 2022 (2022)|0.0.7.230|:80... ^C\n"
     ]
    }
   ],
   "source": [
    "!git clone https://github.com/FreddeFrallan/Multilingual-CLIP\n",
    "%cd Multilingual-CLIP\n",
    "!bash get-weights.sh"
   ]
  },
  {
   "cell_type": "code",
   "execution_count": null,
   "metadata": {},
   "outputs": [],
   "source": []
  }
 ],
 "metadata": {
  "interpreter": {
   "hash": "caf1c2fcf97217de91eafa76b907d50f9ea378f5ffbee7f571142d119bb6a771"
  },
  "kernelspec": {
   "display_name": "Python 3.9.7 ('base')",
   "language": "python",
   "name": "python3"
  },
  "language_info": {
   "codemirror_mode": {
    "name": "ipython",
    "version": 3
   },
   "file_extension": ".py",
   "mimetype": "text/x-python",
   "name": "python",
   "nbconvert_exporter": "python",
   "pygments_lexer": "ipython3",
   "version": "3.9.7"
  },
  "orig_nbformat": 4
 },
 "nbformat": 4,
 "nbformat_minor": 2
}
