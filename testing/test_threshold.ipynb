{
 "cells": [
  {
   "cell_type": "code",
   "execution_count": 1,
   "metadata": {},
   "outputs": [],
   "source": [
    "import clip\n",
    "import torch\n",
    "from torch.utils.data import Dataset, DataLoader\n",
    "import matplotlib.pyplot as plt\n",
    "from PIL import Image\n",
    "import pandas as pd\n",
    "import numpy as np\n",
    "import pytorch_lightning as pl\n",
    "from pytorch_lightning import Trainer\n",
    "from sklearn.metrics import top_k_accuracy_score\n",
    "from sklearn.model_selection import train_test_split\n",
    "import pickle\n",
    "from tqdm import tqdm\n",
    "import gc\n",
    "import os\n",
    "import pickle\n",
    "import faiss"
   ]
  },
  {
   "cell_type": "code",
   "execution_count": 2,
   "metadata": {},
   "outputs": [],
   "source": [
    "filename = \"../model/all_embed_v1.pkl\"\n",
    "file = open(filename,\"rb\")\n",
    "all_embed = pickle.load(file)\n",
    "file.close()"
   ]
  },
  {
   "cell_type": "code",
   "execution_count": 3,
   "metadata": {},
   "outputs": [
    {
     "data": {
      "text/plain": [
       "(tensor([[-0.0093, -0.0007, -0.0049,  ...,  0.0303,  0.0054, -0.0345],\n",
       "         [-0.0394,  0.0072,  0.0332,  ..., -0.0015,  0.0078, -0.0134],\n",
       "         [-0.0235, -0.0174, -0.0082,  ...,  0.0359, -0.0271,  0.0540],\n",
       "         ...,\n",
       "         [-0.0233,  0.0081, -0.0106,  ...,  0.0153, -0.0103, -0.0308],\n",
       "         [-0.0319, -0.0046,  0.0168,  ..., -0.0310, -0.0147, -0.0012],\n",
       "         [-0.0249, -0.0294, -0.0213,  ...,  0.0529,  0.0008, -0.0197]],\n",
       "        dtype=torch.float16),\n",
       " tensor([[ 0.0536, -0.0213, -0.0109,  ...,  0.0117,  0.0298, -0.0302],\n",
       "         [ 0.0085, -0.0098, -0.0131,  ..., -0.0464, -0.0272,  0.0005],\n",
       "         [-0.0129, -0.0011, -0.0272,  ...,  0.0439, -0.0133,  0.0771],\n",
       "         ...,\n",
       "         [ 0.0180,  0.0174, -0.0088,  ...,  0.0180, -0.0606, -0.0090],\n",
       "         [ 0.0067, -0.0030, -0.0138,  ...,  0.0140, -0.0099,  0.0212],\n",
       "         [ 0.0007,  0.0087, -0.0663,  ...,  0.0461, -0.0167,  0.0593]],\n",
       "        dtype=torch.float16))"
      ]
     },
     "execution_count": 3,
     "metadata": {},
     "output_type": "execute_result"
    }
   ],
   "source": [
    "all_embed"
   ]
  },
  {
   "cell_type": "code",
   "execution_count": null,
   "metadata": {},
   "outputs": [],
   "source": []
  }
 ],
 "metadata": {
  "interpreter": {
   "hash": "caf1c2fcf97217de91eafa76b907d50f9ea378f5ffbee7f571142d119bb6a771"
  },
  "kernelspec": {
   "display_name": "Python 3.9.7 ('base')",
   "language": "python",
   "name": "python3"
  },
  "language_info": {
   "codemirror_mode": {
    "name": "ipython",
    "version": 3
   },
   "file_extension": ".py",
   "mimetype": "text/x-python",
   "name": "python",
   "nbconvert_exporter": "python",
   "pygments_lexer": "ipython3",
   "version": "3.9.7"
  },
  "orig_nbformat": 4
 },
 "nbformat": 4,
 "nbformat_minor": 2
}
