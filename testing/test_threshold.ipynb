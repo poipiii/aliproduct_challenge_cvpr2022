{
 "cells": [
  {
   "cell_type": "code",
   "execution_count": 25,
   "metadata": {},
   "outputs": [],
   "source": [
    "import clip\n",
    "import torch\n",
    "from torch.utils.data import Dataset, DataLoader\n",
    "import matplotlib.pyplot as plt\n",
    "from PIL import Image\n",
    "import pandas as pd\n",
    "import numpy as np\n",
    "import pytorch_lightning as pl\n",
    "from pytorch_lightning import Trainer\n",
    "from sklearn.metrics import top_k_accuracy_score\n",
    "from sklearn.model_selection import train_test_split\n",
    "import pickle\n",
    "from tqdm import tqdm\n",
    "import gc\n",
    "import os\n",
    "import pickle\n",
    "import faiss"
   ]
  },
  {
   "cell_type": "code",
   "execution_count": 26,
   "metadata": {},
   "outputs": [],
   "source": [
    "filename = \"../data/all_itm_score_train_v5.pkl\"\n",
    "file = open(filename,\"rb\")\n",
    "all_embed = pickle.load(file)\n",
    "file.close()"
   ]
  },
  {
   "cell_type": "code",
   "execution_count": 28,
   "metadata": {},
   "outputs": [
    {
     "data": {
      "text/plain": [
       "array([0.9201186 , 0.8298286 , 0.88023335, ..., 0.9497825 , 0.97508734,\n",
       "       0.11721912], dtype=float32)"
      ]
     },
     "execution_count": 28,
     "metadata": {},
     "output_type": "execute_result"
    }
   ],
   "source": [
    "all_embed"
   ]
  },
  {
   "cell_type": "code",
   "execution_count": 29,
   "metadata": {},
   "outputs": [
    {
     "data": {
      "text/plain": [
       "(3600666,)"
      ]
     },
     "execution_count": 29,
     "metadata": {},
     "output_type": "execute_result"
    }
   ],
   "source": [
    "all_embed.shape"
   ]
  },
  {
   "cell_type": "code",
   "execution_count": 30,
   "metadata": {},
   "outputs": [],
   "source": [
    "df = pd.read_csv(\"/home/ubuntu/Desktop/CVPR 2022 AliProducts Challenge/code/data/train_data_v5.csv\")"
   ]
  },
  {
   "cell_type": "code",
   "execution_count": 31,
   "metadata": {},
   "outputs": [
    {
     "data": {
      "text/plain": [
       "(3600666, 13)"
      ]
     },
     "execution_count": 31,
     "metadata": {},
     "output_type": "execute_result"
    }
   ],
   "source": [
    "df.shape"
   ]
  },
  {
   "cell_type": "code",
   "execution_count": 32,
   "metadata": {},
   "outputs": [],
   "source": [
    "df[\"itm_score\"]= all_embed"
   ]
  },
  {
   "cell_type": "code",
   "execution_count": 33,
   "metadata": {},
   "outputs": [
    {
     "data": {
      "text/plain": [
       "0          0.920119\n",
       "1          0.829829\n",
       "2          0.880233\n",
       "3          0.980929\n",
       "4          0.963734\n",
       "             ...   \n",
       "3600661    0.945175\n",
       "3600662    0.982157\n",
       "3600663    0.949782\n",
       "3600664    0.975087\n",
       "3600665    0.117219\n",
       "Name: itm_score, Length: 3600666, dtype: float32"
      ]
     },
     "execution_count": 33,
     "metadata": {},
     "output_type": "execute_result"
    }
   ],
   "source": [
    "df[\"itm_score\"]"
   ]
  },
  {
   "cell_type": "code",
   "execution_count": 34,
   "metadata": {},
   "outputs": [],
   "source": [
    "filtered_df = df[df[\"itm_score\"] > 0.8]"
   ]
  },
  {
   "cell_type": "code",
   "execution_count": 35,
   "metadata": {},
   "outputs": [
    {
     "data": {
      "text/plain": [
       "(3045518, 13)"
      ]
     },
     "execution_count": 35,
     "metadata": {},
     "output_type": "execute_result"
    }
   ],
   "source": [
    "filtered_df.shape"
   ]
  },
  {
   "cell_type": "code",
   "execution_count": null,
   "metadata": {},
   "outputs": [],
   "source": [
    "filtered_df.to_csv(\"../data/train_data_v6_large_08.csv\")"
   ]
  },
  {
   "cell_type": "code",
   "execution_count": 2,
   "metadata": {},
   "outputs": [],
   "source": [
    "df = pd.read_csv(\"/home/ubuntu/Desktop/CVPR 2022 AliProducts Challenge/code/data/train_data_v6_large.csv\")"
   ]
  },
  {
   "cell_type": "code",
   "execution_count": 3,
   "metadata": {},
   "outputs": [
    {
     "data": {
      "text/html": [
       "<div>\n",
       "<style scoped>\n",
       "    .dataframe tbody tr th:only-of-type {\n",
       "        vertical-align: middle;\n",
       "    }\n",
       "\n",
       "    .dataframe tbody tr th {\n",
       "        vertical-align: top;\n",
       "    }\n",
       "\n",
       "    .dataframe thead th {\n",
       "        text-align: right;\n",
       "    }\n",
       "</style>\n",
       "<table border=\"1\" class=\"dataframe\">\n",
       "  <thead>\n",
       "    <tr style=\"text-align: right;\">\n",
       "      <th></th>\n",
       "      <th>Unnamed: 0</th>\n",
       "      <th>Unnamed: 0.1</th>\n",
       "      <th>caption</th>\n",
       "      <th>product</th>\n",
       "      <th>image_file_path</th>\n",
       "      <th>image_parent_folder</th>\n",
       "      <th>image_reletive_folder</th>\n",
       "      <th>caption_word_count</th>\n",
       "      <th>img_ext</th>\n",
       "      <th>full_path</th>\n",
       "      <th>itm_score</th>\n",
       "    </tr>\n",
       "  </thead>\n",
       "  <tbody>\n",
       "    <tr>\n",
       "      <th>0</th>\n",
       "      <td>0</td>\n",
       "      <td>0</td>\n",
       "      <td>Z-Couple Shook His Head Ornaments Doll Car Dec...</td>\n",
       "      <td>O1CN01ogOt7d1DHyjGtaaWT_!!192-0-lubanu.jpg</td>\n",
       "      <td>/home/ubuntu/Desktop/CVPR 2022 AliProducts Cha...</td>\n",
       "      <td>train_text_img_pairs_0/train_text_img_pairs_0_...</td>\n",
       "      <td>train_text_img_pairs_0_compressed/</td>\n",
       "      <td>20</td>\n",
       "      <td>jpg</td>\n",
       "      <td>/home/ubuntu/Desktop/CVPR 2022 AliProducts Cha...</td>\n",
       "      <td>0.943550</td>\n",
       "    </tr>\n",
       "    <tr>\n",
       "      <th>1</th>\n",
       "      <td>1</td>\n",
       "      <td>1</td>\n",
       "      <td>Z Remote Anti-Theft Door Wireless Door Anti-Th...</td>\n",
       "      <td>O1CN01eFgq841CxMtYCpqWF_!!147-0-lubanu.jpg</td>\n",
       "      <td>/home/ubuntu/Desktop/CVPR 2022 AliProducts Cha...</td>\n",
       "      <td>train_text_img_pairs_0/train_text_img_pairs_0_...</td>\n",
       "      <td>train_text_img_pairs_0_compressed/</td>\n",
       "      <td>14</td>\n",
       "      <td>jpg</td>\n",
       "      <td>/home/ubuntu/Desktop/CVPR 2022 AliProducts Cha...</td>\n",
       "      <td>0.541577</td>\n",
       "    </tr>\n",
       "    <tr>\n",
       "      <th>2</th>\n",
       "      <td>2</td>\n",
       "      <td>2</td>\n",
       "      <td>Z Qinghai qing liang Xidan Tip outside Microme...</td>\n",
       "      <td>O1CN01fXCPeA1SzgmI1mVLf_!!2207662892318.jpg</td>\n",
       "      <td>/home/ubuntu/Desktop/CVPR 2022 AliProducts Cha...</td>\n",
       "      <td>train_text_img_pairs_0/train_text_img_pairs_0_...</td>\n",
       "      <td>train_text_img_pairs_0_compressed/</td>\n",
       "      <td>16</td>\n",
       "      <td>jpg</td>\n",
       "      <td>/home/ubuntu/Desktop/CVPR 2022 AliProducts Cha...</td>\n",
       "      <td>0.903737</td>\n",
       "    </tr>\n",
       "    <tr>\n",
       "      <th>3</th>\n",
       "      <td>3</td>\n",
       "      <td>3</td>\n",
       "      <td>Z Magic Incognito Clothes Stack Pants Multi-La...</td>\n",
       "      <td>O1CN01qgixtq1BtPqrInOuX_!!3-0-lubanu.jpg</td>\n",
       "      <td>/home/ubuntu/Desktop/CVPR 2022 AliProducts Cha...</td>\n",
       "      <td>train_text_img_pairs_0/train_text_img_pairs_0_...</td>\n",
       "      <td>train_text_img_pairs_0_compressed/</td>\n",
       "      <td>19</td>\n",
       "      <td>jpg</td>\n",
       "      <td>/home/ubuntu/Desktop/CVPR 2022 AliProducts Cha...</td>\n",
       "      <td>0.969834</td>\n",
       "    </tr>\n",
       "    <tr>\n",
       "      <th>4</th>\n",
       "      <td>4</td>\n",
       "      <td>4</td>\n",
       "      <td>z ge zi yong pin yong ju ge zi zhuang men tie ...</td>\n",
       "      <td>TB1ZqfODEY1gK0jSZFCq6AwqXXa</td>\n",
       "      <td>/home/ubuntu/Desktop/CVPR 2022 AliProducts Cha...</td>\n",
       "      <td>train_text_img_pairs_0/train_text_img_pairs_0_...</td>\n",
       "      <td>train_text_img_pairs_0_compressed/</td>\n",
       "      <td>30</td>\n",
       "      <td>qXXa</td>\n",
       "      <td>/home/ubuntu/Desktop/CVPR 2022 AliProducts Cha...</td>\n",
       "      <td>0.554879</td>\n",
       "    </tr>\n",
       "  </tbody>\n",
       "</table>\n",
       "</div>"
      ],
      "text/plain": [
       "   Unnamed: 0  Unnamed: 0.1  \\\n",
       "0           0             0   \n",
       "1           1             1   \n",
       "2           2             2   \n",
       "3           3             3   \n",
       "4           4             4   \n",
       "\n",
       "                                             caption  \\\n",
       "0  Z-Couple Shook His Head Ornaments Doll Car Dec...   \n",
       "1  Z Remote Anti-Theft Door Wireless Door Anti-Th...   \n",
       "2  Z Qinghai qing liang Xidan Tip outside Microme...   \n",
       "3  Z Magic Incognito Clothes Stack Pants Multi-La...   \n",
       "4  z ge zi yong pin yong ju ge zi zhuang men tie ...   \n",
       "\n",
       "                                       product  \\\n",
       "0   O1CN01ogOt7d1DHyjGtaaWT_!!192-0-lubanu.jpg   \n",
       "1   O1CN01eFgq841CxMtYCpqWF_!!147-0-lubanu.jpg   \n",
       "2  O1CN01fXCPeA1SzgmI1mVLf_!!2207662892318.jpg   \n",
       "3     O1CN01qgixtq1BtPqrInOuX_!!3-0-lubanu.jpg   \n",
       "4                  TB1ZqfODEY1gK0jSZFCq6AwqXXa   \n",
       "\n",
       "                                     image_file_path  \\\n",
       "0  /home/ubuntu/Desktop/CVPR 2022 AliProducts Cha...   \n",
       "1  /home/ubuntu/Desktop/CVPR 2022 AliProducts Cha...   \n",
       "2  /home/ubuntu/Desktop/CVPR 2022 AliProducts Cha...   \n",
       "3  /home/ubuntu/Desktop/CVPR 2022 AliProducts Cha...   \n",
       "4  /home/ubuntu/Desktop/CVPR 2022 AliProducts Cha...   \n",
       "\n",
       "                                 image_parent_folder  \\\n",
       "0  train_text_img_pairs_0/train_text_img_pairs_0_...   \n",
       "1  train_text_img_pairs_0/train_text_img_pairs_0_...   \n",
       "2  train_text_img_pairs_0/train_text_img_pairs_0_...   \n",
       "3  train_text_img_pairs_0/train_text_img_pairs_0_...   \n",
       "4  train_text_img_pairs_0/train_text_img_pairs_0_...   \n",
       "\n",
       "                image_reletive_folder  caption_word_count img_ext  \\\n",
       "0  train_text_img_pairs_0_compressed/                  20     jpg   \n",
       "1  train_text_img_pairs_0_compressed/                  14     jpg   \n",
       "2  train_text_img_pairs_0_compressed/                  16     jpg   \n",
       "3  train_text_img_pairs_0_compressed/                  19     jpg   \n",
       "4  train_text_img_pairs_0_compressed/                  30    qXXa   \n",
       "\n",
       "                                           full_path  itm_score  \n",
       "0  /home/ubuntu/Desktop/CVPR 2022 AliProducts Cha...   0.943550  \n",
       "1  /home/ubuntu/Desktop/CVPR 2022 AliProducts Cha...   0.541577  \n",
       "2  /home/ubuntu/Desktop/CVPR 2022 AliProducts Cha...   0.903737  \n",
       "3  /home/ubuntu/Desktop/CVPR 2022 AliProducts Cha...   0.969834  \n",
       "4  /home/ubuntu/Desktop/CVPR 2022 AliProducts Cha...   0.554879  "
      ]
     },
     "execution_count": 3,
     "metadata": {},
     "output_type": "execute_result"
    }
   ],
   "source": [
    "df.head()"
   ]
  },
  {
   "cell_type": "code",
   "execution_count": 4,
   "metadata": {},
   "outputs": [],
   "source": [
    "df[\"reletive_path\"]= df[\"image_parent_folder\"] + df[\"product\"]"
   ]
  },
  {
   "cell_type": "code",
   "execution_count": 5,
   "metadata": {},
   "outputs": [
    {
     "data": {
      "text/plain": [
       "'train_text_img_pairs_0/train_text_img_pairs_0_compressed/O1CN01ogOt7d1DHyjGtaaWT_!!192-0-lubanu.jpg'"
      ]
     },
     "execution_count": 5,
     "metadata": {},
     "output_type": "execute_result"
    }
   ],
   "source": [
    "df[\"reletive_path\"][0]"
   ]
  },
  {
   "cell_type": "code",
   "execution_count": 7,
   "metadata": {},
   "outputs": [
    {
     "data": {
      "text/plain": [
       "(3600666, 12)"
      ]
     },
     "execution_count": 7,
     "metadata": {},
     "output_type": "execute_result"
    }
   ],
   "source": [
    "df.shape"
   ]
  },
  {
   "cell_type": "code",
   "execution_count": 6,
   "metadata": {},
   "outputs": [],
   "source": [
    "df.to_csv(\"../data/train_data_v6.csv\")"
   ]
  },
  {
   "cell_type": "code",
   "execution_count": null,
   "metadata": {},
   "outputs": [],
   "source": []
  }
 ],
 "metadata": {
  "interpreter": {
   "hash": "caf1c2fcf97217de91eafa76b907d50f9ea378f5ffbee7f571142d119bb6a771"
  },
  "kernelspec": {
   "display_name": "Python 3.9.7 ('base')",
   "language": "python",
   "name": "python3"
  },
  "language_info": {
   "codemirror_mode": {
    "name": "ipython",
    "version": 3
   },
   "file_extension": ".py",
   "mimetype": "text/x-python",
   "name": "python",
   "nbconvert_exporter": "python",
   "pygments_lexer": "ipython3",
   "version": "3.9.7"
  },
  "orig_nbformat": 4
 },
 "nbformat": 4,
 "nbformat_minor": 2
}
