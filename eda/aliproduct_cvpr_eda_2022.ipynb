{
 "cells": [
  {
   "cell_type": "code",
   "execution_count": 23,
   "metadata": {},
   "outputs": [],
   "source": [
    "import pandas as pd\n",
    "import numpy as np \n",
    "import matplotlib.pyplot as plt\n",
    "import json\n",
    "from PIL import Image \n",
    "import pprint\n",
    "import os\n"
   ]
  },
  {
   "cell_type": "code",
   "execution_count": 24,
   "metadata": {},
   "outputs": [],
   "source": [
    "train_data_dirs = []\n",
    "train_data_map = \"../../train.json\"\n",
    "val_data_dir = \"../../val_imgs\"\n",
    "val_data_map = \"../../val.json\""
   ]
  },
  {
   "cell_type": "code",
   "execution_count": 25,
   "metadata": {},
   "outputs": [],
   "source": [
    "with open(train_data_map, 'r') as f:\n",
    "    train_data = json.load(f)\n",
    "with open(val_data_map, 'r') as f:\n",
    "    val_data = json.load(f)"
   ]
  },
  {
   "cell_type": "code",
   "execution_count": 26,
   "metadata": {},
   "outputs": [
    {
     "name": "stdout",
     "output_type": "stream",
     "text": [
      "shape of data (4099419, 2)\n",
      "count of missiing values\n",
      " caption    0\n",
      "product    0\n",
      "dtype: int64\n"
     ]
    },
    {
     "data": {
      "text/html": [
       "<div>\n",
       "<style scoped>\n",
       "    .dataframe tbody tr th:only-of-type {\n",
       "        vertical-align: middle;\n",
       "    }\n",
       "\n",
       "    .dataframe tbody tr th {\n",
       "        vertical-align: top;\n",
       "    }\n",
       "\n",
       "    .dataframe thead th {\n",
       "        text-align: right;\n",
       "    }\n",
       "</style>\n",
       "<table border=\"1\" class=\"dataframe\">\n",
       "  <thead>\n",
       "    <tr style=\"text-align: right;\">\n",
       "      <th></th>\n",
       "      <th>caption</th>\n",
       "      <th>product</th>\n",
       "    </tr>\n",
       "  </thead>\n",
       "  <tbody>\n",
       "    <tr>\n",
       "      <th>0</th>\n",
       "      <td>Z-Couple Shook His Head Ornaments Doll Car Dec...</td>\n",
       "      <td>O1CN01ogOt7d1DHyjGtaaWT_!!192-0-lubanu.jpg</td>\n",
       "    </tr>\n",
       "    <tr>\n",
       "      <th>1</th>\n",
       "      <td>Z Remote Anti-Theft Door Wireless Door Anti-Th...</td>\n",
       "      <td>O1CN01eFgq841CxMtYCpqWF_!!147-0-lubanu.jpg</td>\n",
       "    </tr>\n",
       "    <tr>\n",
       "      <th>2</th>\n",
       "      <td>Z Qinghai qing liang Xidan Tip outside Microme...</td>\n",
       "      <td>O1CN01fXCPeA1SzgmI1mVLf_!!2207662892318.jpg</td>\n",
       "    </tr>\n",
       "    <tr>\n",
       "      <th>3</th>\n",
       "      <td>Z Magic Incognito Clothes Stack Pants Multi-La...</td>\n",
       "      <td>O1CN01qgixtq1BtPqrInOuX_!!3-0-lubanu.jpg</td>\n",
       "    </tr>\n",
       "    <tr>\n",
       "      <th>4</th>\n",
       "      <td>z ge zi yong pin yong ju ge zi zhuang men tie ...</td>\n",
       "      <td>TB1ZqfODEY1gK0jSZFCq6AwqXXa</td>\n",
       "    </tr>\n",
       "  </tbody>\n",
       "</table>\n",
       "</div>"
      ],
      "text/plain": [
       "                                             caption  \\\n",
       "0  Z-Couple Shook His Head Ornaments Doll Car Dec...   \n",
       "1  Z Remote Anti-Theft Door Wireless Door Anti-Th...   \n",
       "2  Z Qinghai qing liang Xidan Tip outside Microme...   \n",
       "3  Z Magic Incognito Clothes Stack Pants Multi-La...   \n",
       "4  z ge zi yong pin yong ju ge zi zhuang men tie ...   \n",
       "\n",
       "                                       product  \n",
       "0   O1CN01ogOt7d1DHyjGtaaWT_!!192-0-lubanu.jpg  \n",
       "1   O1CN01eFgq841CxMtYCpqWF_!!147-0-lubanu.jpg  \n",
       "2  O1CN01fXCPeA1SzgmI1mVLf_!!2207662892318.jpg  \n",
       "3     O1CN01qgixtq1BtPqrInOuX_!!3-0-lubanu.jpg  \n",
       "4                  TB1ZqfODEY1gK0jSZFCq6AwqXXa  "
      ]
     },
     "execution_count": 26,
     "metadata": {},
     "output_type": "execute_result"
    }
   ],
   "source": [
    "train_df = pd.DataFrame(train_data)\n",
    "print(\"shape of data\",train_df.shape)\n",
    "print(\"count of missiing values\\n\",train_df.isna().sum())\n",
    "train_df.head()"
   ]
  },
  {
   "cell_type": "code",
   "execution_count": 27,
   "metadata": {},
   "outputs": [
    {
     "name": "stdout",
     "output_type": "stream",
     "text": [
      "(486971, 2)\n",
      "(483293, 2)\n",
      "(480947, 2)\n",
      "(413462, 2)\n",
      "(415712, 2)\n",
      "(485469, 2)\n",
      "(485522, 2)\n",
      "(424338, 2)\n",
      "(423219, 2)\n"
     ]
    }
   ],
   "source": [
    "all_files_df = []\n",
    "sum_all_img = 0\n",
    "for i in range(9):\n",
    "    file_df = pd.DataFrame()\n",
    "    folder = f\"../../train_text_img_pairs_{i}/train_text_img_pairs_{i}_compressed/\"\n",
    "    file_df[\"product\"] = os.listdir(folder)\n",
    "    file_df[\"image_file_path\"] = folder\n",
    "    print(file_df.shape)\n",
    "    sum_all_img += file_df.shape[0]\n",
    "    all_files_df.append(file_df)\n",
    "\n",
    "all_files_df= pd.concat(all_files_df)"
   ]
  },
  {
   "cell_type": "code",
   "execution_count": null,
   "metadata": {},
   "outputs": [],
   "source": []
  },
  {
   "cell_type": "code",
   "execution_count": 28,
   "metadata": {},
   "outputs": [
    {
     "name": "stdout",
     "output_type": "stream",
     "text": [
      "(4098933, 2)\n"
     ]
    }
   ],
   "source": [
    "all_files_df.head()\n",
    "print(all_files_df.shape)"
   ]
  },
  {
   "cell_type": "code",
   "execution_count": 33,
   "metadata": {},
   "outputs": [],
   "source": [
    "image_df = pd.merge(train_df,all_files_df,on=\"product\",how=\"inner\")"
   ]
  },
  {
   "cell_type": "code",
   "execution_count": 35,
   "metadata": {},
   "outputs": [
    {
     "data": {
      "text/plain": [
       "(4100105, 3)"
      ]
     },
     "execution_count": 35,
     "metadata": {},
     "output_type": "execute_result"
    }
   ],
   "source": [
    "image_df.shape"
   ]
  },
  {
   "cell_type": "code",
   "execution_count": 45,
   "metadata": {},
   "outputs": [
    {
     "data": {
      "text/plain": [
       "caption            64944\n",
       "product            64944\n",
       "image_file_path    64944\n",
       "dtype: int64"
      ]
     },
     "execution_count": 45,
     "metadata": {},
     "output_type": "execute_result"
    }
   ],
   "source": []
  },
  {
   "cell_type": "code",
   "execution_count": null,
   "metadata": {},
   "outputs": [],
   "source": []
  },
  {
   "cell_type": "code",
   "execution_count": 37,
   "metadata": {},
   "outputs": [
    {
     "data": {
      "text/plain": [
       "caption            0\n",
       "product            0\n",
       "image_file_path    0\n",
       "dtype: int64"
      ]
     },
     "execution_count": 37,
     "metadata": {},
     "output_type": "execute_result"
    }
   ],
   "source": [
    "image_df.isna().sum()"
   ]
  },
  {
   "cell_type": "code",
   "execution_count": 34,
   "metadata": {},
   "outputs": [
    {
     "name": "stdout",
     "output_type": "stream",
     "text": [
      "shape of data (50000, 2)\n",
      "count of missiing values\n",
      " caption    0\n",
      "product    0\n",
      "dtype: int64\n"
     ]
    },
    {
     "data": {
      "text/html": [
       "<div>\n",
       "<style scoped>\n",
       "    .dataframe tbody tr th:only-of-type {\n",
       "        vertical-align: middle;\n",
       "    }\n",
       "\n",
       "    .dataframe tbody tr th {\n",
       "        vertical-align: top;\n",
       "    }\n",
       "\n",
       "    .dataframe thead th {\n",
       "        text-align: right;\n",
       "    }\n",
       "</style>\n",
       "<table border=\"1\" class=\"dataframe\">\n",
       "  <thead>\n",
       "    <tr style=\"text-align: right;\">\n",
       "      <th></th>\n",
       "      <th>caption</th>\n",
       "      <th>product</th>\n",
       "    </tr>\n",
       "  </thead>\n",
       "  <tbody>\n",
       "    <tr>\n",
       "      <th>0</th>\n",
       "      <td>Tanabata Valentine's Day Shenzhen Bao'an M Nan...</td>\n",
       "      <td>O1CN01cSoTwD1spJos7ZSF6_!!0-item_pic.jpg</td>\n",
       "    </tr>\n",
       "    <tr>\n",
       "      <th>1</th>\n",
       "      <td>Children's Toys Little Girl over 6 Years Old G...</td>\n",
       "      <td>O1CN01iI5sGv1vIkV5dfICu_!!0-item_pic.jpg</td>\n",
       "    </tr>\n",
       "    <tr>\n",
       "      <th>2</th>\n",
       "      <td>sm qing qu Alternative Sex between Men and Wom...</td>\n",
       "      <td>O1CN01xnnyaz248W0n5le2q_!!131027346.jpg</td>\n",
       "    </tr>\n",
       "    <tr>\n",
       "      <th>3</th>\n",
       "      <td>Traditional Chinese Painting Burnin' Up Yingke...</td>\n",
       "      <td>O1CN01lfHuuA1D3K2MEM63p_!!160-0-lubanu.jpg</td>\n",
       "    </tr>\n",
       "    <tr>\n",
       "      <th>4</th>\n",
       "      <td>lgnace Lee Men's Jeans Thick Section Distresse...</td>\n",
       "      <td>TB23FV3afBNTKJjy0FdXXcPpVXa_!!1944606990.jpg</td>\n",
       "    </tr>\n",
       "  </tbody>\n",
       "</table>\n",
       "</div>"
      ],
      "text/plain": [
       "                                             caption  \\\n",
       "0  Tanabata Valentine's Day Shenzhen Bao'an M Nan...   \n",
       "1  Children's Toys Little Girl over 6 Years Old G...   \n",
       "2  sm qing qu Alternative Sex between Men and Wom...   \n",
       "3  Traditional Chinese Painting Burnin' Up Yingke...   \n",
       "4  lgnace Lee Men's Jeans Thick Section Distresse...   \n",
       "\n",
       "                                        product  \n",
       "0      O1CN01cSoTwD1spJos7ZSF6_!!0-item_pic.jpg  \n",
       "1      O1CN01iI5sGv1vIkV5dfICu_!!0-item_pic.jpg  \n",
       "2       O1CN01xnnyaz248W0n5le2q_!!131027346.jpg  \n",
       "3    O1CN01lfHuuA1D3K2MEM63p_!!160-0-lubanu.jpg  \n",
       "4  TB23FV3afBNTKJjy0FdXXcPpVXa_!!1944606990.jpg  "
      ]
     },
     "execution_count": 34,
     "metadata": {},
     "output_type": "execute_result"
    }
   ],
   "source": [
    "val_df = pd.DataFrame(val_data)\n",
    "print(\"shape of data\",val_df.shape)\n",
    "print(\"count of missiing values\\n\",val_df.isna().sum())\n",
    "val_df.head()"
   ]
  },
  {
   "cell_type": "code",
   "execution_count": 8,
   "metadata": {},
   "outputs": [
    {
     "name": "stdout",
     "output_type": "stream",
     "text": [
      "number of unique labels in train data 3902657\n"
     ]
    }
   ],
   "source": [
    "print(\"number of unique labels in train data\",len(train_df[\"caption\"].unique()))"
   ]
  },
  {
   "cell_type": "code",
   "execution_count": 9,
   "metadata": {},
   "outputs": [
    {
     "name": "stdout",
     "output_type": "stream",
     "text": [
      "number of unique labels in validiation data 49715\n"
     ]
    }
   ],
   "source": [
    "print(\"number of unique labels in validiation data\",len(val_df[\"caption\"].unique()))"
   ]
  },
  {
   "cell_type": "code",
   "execution_count": 10,
   "metadata": {},
   "outputs": [
    {
     "data": {
      "text/plain": [
       "Ghost mie zhi Edge Perimeter mercari Purchasing Direct Mail                                                                     28\n",
       "Magic Fairy War Surrounding Stickers mercari Purchasing Direct Mail                                                             23\n",
       "Off-the-Shelf Japan Imported Second-Hand Inflatable Lighter Have Mars Non-Arcing to Repair Sell Nothing in Return               19\n",
       "Solid Wood Children with Guardrail Little Baby Boys and Girls Princess Bed Single Side Bed Widening Splicing Queen-Size Beds    19\n",
       "Hook Strong zhan jiao tie Wall Wall-Mounted Load-Bearing Chuck Kitchen Hook Incognito Paste Door Free Punch Hook                17\n",
       "                                                                                                                                ..\n",
       "Tea Pot Cup Glass Filter Set Household Canister Purple Tank Tea Boiled Tea Leaf Gansu Tianshui Electric Furnace.                 1\n",
       "Tea Retro Blue Glaze Hand-Painted ju ban Master Cup Kung Fu Tea Mug Tea ya shou bei for Personal Use.                            1\n",
       "Tea Retro jian zhan Semi-automatic Small Household Stone Tea Lazy 6U People Kiln Chinese Suit                                    1\n",
       "Tea More than Treasure Show Storage Tea Room Nine Spaces Bogut Desktop Logs Wall-Mounted Storage Tea Home Court Frame.           1\n",
       "2021 Simple Series Texture Chain Profile Package Commute Daily Bag 440523                                                        1\n",
       "Name: caption, Length: 3902657, dtype: int64"
      ]
     },
     "execution_count": 10,
     "metadata": {},
     "output_type": "execute_result"
    }
   ],
   "source": [
    "train_df[\"caption\"].value_counts()"
   ]
  },
  {
   "cell_type": "code",
   "execution_count": 15,
   "metadata": {},
   "outputs": [
    {
     "data": {
      "text/html": [
       "<div>\n",
       "<style scoped>\n",
       "    .dataframe tbody tr th:only-of-type {\n",
       "        vertical-align: middle;\n",
       "    }\n",
       "\n",
       "    .dataframe tbody tr th {\n",
       "        vertical-align: top;\n",
       "    }\n",
       "\n",
       "    .dataframe thead th {\n",
       "        text-align: right;\n",
       "    }\n",
       "</style>\n",
       "<table border=\"1\" class=\"dataframe\">\n",
       "  <thead>\n",
       "    <tr style=\"text-align: right;\">\n",
       "      <th></th>\n",
       "      <th>caption</th>\n",
       "      <th>product</th>\n",
       "    </tr>\n",
       "  </thead>\n",
       "  <tbody>\n",
       "  </tbody>\n",
       "</table>\n",
       "</div>"
      ],
      "text/plain": [
       "Empty DataFrame\n",
       "Columns: [caption, product]\n",
       "Index: []"
      ]
     },
     "execution_count": 15,
     "metadata": {},
     "output_type": "execute_result"
    }
   ],
   "source": [
    "train_df[train_df[\"product\"].str.slice(-3).isin([\"jpeg\"])]"
   ]
  },
  {
   "cell_type": "code",
   "execution_count": null,
   "metadata": {},
   "outputs": [],
   "source": []
  }
 ],
 "metadata": {
  "interpreter": {
   "hash": "caf1c2fcf97217de91eafa76b907d50f9ea378f5ffbee7f571142d119bb6a771"
  },
  "kernelspec": {
   "display_name": "Python 3.9.7 ('base')",
   "language": "python",
   "name": "python3"
  },
  "language_info": {
   "codemirror_mode": {
    "name": "ipython",
    "version": 3
   },
   "file_extension": ".py",
   "mimetype": "text/x-python",
   "name": "python",
   "nbconvert_exporter": "python",
   "pygments_lexer": "ipython3",
   "version": "3.9.7"
  },
  "orig_nbformat": 4
 },
 "nbformat": 4,
 "nbformat_minor": 2
}
