{
 "cells": [
  {
   "cell_type": "code",
   "execution_count": 1,
   "metadata": {},
   "outputs": [],
   "source": [
    "import pandas as pd\n",
    "import numpy as np \n",
    "import matplotlib.pyplot as plt\n",
    "import json\n",
    "import pprint\n",
    "import os\n",
    "import clip\n",
    "import imagehash\n",
    "import cv2\n",
    "import imagehash\n",
    "from tqdm import tqdm_notebook as tqdm\n",
    "from PIL import Image\n",
    "import pickle\n",
    "import shutil\n",
    "import torch\n"
   ]
  },
  {
   "cell_type": "code",
   "execution_count": 2,
   "metadata": {},
   "outputs": [],
   "source": [
    "train_data_dirs = []\n",
    "\n",
    "# file path to where your train.json is stored in your machine\n",
    "train_data_map = \"../../train.json\"\n",
    "\n",
    "# file path to where your val.json is stored in your machine\n",
    "val_data_map = \"../../val.json\"\n",
    "\n",
    "# file path to the folder where your train images are stored in your machine\n",
    "image_folder_dir = \"/home/ubuntu/Desktop/CVPR 2022 AliProducts Challenge\"\n",
    "\n",
    "# file path to the folder where your validaion images are stored in your machine\n",
    "val_data_dir = \"../../val_imgs\"\n"
   ]
  },
  {
   "cell_type": "code",
   "execution_count": 3,
   "metadata": {},
   "outputs": [],
   "source": [
    "with open(train_data_map, 'r') as f:\n",
    "    train_data = json.load(f)\n",
    "with open(val_data_map, 'r') as f:\n",
    "    val_data = json.load(f)"
   ]
  },
  {
   "cell_type": "code",
   "execution_count": 4,
   "metadata": {},
   "outputs": [
    {
     "name": "stdout",
     "output_type": "stream",
     "text": [
      "shape of data (4099419, 2)\n",
      "count of missiing values\n",
      " caption    0\n",
      "product    0\n",
      "dtype: int64\n"
     ]
    },
    {
     "data": {
      "text/html": [
       "<div>\n",
       "<style scoped>\n",
       "    .dataframe tbody tr th:only-of-type {\n",
       "        vertical-align: middle;\n",
       "    }\n",
       "\n",
       "    .dataframe tbody tr th {\n",
       "        vertical-align: top;\n",
       "    }\n",
       "\n",
       "    .dataframe thead th {\n",
       "        text-align: right;\n",
       "    }\n",
       "</style>\n",
       "<table border=\"1\" class=\"dataframe\">\n",
       "  <thead>\n",
       "    <tr style=\"text-align: right;\">\n",
       "      <th></th>\n",
       "      <th>caption</th>\n",
       "      <th>product</th>\n",
       "    </tr>\n",
       "  </thead>\n",
       "  <tbody>\n",
       "    <tr>\n",
       "      <th>0</th>\n",
       "      <td>Z-Couple Shook His Head Ornaments Doll Car Dec...</td>\n",
       "      <td>O1CN01ogOt7d1DHyjGtaaWT_!!192-0-lubanu.jpg</td>\n",
       "    </tr>\n",
       "    <tr>\n",
       "      <th>1</th>\n",
       "      <td>Z Remote Anti-Theft Door Wireless Door Anti-Th...</td>\n",
       "      <td>O1CN01eFgq841CxMtYCpqWF_!!147-0-lubanu.jpg</td>\n",
       "    </tr>\n",
       "    <tr>\n",
       "      <th>2</th>\n",
       "      <td>Z Qinghai qing liang Xidan Tip outside Microme...</td>\n",
       "      <td>O1CN01fXCPeA1SzgmI1mVLf_!!2207662892318.jpg</td>\n",
       "    </tr>\n",
       "    <tr>\n",
       "      <th>3</th>\n",
       "      <td>Z Magic Incognito Clothes Stack Pants Multi-La...</td>\n",
       "      <td>O1CN01qgixtq1BtPqrInOuX_!!3-0-lubanu.jpg</td>\n",
       "    </tr>\n",
       "    <tr>\n",
       "      <th>4</th>\n",
       "      <td>z ge zi yong pin yong ju ge zi zhuang men tie ...</td>\n",
       "      <td>TB1ZqfODEY1gK0jSZFCq6AwqXXa</td>\n",
       "    </tr>\n",
       "  </tbody>\n",
       "</table>\n",
       "</div>"
      ],
      "text/plain": [
       "                                             caption  \\\n",
       "0  Z-Couple Shook His Head Ornaments Doll Car Dec...   \n",
       "1  Z Remote Anti-Theft Door Wireless Door Anti-Th...   \n",
       "2  Z Qinghai qing liang Xidan Tip outside Microme...   \n",
       "3  Z Magic Incognito Clothes Stack Pants Multi-La...   \n",
       "4  z ge zi yong pin yong ju ge zi zhuang men tie ...   \n",
       "\n",
       "                                       product  \n",
       "0   O1CN01ogOt7d1DHyjGtaaWT_!!192-0-lubanu.jpg  \n",
       "1   O1CN01eFgq841CxMtYCpqWF_!!147-0-lubanu.jpg  \n",
       "2  O1CN01fXCPeA1SzgmI1mVLf_!!2207662892318.jpg  \n",
       "3     O1CN01qgixtq1BtPqrInOuX_!!3-0-lubanu.jpg  \n",
       "4                  TB1ZqfODEY1gK0jSZFCq6AwqXXa  "
      ]
     },
     "execution_count": 4,
     "metadata": {},
     "output_type": "execute_result"
    }
   ],
   "source": [
    "train_df = pd.DataFrame(train_data)\n",
    "print(\"shape of data\",train_df.shape)\n",
    "print(\"count of missiing values\\n\",train_df.isna().sum())\n",
    "train_df.head()"
   ]
  },
  {
   "cell_type": "code",
   "execution_count": 5,
   "metadata": {},
   "outputs": [
    {
     "name": "stdout",
     "output_type": "stream",
     "text": [
      "(486971, 4)\n",
      "(483293, 4)\n",
      "(480947, 4)\n",
      "(413462, 4)\n",
      "(415712, 4)\n",
      "(485469, 4)\n",
      "(485522, 4)\n",
      "(424338, 4)\n",
      "(423219, 4)\n"
     ]
    }
   ],
   "source": [
    "all_files_df = []\n",
    "sum_all_img = 0\n",
    "for i in range(9):\n",
    "    file_df = pd.DataFrame()\n",
    "    folder = f\"{image_folder_dir}/train_text_img_pairs_{i}/train_text_img_pairs_{i}_compressed/\"\n",
    "    file_df[\"product\"] = os.listdir(folder)\n",
    "    file_df[\"image_file_path\"] = folder\n",
    "    file_df[\"image_parent_folder\"] = f\"train_text_img_pairs_{i}/train_text_img_pairs_{i}_compressed/\"\n",
    "    file_df[\"image_reletive_folder\"] = f\"train_text_img_pairs_{i}_compressed/\"\n",
    "\n",
    "\n",
    "    print(file_df.shape)\n",
    "    sum_all_img += file_df.shape[0]\n",
    "    all_files_df.append(file_df)\n",
    "\n",
    "all_files_df= pd.concat(all_files_df)"
   ]
  },
  {
   "cell_type": "code",
   "execution_count": 6,
   "metadata": {},
   "outputs": [
    {
     "name": "stdout",
     "output_type": "stream",
     "text": [
      "(4098933, 4)\n"
     ]
    }
   ],
   "source": [
    "all_files_df.head()\n"
   ]
  },
  {
   "cell_type": "code",
   "execution_count": 7,
   "metadata": {},
   "outputs": [],
   "source": [
    "image_df = pd.merge(train_df,all_files_df,on=\"product\",how=\"inner\")"
   ]
  },
  {
   "cell_type": "code",
   "execution_count": 8,
   "metadata": {},
   "outputs": [
    {
     "data": {
      "text/plain": [
       "(4100105, 5)"
      ]
     },
     "execution_count": 8,
     "metadata": {},
     "output_type": "execute_result"
    }
   ],
   "source": [
    "image_df.shape"
   ]
  },
  {
   "cell_type": "code",
   "execution_count": 9,
   "metadata": {},
   "outputs": [],
   "source": [
    "image_df[\"caption_word_count\"] = image_df[\"caption\"].str.split(\" \").str.len()"
   ]
  },
  {
   "cell_type": "code",
   "execution_count": 10,
   "metadata": {},
   "outputs": [
    {
     "data": {
      "text/plain": [
       "68"
      ]
     },
     "execution_count": 10,
     "metadata": {},
     "output_type": "execute_result"
    }
   ],
   "source": [
    "image_df[\"caption_word_count\"].max()"
   ]
  },
  {
   "cell_type": "code",
   "execution_count": 11,
   "metadata": {},
   "outputs": [
    {
     "data": {
      "text/plain": [
       "1"
      ]
     },
     "execution_count": 11,
     "metadata": {},
     "output_type": "execute_result"
    }
   ],
   "source": [
    "image_df[\"caption_word_count\"].min()"
   ]
  },
  {
   "cell_type": "code",
   "execution_count": 12,
   "metadata": {},
   "outputs": [
    {
     "data": {
      "text/plain": [
       "18.40867075355387"
      ]
     },
     "execution_count": 12,
     "metadata": {},
     "output_type": "execute_result"
    }
   ],
   "source": [
    "image_df[\"caption_word_count\"].mean()"
   ]
  },
  {
   "cell_type": "code",
   "execution_count": 13,
   "metadata": {},
   "outputs": [
    {
     "data": {
      "text/plain": [
       "caption                  0\n",
       "product                  0\n",
       "image_file_path          0\n",
       "image_parent_folder      0\n",
       "image_reletive_folder    0\n",
       "caption_word_count       0\n",
       "dtype: int64"
      ]
     },
     "execution_count": 13,
     "metadata": {},
     "output_type": "execute_result"
    }
   ],
   "source": [
    "image_df.isna().sum()"
   ]
  },
  {
   "cell_type": "code",
   "execution_count": 14,
   "metadata": {},
   "outputs": [
    {
     "data": {
      "text/html": [
       "<div>\n",
       "<style scoped>\n",
       "    .dataframe tbody tr th:only-of-type {\n",
       "        vertical-align: middle;\n",
       "    }\n",
       "\n",
       "    .dataframe tbody tr th {\n",
       "        vertical-align: top;\n",
       "    }\n",
       "\n",
       "    .dataframe thead th {\n",
       "        text-align: right;\n",
       "    }\n",
       "</style>\n",
       "<table border=\"1\" class=\"dataframe\">\n",
       "  <thead>\n",
       "    <tr style=\"text-align: right;\">\n",
       "      <th></th>\n",
       "      <th>caption</th>\n",
       "      <th>product</th>\n",
       "      <th>image_file_path</th>\n",
       "      <th>image_parent_folder</th>\n",
       "      <th>image_reletive_folder</th>\n",
       "      <th>caption_word_count</th>\n",
       "    </tr>\n",
       "  </thead>\n",
       "  <tbody>\n",
       "    <tr>\n",
       "      <th>0</th>\n",
       "      <td>Z-Couple Shook His Head Ornaments Doll Car Dec...</td>\n",
       "      <td>O1CN01ogOt7d1DHyjGtaaWT_!!192-0-lubanu.jpg</td>\n",
       "      <td>/home/ubuntu/Desktop/CVPR 2022 AliProducts Cha...</td>\n",
       "      <td>train_text_img_pairs_0/train_text_img_pairs_0_...</td>\n",
       "      <td>train_text_img_pairs_0_compressed/</td>\n",
       "      <td>20</td>\n",
       "    </tr>\n",
       "    <tr>\n",
       "      <th>1</th>\n",
       "      <td>Z Remote Anti-Theft Door Wireless Door Anti-Th...</td>\n",
       "      <td>O1CN01eFgq841CxMtYCpqWF_!!147-0-lubanu.jpg</td>\n",
       "      <td>/home/ubuntu/Desktop/CVPR 2022 AliProducts Cha...</td>\n",
       "      <td>train_text_img_pairs_0/train_text_img_pairs_0_...</td>\n",
       "      <td>train_text_img_pairs_0_compressed/</td>\n",
       "      <td>14</td>\n",
       "    </tr>\n",
       "    <tr>\n",
       "      <th>2</th>\n",
       "      <td>Z Qinghai qing liang Xidan Tip outside Microme...</td>\n",
       "      <td>O1CN01fXCPeA1SzgmI1mVLf_!!2207662892318.jpg</td>\n",
       "      <td>/home/ubuntu/Desktop/CVPR 2022 AliProducts Cha...</td>\n",
       "      <td>train_text_img_pairs_0/train_text_img_pairs_0_...</td>\n",
       "      <td>train_text_img_pairs_0_compressed/</td>\n",
       "      <td>16</td>\n",
       "    </tr>\n",
       "    <tr>\n",
       "      <th>3</th>\n",
       "      <td>Z Magic Incognito Clothes Stack Pants Multi-La...</td>\n",
       "      <td>O1CN01qgixtq1BtPqrInOuX_!!3-0-lubanu.jpg</td>\n",
       "      <td>/home/ubuntu/Desktop/CVPR 2022 AliProducts Cha...</td>\n",
       "      <td>train_text_img_pairs_0/train_text_img_pairs_0_...</td>\n",
       "      <td>train_text_img_pairs_0_compressed/</td>\n",
       "      <td>19</td>\n",
       "    </tr>\n",
       "    <tr>\n",
       "      <th>4</th>\n",
       "      <td>z ge zi yong pin yong ju ge zi zhuang men tie ...</td>\n",
       "      <td>TB1ZqfODEY1gK0jSZFCq6AwqXXa</td>\n",
       "      <td>/home/ubuntu/Desktop/CVPR 2022 AliProducts Cha...</td>\n",
       "      <td>train_text_img_pairs_0/train_text_img_pairs_0_...</td>\n",
       "      <td>train_text_img_pairs_0_compressed/</td>\n",
       "      <td>30</td>\n",
       "    </tr>\n",
       "  </tbody>\n",
       "</table>\n",
       "</div>"
      ],
      "text/plain": [
       "                                             caption  \\\n",
       "0  Z-Couple Shook His Head Ornaments Doll Car Dec...   \n",
       "1  Z Remote Anti-Theft Door Wireless Door Anti-Th...   \n",
       "2  Z Qinghai qing liang Xidan Tip outside Microme...   \n",
       "3  Z Magic Incognito Clothes Stack Pants Multi-La...   \n",
       "4  z ge zi yong pin yong ju ge zi zhuang men tie ...   \n",
       "\n",
       "                                       product  \\\n",
       "0   O1CN01ogOt7d1DHyjGtaaWT_!!192-0-lubanu.jpg   \n",
       "1   O1CN01eFgq841CxMtYCpqWF_!!147-0-lubanu.jpg   \n",
       "2  O1CN01fXCPeA1SzgmI1mVLf_!!2207662892318.jpg   \n",
       "3     O1CN01qgixtq1BtPqrInOuX_!!3-0-lubanu.jpg   \n",
       "4                  TB1ZqfODEY1gK0jSZFCq6AwqXXa   \n",
       "\n",
       "                                     image_file_path  \\\n",
       "0  /home/ubuntu/Desktop/CVPR 2022 AliProducts Cha...   \n",
       "1  /home/ubuntu/Desktop/CVPR 2022 AliProducts Cha...   \n",
       "2  /home/ubuntu/Desktop/CVPR 2022 AliProducts Cha...   \n",
       "3  /home/ubuntu/Desktop/CVPR 2022 AliProducts Cha...   \n",
       "4  /home/ubuntu/Desktop/CVPR 2022 AliProducts Cha...   \n",
       "\n",
       "                                 image_parent_folder  \\\n",
       "0  train_text_img_pairs_0/train_text_img_pairs_0_...   \n",
       "1  train_text_img_pairs_0/train_text_img_pairs_0_...   \n",
       "2  train_text_img_pairs_0/train_text_img_pairs_0_...   \n",
       "3  train_text_img_pairs_0/train_text_img_pairs_0_...   \n",
       "4  train_text_img_pairs_0/train_text_img_pairs_0_...   \n",
       "\n",
       "                image_reletive_folder  caption_word_count  \n",
       "0  train_text_img_pairs_0_compressed/                  20  \n",
       "1  train_text_img_pairs_0_compressed/                  14  \n",
       "2  train_text_img_pairs_0_compressed/                  16  \n",
       "3  train_text_img_pairs_0_compressed/                  19  \n",
       "4  train_text_img_pairs_0_compressed/                  30  "
      ]
     },
     "execution_count": 14,
     "metadata": {},
     "output_type": "execute_result"
    }
   ],
   "source": [
    "image_df.head()"
   ]
  },
  {
   "cell_type": "code",
   "execution_count": 15,
   "metadata": {},
   "outputs": [],
   "source": [
    "image_df[\"img_ext\"] = image_df[\"product\"].str.slice(-4)\n",
    "image_df[\"img_ext\"] = image_df[\"img_ext\"].str.strip(\".\")"
   ]
  },
  {
   "cell_type": "code",
   "execution_count": 16,
   "metadata": {},
   "outputs": [
    {
     "data": {
      "text/html": [
       "<div>\n",
       "<style scoped>\n",
       "    .dataframe tbody tr th:only-of-type {\n",
       "        vertical-align: middle;\n",
       "    }\n",
       "\n",
       "    .dataframe tbody tr th {\n",
       "        vertical-align: top;\n",
       "    }\n",
       "\n",
       "    .dataframe thead th {\n",
       "        text-align: right;\n",
       "    }\n",
       "</style>\n",
       "<table border=\"1\" class=\"dataframe\">\n",
       "  <thead>\n",
       "    <tr style=\"text-align: right;\">\n",
       "      <th></th>\n",
       "      <th>caption</th>\n",
       "      <th>product</th>\n",
       "      <th>image_file_path</th>\n",
       "      <th>image_parent_folder</th>\n",
       "      <th>image_reletive_folder</th>\n",
       "      <th>caption_word_count</th>\n",
       "      <th>img_ext</th>\n",
       "    </tr>\n",
       "  </thead>\n",
       "  <tbody>\n",
       "    <tr>\n",
       "      <th>1938</th>\n",
       "      <td>.. Baby Leggings Spring and Autumn Cotton Thin...</td>\n",
       "      <td>O1CN01tnRIcl1JAXwDRWnbo_!!4197080988-0-tblite....</td>\n",
       "      <td>/home/ubuntu/Desktop/CVPR 2022 AliProducts Cha...</td>\n",
       "      <td>train_text_img_pairs_0/train_text_img_pairs_0_...</td>\n",
       "      <td>train_text_img_pairs_0_compressed/</td>\n",
       "      <td>20</td>\n",
       "      <td>jpeg</td>\n",
       "    </tr>\n",
       "    <tr>\n",
       "      <th>1977</th>\n",
       "      <td>.. Pajamas Female Autumn and Winter New Plush ...</td>\n",
       "      <td>O1CN016PmuuN1TEnmoBGdRX_!!2206410852351-0-tbli...</td>\n",
       "      <td>/home/ubuntu/Desktop/CVPR 2022 AliProducts Cha...</td>\n",
       "      <td>train_text_img_pairs_0/train_text_img_pairs_0_...</td>\n",
       "      <td>train_text_img_pairs_0_compressed/</td>\n",
       "      <td>17</td>\n",
       "      <td>jpeg</td>\n",
       "    </tr>\n",
       "    <tr>\n",
       "      <th>4212</th>\n",
       "      <td>. Plus Velvet Shirt nv long johns Outer Wear I...</td>\n",
       "      <td>O1CN01ZdRplr241eC1I8rGL_!!2206648367331-0-tbli...</td>\n",
       "      <td>/home/ubuntu/Desktop/CVPR 2022 AliProducts Cha...</td>\n",
       "      <td>train_text_img_pairs_0/train_text_img_pairs_0_...</td>\n",
       "      <td>train_text_img_pairs_0_compressed/</td>\n",
       "      <td>20</td>\n",
       "      <td>jpeg</td>\n",
       "    </tr>\n",
       "    <tr>\n",
       "      <th>4662</th>\n",
       "      <td>. Card Tour Altman Card Blind Box Blind Packag...</td>\n",
       "      <td>O1CN01lpWPj01wu8OZRpFt8_!!2209803276367-0-tbli...</td>\n",
       "      <td>/home/ubuntu/Desktop/CVPR 2022 AliProducts Cha...</td>\n",
       "      <td>train_text_img_pairs_0/train_text_img_pairs_0_...</td>\n",
       "      <td>train_text_img_pairs_0_compressed/</td>\n",
       "      <td>22</td>\n",
       "      <td>jpeg</td>\n",
       "    </tr>\n",
       "    <tr>\n",
       "      <th>9391</th>\n",
       "      <td>. xin kuan man pu fang jian papa dian er tong ...</td>\n",
       "      <td>O1CN01BJ03NN1TLDJr3cxrM_!!2209208362365-0-tbli...</td>\n",
       "      <td>/home/ubuntu/Desktop/CVPR 2022 AliProducts Cha...</td>\n",
       "      <td>train_text_img_pairs_0/train_text_img_pairs_0_...</td>\n",
       "      <td>train_text_img_pairs_0_compressed/</td>\n",
       "      <td>27</td>\n",
       "      <td>jpeg</td>\n",
       "    </tr>\n",
       "    <tr>\n",
       "      <th>...</th>\n",
       "      <td>...</td>\n",
       "      <td>...</td>\n",
       "      <td>...</td>\n",
       "      <td>...</td>\n",
       "      <td>...</td>\n",
       "      <td>...</td>\n",
       "      <td>...</td>\n",
       "    </tr>\n",
       "    <tr>\n",
       "      <th>4081160</th>\n",
       "      <td>Secret Braised Pork in Brown Sauce Ginseng Pig...</td>\n",
       "      <td>O1CN0142JKmB2HGqOQtSkxx_!!2211910599124-0-tbli...</td>\n",
       "      <td>/home/ubuntu/Desktop/CVPR 2022 AliProducts Cha...</td>\n",
       "      <td>train_text_img_pairs_8/train_text_img_pairs_8_...</td>\n",
       "      <td>train_text_img_pairs_8_compressed/</td>\n",
       "      <td>29</td>\n",
       "      <td>jpeg</td>\n",
       "    </tr>\n",
       "    <tr>\n",
       "      <th>4083935</th>\n",
       "      <td>The Air Conditioner Washed Cotton summer quilt...</td>\n",
       "      <td>O1CN01B71N8Q1c7Ju7z83WK_!!2207969863553-0-tbli...</td>\n",
       "      <td>/home/ubuntu/Desktop/CVPR 2022 AliProducts Cha...</td>\n",
       "      <td>train_text_img_pairs_8/train_text_img_pairs_8_...</td>\n",
       "      <td>train_text_img_pairs_8_compressed/</td>\n",
       "      <td>19</td>\n",
       "      <td>jpeg</td>\n",
       "    </tr>\n",
       "    <tr>\n",
       "      <th>4084226</th>\n",
       "      <td>Wear String Artifact Once Wear 49 String Wear ...</td>\n",
       "      <td>O1CN01hANXe22Dhd6yeti38_!!2209450868641-0-tbli...</td>\n",
       "      <td>/home/ubuntu/Desktop/CVPR 2022 AliProducts Cha...</td>\n",
       "      <td>train_text_img_pairs_8/train_text_img_pairs_8_...</td>\n",
       "      <td>train_text_img_pairs_8_compressed/</td>\n",
       "      <td>19</td>\n",
       "      <td>jpeg</td>\n",
       "    </tr>\n",
       "    <tr>\n",
       "      <th>4085311</th>\n",
       "      <td>Curtain Rod Curtain Track Mute Straight Rail W...</td>\n",
       "      <td>O1CN01QpeZcD1EmwzPFnIQ5_!!2612160395.jpeg</td>\n",
       "      <td>/home/ubuntu/Desktop/CVPR 2022 AliProducts Cha...</td>\n",
       "      <td>train_text_img_pairs_8/train_text_img_pairs_8_...</td>\n",
       "      <td>train_text_img_pairs_8_compressed/</td>\n",
       "      <td>19</td>\n",
       "      <td>jpeg</td>\n",
       "    </tr>\n",
       "    <tr>\n",
       "      <th>4090257</th>\n",
       "      <td>2021 the New Tea Maojian Tea Montane Cloud Tea...</td>\n",
       "      <td>O1CN01uLQCH01EHLm06zpp1_!!2209295790326-0-tbli...</td>\n",
       "      <td>/home/ubuntu/Desktop/CVPR 2022 AliProducts Cha...</td>\n",
       "      <td>train_text_img_pairs_8/train_text_img_pairs_8_...</td>\n",
       "      <td>train_text_img_pairs_8_compressed/</td>\n",
       "      <td>17</td>\n",
       "      <td>jpeg</td>\n",
       "    </tr>\n",
       "  </tbody>\n",
       "</table>\n",
       "<p>1551 rows × 7 columns</p>\n",
       "</div>"
      ],
      "text/plain": [
       "                                                   caption  \\\n",
       "1938     .. Baby Leggings Spring and Autumn Cotton Thin...   \n",
       "1977     .. Pajamas Female Autumn and Winter New Plush ...   \n",
       "4212     . Plus Velvet Shirt nv long johns Outer Wear I...   \n",
       "4662     . Card Tour Altman Card Blind Box Blind Packag...   \n",
       "9391     . xin kuan man pu fang jian papa dian er tong ...   \n",
       "...                                                    ...   \n",
       "4081160  Secret Braised Pork in Brown Sauce Ginseng Pig...   \n",
       "4083935  The Air Conditioner Washed Cotton summer quilt...   \n",
       "4084226  Wear String Artifact Once Wear 49 String Wear ...   \n",
       "4085311  Curtain Rod Curtain Track Mute Straight Rail W...   \n",
       "4090257  2021 the New Tea Maojian Tea Montane Cloud Tea...   \n",
       "\n",
       "                                                   product  \\\n",
       "1938     O1CN01tnRIcl1JAXwDRWnbo_!!4197080988-0-tblite....   \n",
       "1977     O1CN016PmuuN1TEnmoBGdRX_!!2206410852351-0-tbli...   \n",
       "4212     O1CN01ZdRplr241eC1I8rGL_!!2206648367331-0-tbli...   \n",
       "4662     O1CN01lpWPj01wu8OZRpFt8_!!2209803276367-0-tbli...   \n",
       "9391     O1CN01BJ03NN1TLDJr3cxrM_!!2209208362365-0-tbli...   \n",
       "...                                                    ...   \n",
       "4081160  O1CN0142JKmB2HGqOQtSkxx_!!2211910599124-0-tbli...   \n",
       "4083935  O1CN01B71N8Q1c7Ju7z83WK_!!2207969863553-0-tbli...   \n",
       "4084226  O1CN01hANXe22Dhd6yeti38_!!2209450868641-0-tbli...   \n",
       "4085311          O1CN01QpeZcD1EmwzPFnIQ5_!!2612160395.jpeg   \n",
       "4090257  O1CN01uLQCH01EHLm06zpp1_!!2209295790326-0-tbli...   \n",
       "\n",
       "                                           image_file_path  \\\n",
       "1938     /home/ubuntu/Desktop/CVPR 2022 AliProducts Cha...   \n",
       "1977     /home/ubuntu/Desktop/CVPR 2022 AliProducts Cha...   \n",
       "4212     /home/ubuntu/Desktop/CVPR 2022 AliProducts Cha...   \n",
       "4662     /home/ubuntu/Desktop/CVPR 2022 AliProducts Cha...   \n",
       "9391     /home/ubuntu/Desktop/CVPR 2022 AliProducts Cha...   \n",
       "...                                                    ...   \n",
       "4081160  /home/ubuntu/Desktop/CVPR 2022 AliProducts Cha...   \n",
       "4083935  /home/ubuntu/Desktop/CVPR 2022 AliProducts Cha...   \n",
       "4084226  /home/ubuntu/Desktop/CVPR 2022 AliProducts Cha...   \n",
       "4085311  /home/ubuntu/Desktop/CVPR 2022 AliProducts Cha...   \n",
       "4090257  /home/ubuntu/Desktop/CVPR 2022 AliProducts Cha...   \n",
       "\n",
       "                                       image_parent_folder  \\\n",
       "1938     train_text_img_pairs_0/train_text_img_pairs_0_...   \n",
       "1977     train_text_img_pairs_0/train_text_img_pairs_0_...   \n",
       "4212     train_text_img_pairs_0/train_text_img_pairs_0_...   \n",
       "4662     train_text_img_pairs_0/train_text_img_pairs_0_...   \n",
       "9391     train_text_img_pairs_0/train_text_img_pairs_0_...   \n",
       "...                                                    ...   \n",
       "4081160  train_text_img_pairs_8/train_text_img_pairs_8_...   \n",
       "4083935  train_text_img_pairs_8/train_text_img_pairs_8_...   \n",
       "4084226  train_text_img_pairs_8/train_text_img_pairs_8_...   \n",
       "4085311  train_text_img_pairs_8/train_text_img_pairs_8_...   \n",
       "4090257  train_text_img_pairs_8/train_text_img_pairs_8_...   \n",
       "\n",
       "                      image_reletive_folder  caption_word_count img_ext  \n",
       "1938     train_text_img_pairs_0_compressed/                  20    jpeg  \n",
       "1977     train_text_img_pairs_0_compressed/                  17    jpeg  \n",
       "4212     train_text_img_pairs_0_compressed/                  20    jpeg  \n",
       "4662     train_text_img_pairs_0_compressed/                  22    jpeg  \n",
       "9391     train_text_img_pairs_0_compressed/                  27    jpeg  \n",
       "...                                     ...                 ...     ...  \n",
       "4081160  train_text_img_pairs_8_compressed/                  29    jpeg  \n",
       "4083935  train_text_img_pairs_8_compressed/                  19    jpeg  \n",
       "4084226  train_text_img_pairs_8_compressed/                  19    jpeg  \n",
       "4085311  train_text_img_pairs_8_compressed/                  19    jpeg  \n",
       "4090257  train_text_img_pairs_8_compressed/                  17    jpeg  \n",
       "\n",
       "[1551 rows x 7 columns]"
      ]
     },
     "execution_count": 16,
     "metadata": {},
     "output_type": "execute_result"
    }
   ],
   "source": [
    "image_df[image_df[\"img_ext\"]==\"jpeg\"]"
   ]
  },
  {
   "cell_type": "code",
   "execution_count": 17,
   "metadata": {},
   "outputs": [
    {
     "data": {
      "text/html": [
       "<div>\n",
       "<style scoped>\n",
       "    .dataframe tbody tr th:only-of-type {\n",
       "        vertical-align: middle;\n",
       "    }\n",
       "\n",
       "    .dataframe tbody tr th {\n",
       "        vertical-align: top;\n",
       "    }\n",
       "\n",
       "    .dataframe thead th {\n",
       "        text-align: right;\n",
       "    }\n",
       "</style>\n",
       "<table border=\"1\" class=\"dataframe\">\n",
       "  <thead>\n",
       "    <tr style=\"text-align: right;\">\n",
       "      <th></th>\n",
       "      <th>caption</th>\n",
       "      <th>product</th>\n",
       "      <th>image_file_path</th>\n",
       "      <th>image_parent_folder</th>\n",
       "      <th>image_reletive_folder</th>\n",
       "      <th>caption_word_count</th>\n",
       "      <th>img_ext</th>\n",
       "    </tr>\n",
       "  </thead>\n",
       "  <tbody>\n",
       "    <tr>\n",
       "      <th>32419</th>\n",
       "      <td>19 The New Harvard M6 Front and Rear Bumpers O...</td>\n",
       "      <td>O1CN01BbfZA81wde3O2SdIO_!!3242356331.gif</td>\n",
       "      <td>/home/ubuntu/Desktop/CVPR 2022 AliProducts Cha...</td>\n",
       "      <td>train_text_img_pairs_0/train_text_img_pairs_0_...</td>\n",
       "      <td>train_text_img_pairs_0_compressed/</td>\n",
       "      <td>21</td>\n",
       "      <td>gif</td>\n",
       "    </tr>\n",
       "    <tr>\n",
       "      <th>38355</th>\n",
       "      <td>Encryption Large Circular Folding Meals Cover ...</td>\n",
       "      <td>TB2tDgLa0.LL1JjSZFEXXcVmXXa_!!158309702.gif</td>\n",
       "      <td>/home/ubuntu/Desktop/CVPR 2022 AliProducts Cha...</td>\n",
       "      <td>train_text_img_pairs_0/train_text_img_pairs_0_...</td>\n",
       "      <td>train_text_img_pairs_0_compressed/</td>\n",
       "      <td>16</td>\n",
       "      <td>gif</td>\n",
       "    </tr>\n",
       "    <tr>\n",
       "      <th>41669</th>\n",
       "      <td>Animation Movement Rule Anime Characters GIF D...</td>\n",
       "      <td>O1CN01WMo47M21J6UgS1Drh_!!2206862136963.gif</td>\n",
       "      <td>/home/ubuntu/Desktop/CVPR 2022 AliProducts Cha...</td>\n",
       "      <td>train_text_img_pairs_0/train_text_img_pairs_0_...</td>\n",
       "      <td>train_text_img_pairs_0_compressed/</td>\n",
       "      <td>17</td>\n",
       "      <td>gif</td>\n",
       "    </tr>\n",
       "    <tr>\n",
       "      <th>52516</th>\n",
       "      <td>21 Autumn and Winter New V-neck Cashmere out C...</td>\n",
       "      <td>O1CN01mjVjil20CP6NLqpox_!!3888736813.gif</td>\n",
       "      <td>/home/ubuntu/Desktop/CVPR 2022 AliProducts Cha...</td>\n",
       "      <td>train_text_img_pairs_0/train_text_img_pairs_0_...</td>\n",
       "      <td>train_text_img_pairs_0_compressed/</td>\n",
       "      <td>19</td>\n",
       "      <td>gif</td>\n",
       "    </tr>\n",
       "    <tr>\n",
       "      <th>61593</th>\n",
       "      <td>36 * 40mm Power Outlet Module Double Control S...</td>\n",
       "      <td>O1CN01FKDwL827vTHQkPdbH_!!226607859.gif</td>\n",
       "      <td>/home/ubuntu/Desktop/CVPR 2022 AliProducts Cha...</td>\n",
       "      <td>train_text_img_pairs_0/train_text_img_pairs_0_...</td>\n",
       "      <td>train_text_img_pairs_0_compressed/</td>\n",
       "      <td>16</td>\n",
       "      <td>gif</td>\n",
       "    </tr>\n",
       "    <tr>\n",
       "      <th>...</th>\n",
       "      <td>...</td>\n",
       "      <td>...</td>\n",
       "      <td>...</td>\n",
       "      <td>...</td>\n",
       "      <td>...</td>\n",
       "      <td>...</td>\n",
       "      <td>...</td>\n",
       "    </tr>\n",
       "    <tr>\n",
       "      <th>4076435</th>\n",
       "      <td>Autumn and Winter New Lapel Sweater Long-Sleev...</td>\n",
       "      <td>O1CN01gv5xjh20CP2jYH4q9_!!3888736813.gif</td>\n",
       "      <td>/home/ubuntu/Desktop/CVPR 2022 AliProducts Cha...</td>\n",
       "      <td>train_text_img_pairs_8/train_text_img_pairs_8_...</td>\n",
       "      <td>train_text_img_pairs_8_compressed/</td>\n",
       "      <td>18</td>\n",
       "      <td>gif</td>\n",
       "    </tr>\n",
       "    <tr>\n",
       "      <th>4076789</th>\n",
       "      <td>qiu dong kuan yang rong shan zhang xiu ban gao...</td>\n",
       "      <td>O1CN01Ke4CM920COyK8U9fe_!!3888736813.gif</td>\n",
       "      <td>/home/ubuntu/Desktop/CVPR 2022 AliProducts Cha...</td>\n",
       "      <td>train_text_img_pairs_8/train_text_img_pairs_8_...</td>\n",
       "      <td>train_text_img_pairs_8_compressed/</td>\n",
       "      <td>30</td>\n",
       "      <td>gif</td>\n",
       "    </tr>\n",
       "    <tr>\n",
       "      <th>4077207</th>\n",
       "      <td>Autumn and Winter Cashmere Sweater Half Turtle...</td>\n",
       "      <td>O1CN01hmth8D1LbEJTwnuQj_!!3848281317.gif</td>\n",
       "      <td>/home/ubuntu/Desktop/CVPR 2022 AliProducts Cha...</td>\n",
       "      <td>train_text_img_pairs_8/train_text_img_pairs_8_...</td>\n",
       "      <td>train_text_img_pairs_8_compressed/</td>\n",
       "      <td>18</td>\n",
       "      <td>gif</td>\n",
       "    </tr>\n",
       "    <tr>\n",
       "      <th>4090249</th>\n",
       "      <td>2021 the New Tea chu xia Charm Tea Yichang Tea...</td>\n",
       "      <td>TB2LyeYbCqJ.eBjy1zbXXbx8FXa_!!2071024595.gif</td>\n",
       "      <td>/home/ubuntu/Desktop/CVPR 2022 AliProducts Cha...</td>\n",
       "      <td>train_text_img_pairs_8/train_text_img_pairs_8_...</td>\n",
       "      <td>train_text_img_pairs_8_compressed/</td>\n",
       "      <td>17</td>\n",
       "      <td>gif</td>\n",
       "    </tr>\n",
       "    <tr>\n",
       "      <th>4093923</th>\n",
       "      <td>2021 Guangzhou Acura CDX Dedicated All-around ...</td>\n",
       "      <td>TB2kbVEbJ3nyKJjSZFEXXXTTFXa_!!2428075441.gif</td>\n",
       "      <td>/home/ubuntu/Desktop/CVPR 2022 AliProducts Cha...</td>\n",
       "      <td>train_text_img_pairs_8/train_text_img_pairs_8_...</td>\n",
       "      <td>train_text_img_pairs_8_compressed/</td>\n",
       "      <td>17</td>\n",
       "      <td>gif</td>\n",
       "    </tr>\n",
       "  </tbody>\n",
       "</table>\n",
       "<p>321 rows × 7 columns</p>\n",
       "</div>"
      ],
      "text/plain": [
       "                                                   caption  \\\n",
       "32419    19 The New Harvard M6 Front and Rear Bumpers O...   \n",
       "38355    Encryption Large Circular Folding Meals Cover ...   \n",
       "41669    Animation Movement Rule Anime Characters GIF D...   \n",
       "52516    21 Autumn and Winter New V-neck Cashmere out C...   \n",
       "61593    36 * 40mm Power Outlet Module Double Control S...   \n",
       "...                                                    ...   \n",
       "4076435  Autumn and Winter New Lapel Sweater Long-Sleev...   \n",
       "4076789  qiu dong kuan yang rong shan zhang xiu ban gao...   \n",
       "4077207  Autumn and Winter Cashmere Sweater Half Turtle...   \n",
       "4090249  2021 the New Tea chu xia Charm Tea Yichang Tea...   \n",
       "4093923  2021 Guangzhou Acura CDX Dedicated All-around ...   \n",
       "\n",
       "                                              product  \\\n",
       "32419        O1CN01BbfZA81wde3O2SdIO_!!3242356331.gif   \n",
       "38355     TB2tDgLa0.LL1JjSZFEXXcVmXXa_!!158309702.gif   \n",
       "41669     O1CN01WMo47M21J6UgS1Drh_!!2206862136963.gif   \n",
       "52516        O1CN01mjVjil20CP6NLqpox_!!3888736813.gif   \n",
       "61593         O1CN01FKDwL827vTHQkPdbH_!!226607859.gif   \n",
       "...                                               ...   \n",
       "4076435      O1CN01gv5xjh20CP2jYH4q9_!!3888736813.gif   \n",
       "4076789      O1CN01Ke4CM920COyK8U9fe_!!3888736813.gif   \n",
       "4077207      O1CN01hmth8D1LbEJTwnuQj_!!3848281317.gif   \n",
       "4090249  TB2LyeYbCqJ.eBjy1zbXXbx8FXa_!!2071024595.gif   \n",
       "4093923  TB2kbVEbJ3nyKJjSZFEXXXTTFXa_!!2428075441.gif   \n",
       "\n",
       "                                           image_file_path  \\\n",
       "32419    /home/ubuntu/Desktop/CVPR 2022 AliProducts Cha...   \n",
       "38355    /home/ubuntu/Desktop/CVPR 2022 AliProducts Cha...   \n",
       "41669    /home/ubuntu/Desktop/CVPR 2022 AliProducts Cha...   \n",
       "52516    /home/ubuntu/Desktop/CVPR 2022 AliProducts Cha...   \n",
       "61593    /home/ubuntu/Desktop/CVPR 2022 AliProducts Cha...   \n",
       "...                                                    ...   \n",
       "4076435  /home/ubuntu/Desktop/CVPR 2022 AliProducts Cha...   \n",
       "4076789  /home/ubuntu/Desktop/CVPR 2022 AliProducts Cha...   \n",
       "4077207  /home/ubuntu/Desktop/CVPR 2022 AliProducts Cha...   \n",
       "4090249  /home/ubuntu/Desktop/CVPR 2022 AliProducts Cha...   \n",
       "4093923  /home/ubuntu/Desktop/CVPR 2022 AliProducts Cha...   \n",
       "\n",
       "                                       image_parent_folder  \\\n",
       "32419    train_text_img_pairs_0/train_text_img_pairs_0_...   \n",
       "38355    train_text_img_pairs_0/train_text_img_pairs_0_...   \n",
       "41669    train_text_img_pairs_0/train_text_img_pairs_0_...   \n",
       "52516    train_text_img_pairs_0/train_text_img_pairs_0_...   \n",
       "61593    train_text_img_pairs_0/train_text_img_pairs_0_...   \n",
       "...                                                    ...   \n",
       "4076435  train_text_img_pairs_8/train_text_img_pairs_8_...   \n",
       "4076789  train_text_img_pairs_8/train_text_img_pairs_8_...   \n",
       "4077207  train_text_img_pairs_8/train_text_img_pairs_8_...   \n",
       "4090249  train_text_img_pairs_8/train_text_img_pairs_8_...   \n",
       "4093923  train_text_img_pairs_8/train_text_img_pairs_8_...   \n",
       "\n",
       "                      image_reletive_folder  caption_word_count img_ext  \n",
       "32419    train_text_img_pairs_0_compressed/                  21     gif  \n",
       "38355    train_text_img_pairs_0_compressed/                  16     gif  \n",
       "41669    train_text_img_pairs_0_compressed/                  17     gif  \n",
       "52516    train_text_img_pairs_0_compressed/                  19     gif  \n",
       "61593    train_text_img_pairs_0_compressed/                  16     gif  \n",
       "...                                     ...                 ...     ...  \n",
       "4076435  train_text_img_pairs_8_compressed/                  18     gif  \n",
       "4076789  train_text_img_pairs_8_compressed/                  30     gif  \n",
       "4077207  train_text_img_pairs_8_compressed/                  18     gif  \n",
       "4090249  train_text_img_pairs_8_compressed/                  17     gif  \n",
       "4093923  train_text_img_pairs_8_compressed/                  17     gif  \n",
       "\n",
       "[321 rows x 7 columns]"
      ]
     },
     "execution_count": 17,
     "metadata": {},
     "output_type": "execute_result"
    }
   ],
   "source": [
    "image_df[image_df[\"img_ext\"]==\"gif\"]"
   ]
  },
  {
   "cell_type": "code",
   "execution_count": 18,
   "metadata": {},
   "outputs": [],
   "source": [
    "image_df_no_gif = image_df.drop(image_df[image_df[\"img_ext\"]==\"gif\"].index)"
   ]
  },
  {
   "cell_type": "code",
   "execution_count": null,
   "metadata": {},
   "outputs": [],
   "source": [
    "image_df_no_gif[\"full_path\"] = image_df_no_gif[\"image_file_path\"]+ image_df_no_gif[\"product\"]"
   ]
  },
  {
   "cell_type": "code",
   "execution_count": null,
   "metadata": {},
   "outputs": [],
   "source": [
    "image_df_no_gif.to_csv(\"train_data_v1.csv\",index=False)"
   ]
  },
  {
   "cell_type": "code",
   "execution_count": 48,
   "metadata": {},
   "outputs": [],
   "source": [
    "\n",
    "# from concurrent.futures import ThreadPoolExecutor\n",
    "# hashes = []\n",
    "# for path in tqdm(all_images_path, total=len(all_images_path)):\n",
    "#     image = cv2.imread(path)\n",
    "#     image = Image.fromarray(image)\n",
    "#     hashes.append(np.array([f(image).hash for f in funcs]).reshape(256))\n",
    "# filename = \"image_hashes.pkl\"\n",
    "# file = open(filename,\"wb\")\n",
    "# pickle.dump(hashes,file)\n",
    "# file.close()\n",
    "\n",
    "\n",
    "# def hash_img(path):\n",
    "#     funcs = [\n",
    "#     imagehash.average_hash,\n",
    "#     imagehash.phash,\n",
    "#     imagehash.dhash,\n",
    "#     imagehash.whash,\n",
    "#     #lambda x: imagehash.whash(x, mode='db4'),\n",
    "#     ]\n",
    "#     image = cv2.imread(path)\n",
    "#     image = Image.fromarray(image)\n",
    "#     hash = np.array([f(image).hash for f in funcs]).reshape(256)\n",
    "#     return hash\n",
    "#all_images_path = image_df_no_gif[\"full_path\"].values\n",
    "# with ThreadPoolExecutor(max_workers=32) as executor:\n",
    "#     hashes = executor.map(hash_img,all_images_path)\n",
    "# filename = \"image_hashes.pkl\"\n",
    "# file = open(filename,\"wb\")\n",
    "# pickle.dump(all_hashes,file)\n",
    "# all_hashes = list(hashes)\n",
    "# file.close()\n"
   ]
  },
  {
   "cell_type": "code",
   "execution_count": 49,
   "metadata": {},
   "outputs": [
    {
     "name": "stdout",
     "output_type": "stream",
     "text": [
      "shape of data (50000, 2)\n",
      "count of missiing values\n",
      " caption    0\n",
      "product    0\n",
      "dtype: int64\n"
     ]
    },
    {
     "data": {
      "text/html": [
       "<div>\n",
       "<style scoped>\n",
       "    .dataframe tbody tr th:only-of-type {\n",
       "        vertical-align: middle;\n",
       "    }\n",
       "\n",
       "    .dataframe tbody tr th {\n",
       "        vertical-align: top;\n",
       "    }\n",
       "\n",
       "    .dataframe thead th {\n",
       "        text-align: right;\n",
       "    }\n",
       "</style>\n",
       "<table border=\"1\" class=\"dataframe\">\n",
       "  <thead>\n",
       "    <tr style=\"text-align: right;\">\n",
       "      <th></th>\n",
       "      <th>caption</th>\n",
       "      <th>product</th>\n",
       "    </tr>\n",
       "  </thead>\n",
       "  <tbody>\n",
       "    <tr>\n",
       "      <th>0</th>\n",
       "      <td>Tanabata Valentine's Day Shenzhen Bao'an M Nan...</td>\n",
       "      <td>O1CN01cSoTwD1spJos7ZSF6_!!0-item_pic.jpg</td>\n",
       "    </tr>\n",
       "    <tr>\n",
       "      <th>1</th>\n",
       "      <td>Children's Toys Little Girl over 6 Years Old G...</td>\n",
       "      <td>O1CN01iI5sGv1vIkV5dfICu_!!0-item_pic.jpg</td>\n",
       "    </tr>\n",
       "    <tr>\n",
       "      <th>2</th>\n",
       "      <td>sm qing qu Alternative Sex between Men and Wom...</td>\n",
       "      <td>O1CN01xnnyaz248W0n5le2q_!!131027346.jpg</td>\n",
       "    </tr>\n",
       "    <tr>\n",
       "      <th>3</th>\n",
       "      <td>Traditional Chinese Painting Burnin' Up Yingke...</td>\n",
       "      <td>O1CN01lfHuuA1D3K2MEM63p_!!160-0-lubanu.jpg</td>\n",
       "    </tr>\n",
       "    <tr>\n",
       "      <th>4</th>\n",
       "      <td>lgnace Lee Men's Jeans Thick Section Distresse...</td>\n",
       "      <td>TB23FV3afBNTKJjy0FdXXcPpVXa_!!1944606990.jpg</td>\n",
       "    </tr>\n",
       "  </tbody>\n",
       "</table>\n",
       "</div>"
      ],
      "text/plain": [
       "                                             caption  \\\n",
       "0  Tanabata Valentine's Day Shenzhen Bao'an M Nan...   \n",
       "1  Children's Toys Little Girl over 6 Years Old G...   \n",
       "2  sm qing qu Alternative Sex between Men and Wom...   \n",
       "3  Traditional Chinese Painting Burnin' Up Yingke...   \n",
       "4  lgnace Lee Men's Jeans Thick Section Distresse...   \n",
       "\n",
       "                                        product  \n",
       "0      O1CN01cSoTwD1spJos7ZSF6_!!0-item_pic.jpg  \n",
       "1      O1CN01iI5sGv1vIkV5dfICu_!!0-item_pic.jpg  \n",
       "2       O1CN01xnnyaz248W0n5le2q_!!131027346.jpg  \n",
       "3    O1CN01lfHuuA1D3K2MEM63p_!!160-0-lubanu.jpg  \n",
       "4  TB23FV3afBNTKJjy0FdXXcPpVXa_!!1944606990.jpg  "
      ]
     },
     "execution_count": 49,
     "metadata": {},
     "output_type": "execute_result"
    }
   ],
   "source": [
    "val_df = pd.DataFrame(val_data)\n",
    "print(\"shape of data\",val_df.shape)\n",
    "print(\"count of missiing values\\n\",val_df.isna().sum())\n",
    "val_df.to_csv(\"../data/val_data_map.csv\")\n",
    "val_df.head()"
   ]
  },
  {
   "cell_type": "code",
   "execution_count": 50,
   "metadata": {},
   "outputs": [
    {
     "data": {
      "text/plain": [
       "391"
      ]
     },
     "execution_count": 50,
     "metadata": {},
     "output_type": "execute_result"
    }
   ],
   "source": [
    "val_df[\"caption_word_count\"] =val_df[\"caption\"].str.len()\n",
    "val_df[\"caption_word_count\"].max()"
   ]
  },
  {
   "cell_type": "code",
   "execution_count": 51,
   "metadata": {},
   "outputs": [
    {
     "name": "stdout",
     "output_type": "stream",
     "text": [
      "number of unique labels in train data 3902657\n"
     ]
    }
   ],
   "source": [
    "print(\"number of unique labels in train data\",len(train_df[\"caption\"].unique()))"
   ]
  },
  {
   "cell_type": "code",
   "execution_count": 52,
   "metadata": {},
   "outputs": [
    {
     "name": "stdout",
     "output_type": "stream",
     "text": [
      "number of unique labels in validiation data 49715\n"
     ]
    }
   ],
   "source": [
    "print(\"number of unique labels in validiation data\",len(val_df[\"caption\"].unique()))"
   ]
  },
  {
   "cell_type": "code",
   "execution_count": 53,
   "metadata": {},
   "outputs": [
    {
     "data": {
      "text/plain": [
       "Ghost mie zhi Edge Perimeter mercari Purchasing Direct Mail                                                                     28\n",
       "Magic Fairy War Surrounding Stickers mercari Purchasing Direct Mail                                                             23\n",
       "Off-the-Shelf Japan Imported Second-Hand Inflatable Lighter Have Mars Non-Arcing to Repair Sell Nothing in Return               19\n",
       "Solid Wood Children with Guardrail Little Baby Boys and Girls Princess Bed Single Side Bed Widening Splicing Queen-Size Beds    19\n",
       "Hook Strong zhan jiao tie Wall Wall-Mounted Load-Bearing Chuck Kitchen Hook Incognito Paste Door Free Punch Hook                17\n",
       "                                                                                                                                ..\n",
       "Tea Pot Cup Glass Filter Set Household Canister Purple Tank Tea Boiled Tea Leaf Gansu Tianshui Electric Furnace.                 1\n",
       "Tea Retro Blue Glaze Hand-Painted ju ban Master Cup Kung Fu Tea Mug Tea ya shou bei for Personal Use.                            1\n",
       "Tea Retro jian zhan Semi-automatic Small Household Stone Tea Lazy 6U People Kiln Chinese Suit                                    1\n",
       "Tea More than Treasure Show Storage Tea Room Nine Spaces Bogut Desktop Logs Wall-Mounted Storage Tea Home Court Frame.           1\n",
       "2021 Simple Series Texture Chain Profile Package Commute Daily Bag 440523                                                        1\n",
       "Name: caption, Length: 3902657, dtype: int64"
      ]
     },
     "execution_count": 53,
     "metadata": {},
     "output_type": "execute_result"
    }
   ],
   "source": [
    "train_df[\"caption\"].value_counts()"
   ]
  },
  {
   "cell_type": "code",
   "execution_count": 3,
   "metadata": {},
   "outputs": [],
   "source": [
    "\n",
    "# filename = \"image_hashes.pkl\"\n",
    "# file = open(filename,\"rb\")\n",
    "# hashes = pickle.load(file)\n",
    "# file.close()"
   ]
  },
  {
   "cell_type": "code",
   "execution_count": 5,
   "metadata": {},
   "outputs": [],
   "source": [
    "# use cuda to speed up\n",
    "# hashes = torch.Tensor(np.array(hashes).astype(int)).cuda()\n",
    "\n",
    "# calc similarity scores\n"
   ]
  },
  {
   "cell_type": "code",
   "execution_count": 6,
   "metadata": {},
   "outputs": [
    {
     "data": {
      "text/plain": [
       "tensor([[1., 1., 1.,  ..., 1., 1., 1.],\n",
       "        [1., 1., 1.,  ..., 1., 1., 1.],\n",
       "        [1., 1., 1.,  ..., 1., 1., 1.],\n",
       "        ...,\n",
       "        [1., 1., 1.,  ..., 1., 1., 1.],\n",
       "        [1., 1., 1.,  ..., 1., 1., 1.],\n",
       "        [1., 1., 1.,  ..., 1., 1., 1.]], device='cuda:0')"
      ]
     },
     "execution_count": 6,
     "metadata": {},
     "output_type": "execute_result"
    }
   ],
   "source": [
    "# hashes"
   ]
  },
  {
   "cell_type": "code",
   "execution_count": 9,
   "metadata": {},
   "outputs": [
    {
     "ename": "RuntimeError",
     "evalue": "CUDA out of memory. Tried to allocate 7.82 GiB (GPU 0; 11.91 GiB total capacity; 4.92 GiB already allocated; 6.20 GiB free; 4.92 GiB reserved in total by PyTorch) If reserved memory is >> allocated memory try setting max_split_size_mb to avoid fragmentation.  See documentation for Memory Management and PYTORCH_CUDA_ALLOC_CONF",
     "output_type": "error",
     "traceback": [
      "\u001b[0;31m---------------------------------------------------------------------------\u001b[0m",
      "\u001b[0;31mRuntimeError\u001b[0m                              Traceback (most recent call last)",
      "\u001b[0;32m/tmp/ipykernel_31453/142315140.py\u001b[0m in \u001b[0;36m<module>\u001b[0;34m\u001b[0m\n\u001b[0;32m----> 1\u001b[0;31m \u001b[0msims\u001b[0m \u001b[0;34m=\u001b[0m \u001b[0mnp\u001b[0m\u001b[0;34m.\u001b[0m\u001b[0marray\u001b[0m\u001b[0;34m(\u001b[0m\u001b[0;34m[\u001b[0m\u001b[0;34m(\u001b[0m\u001b[0mhashes\u001b[0m\u001b[0;34m[\u001b[0m\u001b[0mi\u001b[0m\u001b[0;34m]\u001b[0m \u001b[0;34m==\u001b[0m \u001b[0mhashes\u001b[0m\u001b[0;34m)\u001b[0m\u001b[0;34m.\u001b[0m\u001b[0msum\u001b[0m\u001b[0;34m(\u001b[0m\u001b[0mdim\u001b[0m\u001b[0;34m=\u001b[0m\u001b[0;36m1\u001b[0m\u001b[0;34m)\u001b[0m\u001b[0;34m.\u001b[0m\u001b[0mdetach\u001b[0m\u001b[0;34m(\u001b[0m\u001b[0;34m)\u001b[0m\u001b[0;34m.\u001b[0m\u001b[0mcpu\u001b[0m\u001b[0;34m(\u001b[0m\u001b[0;34m)\u001b[0m\u001b[0;34m.\u001b[0m\u001b[0mnumpy\u001b[0m\u001b[0;34m(\u001b[0m\u001b[0;34m)\u001b[0m\u001b[0;34m/\u001b[0m\u001b[0;36m256\u001b[0m \u001b[0;32mfor\u001b[0m \u001b[0mi\u001b[0m \u001b[0;32min\u001b[0m \u001b[0mrange\u001b[0m\u001b[0;34m(\u001b[0m\u001b[0;36m1\u001b[0m\u001b[0;34m)\u001b[0m\u001b[0;34m]\u001b[0m\u001b[0;34m)\u001b[0m\u001b[0;34m\u001b[0m\u001b[0;34m\u001b[0m\u001b[0m\n\u001b[0m",
      "\u001b[0;32m/tmp/ipykernel_31453/142315140.py\u001b[0m in \u001b[0;36m<listcomp>\u001b[0;34m(.0)\u001b[0m\n\u001b[0;32m----> 1\u001b[0;31m \u001b[0msims\u001b[0m \u001b[0;34m=\u001b[0m \u001b[0mnp\u001b[0m\u001b[0;34m.\u001b[0m\u001b[0marray\u001b[0m\u001b[0;34m(\u001b[0m\u001b[0;34m[\u001b[0m\u001b[0;34m(\u001b[0m\u001b[0mhashes\u001b[0m\u001b[0;34m[\u001b[0m\u001b[0mi\u001b[0m\u001b[0;34m]\u001b[0m \u001b[0;34m==\u001b[0m \u001b[0mhashes\u001b[0m\u001b[0;34m)\u001b[0m\u001b[0;34m.\u001b[0m\u001b[0msum\u001b[0m\u001b[0;34m(\u001b[0m\u001b[0mdim\u001b[0m\u001b[0;34m=\u001b[0m\u001b[0;36m1\u001b[0m\u001b[0;34m)\u001b[0m\u001b[0;34m.\u001b[0m\u001b[0mdetach\u001b[0m\u001b[0;34m(\u001b[0m\u001b[0;34m)\u001b[0m\u001b[0;34m.\u001b[0m\u001b[0mcpu\u001b[0m\u001b[0;34m(\u001b[0m\u001b[0;34m)\u001b[0m\u001b[0;34m.\u001b[0m\u001b[0mnumpy\u001b[0m\u001b[0;34m(\u001b[0m\u001b[0;34m)\u001b[0m\u001b[0;34m/\u001b[0m\u001b[0;36m256\u001b[0m \u001b[0;32mfor\u001b[0m \u001b[0mi\u001b[0m \u001b[0;32min\u001b[0m \u001b[0mrange\u001b[0m\u001b[0;34m(\u001b[0m\u001b[0;36m1\u001b[0m\u001b[0;34m)\u001b[0m\u001b[0;34m]\u001b[0m\u001b[0;34m)\u001b[0m\u001b[0;34m\u001b[0m\u001b[0;34m\u001b[0m\u001b[0m\n\u001b[0m",
      "\u001b[0;31mRuntimeError\u001b[0m: CUDA out of memory. Tried to allocate 7.82 GiB (GPU 0; 11.91 GiB total capacity; 4.92 GiB already allocated; 6.20 GiB free; 4.92 GiB reserved in total by PyTorch) If reserved memory is >> allocated memory try setting max_split_size_mb to avoid fragmentation.  See documentation for Memory Management and PYTORCH_CUDA_ALLOC_CONF"
     ]
    }
   ],
   "source": [
    "# sims = np.array([(hashes[i] == hashes).sum(dim=1).detach().cpu().numpy()/256 for i in range(1)])"
   ]
  },
  {
   "cell_type": "code",
   "execution_count": null,
   "metadata": {},
   "outputs": [],
   "source": []
  }
 ],
 "metadata": {
  "interpreter": {
   "hash": "caf1c2fcf97217de91eafa76b907d50f9ea378f5ffbee7f571142d119bb6a771"
  },
  "kernelspec": {
   "display_name": "Python 3.9.7 ('base')",
   "language": "python",
   "name": "python3"
  },
  "language_info": {
   "codemirror_mode": {
    "name": "ipython",
    "version": 3
   },
   "file_extension": ".py",
   "mimetype": "text/x-python",
   "name": "python",
   "nbconvert_exporter": "python",
   "pygments_lexer": "ipython3",
   "version": "3.9.7"
  },
  "orig_nbformat": 4
 },
 "nbformat": 4,
 "nbformat_minor": 2
}
