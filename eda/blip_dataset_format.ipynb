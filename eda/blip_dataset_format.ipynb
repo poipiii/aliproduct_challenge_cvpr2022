{
 "cells": [
  {
   "cell_type": "code",
   "execution_count": 1,
   "metadata": {},
   "outputs": [],
   "source": [
    "import pandas as pd\n",
    "import json\n",
    "import os"
   ]
  },
  {
   "cell_type": "code",
   "execution_count": 2,
   "metadata": {},
   "outputs": [],
   "source": [
    "train_data_dirs = []\n",
    "#edit this part and change it to the path of your own json file \n",
    "train_data_map = \"../../train.json\"\n",
    "val_data_dir = \"../../val_imgs\"\n",
    "val_data_map = \"../../val.json\"\n",
    "with open(train_data_map, 'r') as f:\n",
    "    train_data = json.load(f)\n",
    "with open(val_data_map, 'r') as f:\n",
    "    val_data = json.load(f)"
   ]
  },
  {
   "cell_type": "code",
   "execution_count": 3,
   "metadata": {},
   "outputs": [
    {
     "name": "stdout",
     "output_type": "stream",
     "text": [
      "(486971, 3)\n",
      "(483293, 3)\n",
      "(480947, 3)\n",
      "(413462, 3)\n",
      "(415712, 3)\n",
      "(485469, 3)\n",
      "(485522, 3)\n",
      "(424338, 3)\n",
      "(423219, 3)\n"
     ]
    }
   ],
   "source": [
    "all_files_df = []\n",
    "sum_all_img = 0\n",
    "for i in range(9):\n",
    "    file_df = pd.DataFrame()\n",
    "    #edit here with your own image full path \n",
    "    folder = f\"/home/ubuntu/Desktop/CVPR 2022 AliProducts Challenge/train_text_img_pairs_{i}/train_text_img_pairs_{i}_compressed/\"\n",
    "    file_df[\"product\"] = os.listdir(folder)\n",
    "    file_df[\"image_file_path\"] = folder\n",
    "    file_df[\"image_parent_folder\"] = f\"train_text_img_pairs_{i}/train_text_img_pairs_{i}_compressed/\"\n",
    "\n",
    "    print(file_df.shape)\n",
    "    sum_all_img += file_df.shape[0]\n",
    "    all_files_df.append(file_df)\n",
    "\n",
    "all_files_df= pd.concat(all_files_df)\n",
    "train_df = pd.DataFrame(train_data)\n",
    "image_df = pd.merge(train_df,all_files_df,on=\"product\",how=\"inner\")"
   ]
  },
  {
   "cell_type": "code",
   "execution_count": 4,
   "metadata": {},
   "outputs": [],
   "source": [
    "image_df[\"img_ext\"] = image_df[\"product\"].str.slice(-4)\n",
    "image_df[\"img_ext\"] = image_df[\"img_ext\"].str.strip(\".\")\n",
    "image_df_no_gif = image_df.drop(image_df[image_df[\"img_ext\"]==\"gif\"].index)\n",
    "image_df_no_gif[\"full_path\"] = image_df_no_gif[\"image_file_path\"]+ image_df_no_gif[\"product\"]\n",
    "image_df_no_gif.to_csv(\"train_data_v1.csv\",index=False)"
   ]
  },
  {
   "cell_type": "code",
   "execution_count": 5,
   "metadata": {},
   "outputs": [],
   "source": [
    "val_df = pd.DataFrame(val_data)\n",
    "val_df.to_csv(\"../data/val_data_map.csv\")"
   ]
  },
  {
   "cell_type": "code",
   "execution_count": 6,
   "metadata": {},
   "outputs": [
    {
     "data": {
      "text/html": [
       "<div>\n",
       "<style scoped>\n",
       "    .dataframe tbody tr th:only-of-type {\n",
       "        vertical-align: middle;\n",
       "    }\n",
       "\n",
       "    .dataframe tbody tr th {\n",
       "        vertical-align: top;\n",
       "    }\n",
       "\n",
       "    .dataframe thead th {\n",
       "        text-align: right;\n",
       "    }\n",
       "</style>\n",
       "<table border=\"1\" class=\"dataframe\">\n",
       "  <thead>\n",
       "    <tr style=\"text-align: right;\">\n",
       "      <th></th>\n",
       "      <th>caption</th>\n",
       "      <th>product</th>\n",
       "      <th>image_file_path</th>\n",
       "      <th>image_parent_folder</th>\n",
       "      <th>img_ext</th>\n",
       "      <th>full_path</th>\n",
       "    </tr>\n",
       "  </thead>\n",
       "  <tbody>\n",
       "    <tr>\n",
       "      <th>0</th>\n",
       "      <td>Z-Couple Shook His Head Ornaments Doll Car Dec...</td>\n",
       "      <td>O1CN01ogOt7d1DHyjGtaaWT_!!192-0-lubanu.jpg</td>\n",
       "      <td>/home/ubuntu/Desktop/CVPR 2022 AliProducts Cha...</td>\n",
       "      <td>train_text_img_pairs_0/train_text_img_pairs_0_...</td>\n",
       "      <td>jpg</td>\n",
       "      <td>/home/ubuntu/Desktop/CVPR 2022 AliProducts Cha...</td>\n",
       "    </tr>\n",
       "    <tr>\n",
       "      <th>1</th>\n",
       "      <td>Z Remote Anti-Theft Door Wireless Door Anti-Th...</td>\n",
       "      <td>O1CN01eFgq841CxMtYCpqWF_!!147-0-lubanu.jpg</td>\n",
       "      <td>/home/ubuntu/Desktop/CVPR 2022 AliProducts Cha...</td>\n",
       "      <td>train_text_img_pairs_0/train_text_img_pairs_0_...</td>\n",
       "      <td>jpg</td>\n",
       "      <td>/home/ubuntu/Desktop/CVPR 2022 AliProducts Cha...</td>\n",
       "    </tr>\n",
       "    <tr>\n",
       "      <th>2</th>\n",
       "      <td>Z Qinghai qing liang Xidan Tip outside Microme...</td>\n",
       "      <td>O1CN01fXCPeA1SzgmI1mVLf_!!2207662892318.jpg</td>\n",
       "      <td>/home/ubuntu/Desktop/CVPR 2022 AliProducts Cha...</td>\n",
       "      <td>train_text_img_pairs_0/train_text_img_pairs_0_...</td>\n",
       "      <td>jpg</td>\n",
       "      <td>/home/ubuntu/Desktop/CVPR 2022 AliProducts Cha...</td>\n",
       "    </tr>\n",
       "    <tr>\n",
       "      <th>3</th>\n",
       "      <td>Z Magic Incognito Clothes Stack Pants Multi-La...</td>\n",
       "      <td>O1CN01qgixtq1BtPqrInOuX_!!3-0-lubanu.jpg</td>\n",
       "      <td>/home/ubuntu/Desktop/CVPR 2022 AliProducts Cha...</td>\n",
       "      <td>train_text_img_pairs_0/train_text_img_pairs_0_...</td>\n",
       "      <td>jpg</td>\n",
       "      <td>/home/ubuntu/Desktop/CVPR 2022 AliProducts Cha...</td>\n",
       "    </tr>\n",
       "    <tr>\n",
       "      <th>4</th>\n",
       "      <td>z ge zi yong pin yong ju ge zi zhuang men tie ...</td>\n",
       "      <td>TB1ZqfODEY1gK0jSZFCq6AwqXXa</td>\n",
       "      <td>/home/ubuntu/Desktop/CVPR 2022 AliProducts Cha...</td>\n",
       "      <td>train_text_img_pairs_0/train_text_img_pairs_0_...</td>\n",
       "      <td>qXXa</td>\n",
       "      <td>/home/ubuntu/Desktop/CVPR 2022 AliProducts Cha...</td>\n",
       "    </tr>\n",
       "  </tbody>\n",
       "</table>\n",
       "</div>"
      ],
      "text/plain": [
       "                                             caption  \\\n",
       "0  Z-Couple Shook His Head Ornaments Doll Car Dec...   \n",
       "1  Z Remote Anti-Theft Door Wireless Door Anti-Th...   \n",
       "2  Z Qinghai qing liang Xidan Tip outside Microme...   \n",
       "3  Z Magic Incognito Clothes Stack Pants Multi-La...   \n",
       "4  z ge zi yong pin yong ju ge zi zhuang men tie ...   \n",
       "\n",
       "                                       product  \\\n",
       "0   O1CN01ogOt7d1DHyjGtaaWT_!!192-0-lubanu.jpg   \n",
       "1   O1CN01eFgq841CxMtYCpqWF_!!147-0-lubanu.jpg   \n",
       "2  O1CN01fXCPeA1SzgmI1mVLf_!!2207662892318.jpg   \n",
       "3     O1CN01qgixtq1BtPqrInOuX_!!3-0-lubanu.jpg   \n",
       "4                  TB1ZqfODEY1gK0jSZFCq6AwqXXa   \n",
       "\n",
       "                                     image_file_path  \\\n",
       "0  /home/ubuntu/Desktop/CVPR 2022 AliProducts Cha...   \n",
       "1  /home/ubuntu/Desktop/CVPR 2022 AliProducts Cha...   \n",
       "2  /home/ubuntu/Desktop/CVPR 2022 AliProducts Cha...   \n",
       "3  /home/ubuntu/Desktop/CVPR 2022 AliProducts Cha...   \n",
       "4  /home/ubuntu/Desktop/CVPR 2022 AliProducts Cha...   \n",
       "\n",
       "                                 image_parent_folder img_ext  \\\n",
       "0  train_text_img_pairs_0/train_text_img_pairs_0_...     jpg   \n",
       "1  train_text_img_pairs_0/train_text_img_pairs_0_...     jpg   \n",
       "2  train_text_img_pairs_0/train_text_img_pairs_0_...     jpg   \n",
       "3  train_text_img_pairs_0/train_text_img_pairs_0_...     jpg   \n",
       "4  train_text_img_pairs_0/train_text_img_pairs_0_...    qXXa   \n",
       "\n",
       "                                           full_path  \n",
       "0  /home/ubuntu/Desktop/CVPR 2022 AliProducts Cha...  \n",
       "1  /home/ubuntu/Desktop/CVPR 2022 AliProducts Cha...  \n",
       "2  /home/ubuntu/Desktop/CVPR 2022 AliProducts Cha...  \n",
       "3  /home/ubuntu/Desktop/CVPR 2022 AliProducts Cha...  \n",
       "4  /home/ubuntu/Desktop/CVPR 2022 AliProducts Cha...  "
      ]
     },
     "execution_count": 6,
     "metadata": {},
     "output_type": "execute_result"
    }
   ],
   "source": [
    "train_df = pd.read_csv(\"train_data_v1.csv\")\n",
    "train_df.head()"
   ]
  },
  {
   "cell_type": "code",
   "execution_count": 7,
   "metadata": {},
   "outputs": [
    {
     "data": {
      "text/html": [
       "<div>\n",
       "<style scoped>\n",
       "    .dataframe tbody tr th:only-of-type {\n",
       "        vertical-align: middle;\n",
       "    }\n",
       "\n",
       "    .dataframe tbody tr th {\n",
       "        vertical-align: top;\n",
       "    }\n",
       "\n",
       "    .dataframe thead th {\n",
       "        text-align: right;\n",
       "    }\n",
       "</style>\n",
       "<table border=\"1\" class=\"dataframe\">\n",
       "  <thead>\n",
       "    <tr style=\"text-align: right;\">\n",
       "      <th></th>\n",
       "      <th>caption</th>\n",
       "      <th>product</th>\n",
       "      <th>image_file_path</th>\n",
       "      <th>image_parent_folder</th>\n",
       "      <th>img_ext</th>\n",
       "      <th>full_path</th>\n",
       "      <th>image</th>\n",
       "    </tr>\n",
       "  </thead>\n",
       "  <tbody>\n",
       "    <tr>\n",
       "      <th>0</th>\n",
       "      <td>Z-Couple Shook His Head Ornaments Doll Car Dec...</td>\n",
       "      <td>O1CN01ogOt7d1DHyjGtaaWT_!!192-0-lubanu.jpg</td>\n",
       "      <td>/home/ubuntu/Desktop/CVPR 2022 AliProducts Cha...</td>\n",
       "      <td>train_text_img_pairs_0/train_text_img_pairs_0_...</td>\n",
       "      <td>jpg</td>\n",
       "      <td>/home/ubuntu/Desktop/CVPR 2022 AliProducts Cha...</td>\n",
       "      <td>train_text_img_pairs_0/train_text_img_pairs_0_...</td>\n",
       "    </tr>\n",
       "    <tr>\n",
       "      <th>1</th>\n",
       "      <td>Z Remote Anti-Theft Door Wireless Door Anti-Th...</td>\n",
       "      <td>O1CN01eFgq841CxMtYCpqWF_!!147-0-lubanu.jpg</td>\n",
       "      <td>/home/ubuntu/Desktop/CVPR 2022 AliProducts Cha...</td>\n",
       "      <td>train_text_img_pairs_0/train_text_img_pairs_0_...</td>\n",
       "      <td>jpg</td>\n",
       "      <td>/home/ubuntu/Desktop/CVPR 2022 AliProducts Cha...</td>\n",
       "      <td>train_text_img_pairs_0/train_text_img_pairs_0_...</td>\n",
       "    </tr>\n",
       "    <tr>\n",
       "      <th>2</th>\n",
       "      <td>Z Qinghai qing liang Xidan Tip outside Microme...</td>\n",
       "      <td>O1CN01fXCPeA1SzgmI1mVLf_!!2207662892318.jpg</td>\n",
       "      <td>/home/ubuntu/Desktop/CVPR 2022 AliProducts Cha...</td>\n",
       "      <td>train_text_img_pairs_0/train_text_img_pairs_0_...</td>\n",
       "      <td>jpg</td>\n",
       "      <td>/home/ubuntu/Desktop/CVPR 2022 AliProducts Cha...</td>\n",
       "      <td>train_text_img_pairs_0/train_text_img_pairs_0_...</td>\n",
       "    </tr>\n",
       "    <tr>\n",
       "      <th>3</th>\n",
       "      <td>Z Magic Incognito Clothes Stack Pants Multi-La...</td>\n",
       "      <td>O1CN01qgixtq1BtPqrInOuX_!!3-0-lubanu.jpg</td>\n",
       "      <td>/home/ubuntu/Desktop/CVPR 2022 AliProducts Cha...</td>\n",
       "      <td>train_text_img_pairs_0/train_text_img_pairs_0_...</td>\n",
       "      <td>jpg</td>\n",
       "      <td>/home/ubuntu/Desktop/CVPR 2022 AliProducts Cha...</td>\n",
       "      <td>train_text_img_pairs_0/train_text_img_pairs_0_...</td>\n",
       "    </tr>\n",
       "    <tr>\n",
       "      <th>4</th>\n",
       "      <td>z ge zi yong pin yong ju ge zi zhuang men tie ...</td>\n",
       "      <td>TB1ZqfODEY1gK0jSZFCq6AwqXXa</td>\n",
       "      <td>/home/ubuntu/Desktop/CVPR 2022 AliProducts Cha...</td>\n",
       "      <td>train_text_img_pairs_0/train_text_img_pairs_0_...</td>\n",
       "      <td>qXXa</td>\n",
       "      <td>/home/ubuntu/Desktop/CVPR 2022 AliProducts Cha...</td>\n",
       "      <td>train_text_img_pairs_0/train_text_img_pairs_0_...</td>\n",
       "    </tr>\n",
       "  </tbody>\n",
       "</table>\n",
       "</div>"
      ],
      "text/plain": [
       "                                             caption  \\\n",
       "0  Z-Couple Shook His Head Ornaments Doll Car Dec...   \n",
       "1  Z Remote Anti-Theft Door Wireless Door Anti-Th...   \n",
       "2  Z Qinghai qing liang Xidan Tip outside Microme...   \n",
       "3  Z Magic Incognito Clothes Stack Pants Multi-La...   \n",
       "4  z ge zi yong pin yong ju ge zi zhuang men tie ...   \n",
       "\n",
       "                                       product  \\\n",
       "0   O1CN01ogOt7d1DHyjGtaaWT_!!192-0-lubanu.jpg   \n",
       "1   O1CN01eFgq841CxMtYCpqWF_!!147-0-lubanu.jpg   \n",
       "2  O1CN01fXCPeA1SzgmI1mVLf_!!2207662892318.jpg   \n",
       "3     O1CN01qgixtq1BtPqrInOuX_!!3-0-lubanu.jpg   \n",
       "4                  TB1ZqfODEY1gK0jSZFCq6AwqXXa   \n",
       "\n",
       "                                     image_file_path  \\\n",
       "0  /home/ubuntu/Desktop/CVPR 2022 AliProducts Cha...   \n",
       "1  /home/ubuntu/Desktop/CVPR 2022 AliProducts Cha...   \n",
       "2  /home/ubuntu/Desktop/CVPR 2022 AliProducts Cha...   \n",
       "3  /home/ubuntu/Desktop/CVPR 2022 AliProducts Cha...   \n",
       "4  /home/ubuntu/Desktop/CVPR 2022 AliProducts Cha...   \n",
       "\n",
       "                                 image_parent_folder img_ext  \\\n",
       "0  train_text_img_pairs_0/train_text_img_pairs_0_...     jpg   \n",
       "1  train_text_img_pairs_0/train_text_img_pairs_0_...     jpg   \n",
       "2  train_text_img_pairs_0/train_text_img_pairs_0_...     jpg   \n",
       "3  train_text_img_pairs_0/train_text_img_pairs_0_...     jpg   \n",
       "4  train_text_img_pairs_0/train_text_img_pairs_0_...    qXXa   \n",
       "\n",
       "                                           full_path  \\\n",
       "0  /home/ubuntu/Desktop/CVPR 2022 AliProducts Cha...   \n",
       "1  /home/ubuntu/Desktop/CVPR 2022 AliProducts Cha...   \n",
       "2  /home/ubuntu/Desktop/CVPR 2022 AliProducts Cha...   \n",
       "3  /home/ubuntu/Desktop/CVPR 2022 AliProducts Cha...   \n",
       "4  /home/ubuntu/Desktop/CVPR 2022 AliProducts Cha...   \n",
       "\n",
       "                                               image  \n",
       "0  train_text_img_pairs_0/train_text_img_pairs_0_...  \n",
       "1  train_text_img_pairs_0/train_text_img_pairs_0_...  \n",
       "2  train_text_img_pairs_0/train_text_img_pairs_0_...  \n",
       "3  train_text_img_pairs_0/train_text_img_pairs_0_...  \n",
       "4  train_text_img_pairs_0/train_text_img_pairs_0_...  "
      ]
     },
     "execution_count": 7,
     "metadata": {},
     "output_type": "execute_result"
    }
   ],
   "source": [
    "train_df[\"image\"] = train_df[\"image_parent_folder\"] + train_df[\"product\"]\n",
    "train_df.head()"
   ]
  },
  {
   "cell_type": "code",
   "execution_count": 8,
   "metadata": {},
   "outputs": [],
   "source": [
    "train_df[\"image_id\"] = \"aliproduct2_train_\" +  train_df.index.map(str)\n"
   ]
  },
  {
   "cell_type": "code",
   "execution_count": 9,
   "metadata": {},
   "outputs": [],
   "source": [
    "train_caption = train_df[\"caption\"].values\n",
    "train_images = train_df[\"image\"].values\n",
    "train_image_id = train_df[\"image_id\"].values\n",
    "train_images_pretrain = train_df[\"full_path\"].values"
   ]
  },
  {
   "cell_type": "code",
   "execution_count": 10,
   "metadata": {},
   "outputs": [],
   "source": [
    "train_ann = [{\"caption\":cap,\"image\":img,\"image_id\":id} for cap,img,id in zip(train_caption,train_images,train_image_id)]"
   ]
  },
  {
   "cell_type": "code",
   "execution_count": 11,
   "metadata": {},
   "outputs": [],
   "source": [
    "train_ann_pretrain = [{\"caption\":cap,\"image\":img,\"image_id\":id} for cap,img,id in zip(train_caption,train_images_pretrain,train_image_id)]"
   ]
  },
  {
   "cell_type": "code",
   "execution_count": 12,
   "metadata": {},
   "outputs": [],
   "source": [
    "filename = \"../data/aliproduct2_train_ann.json\"\n",
    "file = open(filename,\"w\")\n",
    "json.dump(train_ann,file)\n",
    "file.close()"
   ]
  },
  {
   "cell_type": "code",
   "execution_count": 13,
   "metadata": {},
   "outputs": [],
   "source": [
    "filename = \"../data/aliproduct2_pretrain_ann.json\"\n",
    "file = open(filename,\"w\")\n",
    "json.dump(train_ann_pretrain,file)\n",
    "file.close()"
   ]
  },
  {
   "cell_type": "code",
   "execution_count": 14,
   "metadata": {},
   "outputs": [
    {
     "data": {
      "text/html": [
       "<div>\n",
       "<style scoped>\n",
       "    .dataframe tbody tr th:only-of-type {\n",
       "        vertical-align: middle;\n",
       "    }\n",
       "\n",
       "    .dataframe tbody tr th {\n",
       "        vertical-align: top;\n",
       "    }\n",
       "\n",
       "    .dataframe thead th {\n",
       "        text-align: right;\n",
       "    }\n",
       "</style>\n",
       "<table border=\"1\" class=\"dataframe\">\n",
       "  <thead>\n",
       "    <tr style=\"text-align: right;\">\n",
       "      <th></th>\n",
       "      <th>Unnamed: 0</th>\n",
       "      <th>caption</th>\n",
       "      <th>product</th>\n",
       "    </tr>\n",
       "  </thead>\n",
       "  <tbody>\n",
       "    <tr>\n",
       "      <th>0</th>\n",
       "      <td>0</td>\n",
       "      <td>Tanabata Valentine's Day Shenzhen Bao'an M Nan...</td>\n",
       "      <td>O1CN01cSoTwD1spJos7ZSF6_!!0-item_pic.jpg</td>\n",
       "    </tr>\n",
       "    <tr>\n",
       "      <th>1</th>\n",
       "      <td>1</td>\n",
       "      <td>Children's Toys Little Girl over 6 Years Old G...</td>\n",
       "      <td>O1CN01iI5sGv1vIkV5dfICu_!!0-item_pic.jpg</td>\n",
       "    </tr>\n",
       "    <tr>\n",
       "      <th>2</th>\n",
       "      <td>2</td>\n",
       "      <td>sm qing qu Alternative Sex between Men and Wom...</td>\n",
       "      <td>O1CN01xnnyaz248W0n5le2q_!!131027346.jpg</td>\n",
       "    </tr>\n",
       "    <tr>\n",
       "      <th>3</th>\n",
       "      <td>3</td>\n",
       "      <td>Traditional Chinese Painting Burnin' Up Yingke...</td>\n",
       "      <td>O1CN01lfHuuA1D3K2MEM63p_!!160-0-lubanu.jpg</td>\n",
       "    </tr>\n",
       "    <tr>\n",
       "      <th>4</th>\n",
       "      <td>4</td>\n",
       "      <td>lgnace Lee Men's Jeans Thick Section Distresse...</td>\n",
       "      <td>TB23FV3afBNTKJjy0FdXXcPpVXa_!!1944606990.jpg</td>\n",
       "    </tr>\n",
       "  </tbody>\n",
       "</table>\n",
       "</div>"
      ],
      "text/plain": [
       "   Unnamed: 0                                            caption  \\\n",
       "0           0  Tanabata Valentine's Day Shenzhen Bao'an M Nan...   \n",
       "1           1  Children's Toys Little Girl over 6 Years Old G...   \n",
       "2           2  sm qing qu Alternative Sex between Men and Wom...   \n",
       "3           3  Traditional Chinese Painting Burnin' Up Yingke...   \n",
       "4           4  lgnace Lee Men's Jeans Thick Section Distresse...   \n",
       "\n",
       "                                        product  \n",
       "0      O1CN01cSoTwD1spJos7ZSF6_!!0-item_pic.jpg  \n",
       "1      O1CN01iI5sGv1vIkV5dfICu_!!0-item_pic.jpg  \n",
       "2       O1CN01xnnyaz248W0n5le2q_!!131027346.jpg  \n",
       "3    O1CN01lfHuuA1D3K2MEM63p_!!160-0-lubanu.jpg  \n",
       "4  TB23FV3afBNTKJjy0FdXXcPpVXa_!!1944606990.jpg  "
      ]
     },
     "execution_count": 14,
     "metadata": {},
     "output_type": "execute_result"
    }
   ],
   "source": [
    "val_df = pd.read_csv(\"../data/val_data_map.csv\")\n",
    "val_df.head()"
   ]
  },
  {
   "cell_type": "code",
   "execution_count": 15,
   "metadata": {},
   "outputs": [],
   "source": [
    "val_df[\"image\"] = \"val_imgs/\"+val_df[\"product\"]\n",
    "val_df[\"image_full_path\"] = \"/home/ubuntu/Desktop/CVPR 2022 AliProducts Challenge/val_imgs/\"+val_df[\"product\"]\n",
    "val_df[\"image_id\"] = val_df.index.map(str)\n"
   ]
  },
  {
   "cell_type": "code",
   "execution_count": 16,
   "metadata": {},
   "outputs": [],
   "source": [
    "val_caption = val_df[\"caption\"].values\n",
    "val_images = val_df[\"image\"].values\n",
    "val_image_id = val_df[\"image_id\"].values"
   ]
  },
  {
   "cell_type": "code",
   "execution_count": 17,
   "metadata": {},
   "outputs": [],
   "source": [
    "val_ann = [{\"caption\":cap,\"image\":img,\"image_id\":id} for cap,img,id in zip(val_caption,val_images,val_image_id)]"
   ]
  },
  {
   "cell_type": "code",
   "execution_count": 18,
   "metadata": {},
   "outputs": [],
   "source": [
    "filename = \"../data/aliproduct2_val_ann.json\"\n",
    "file = open(filename,\"w\")\n",
    "json.dump(val_ann,file)\n",
    "file.close()"
   ]
  },
  {
   "cell_type": "code",
   "execution_count": null,
   "metadata": {},
   "outputs": [],
   "source": []
  },
  {
   "cell_type": "code",
   "execution_count": null,
   "metadata": {},
   "outputs": [],
   "source": []
  }
 ],
 "metadata": {
  "interpreter": {
   "hash": "caf1c2fcf97217de91eafa76b907d50f9ea378f5ffbee7f571142d119bb6a771"
  },
  "kernelspec": {
   "display_name": "Python 3.9.7 ('base')",
   "language": "python",
   "name": "python3"
  },
  "language_info": {
   "codemirror_mode": {
    "name": "ipython",
    "version": 3
   },
   "file_extension": ".py",
   "mimetype": "text/x-python",
   "name": "python",
   "nbconvert_exporter": "python",
   "pygments_lexer": "ipython3",
   "version": "3.9.7"
  },
  "orig_nbformat": 4
 },
 "nbformat": 4,
 "nbformat_minor": 2
}
