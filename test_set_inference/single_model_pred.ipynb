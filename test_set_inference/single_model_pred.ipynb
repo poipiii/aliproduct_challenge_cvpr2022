{
 "cells": [
  {
   "cell_type": "code",
   "execution_count": 38,
   "metadata": {},
   "outputs": [
    {
     "name": "stdout",
     "output_type": "stream",
     "text": [
      "['..', '..', '..', '..', '/home/ubuntu/Desktop/CVPR 2022 AliProducts Challenge/code/test_set_inference', '/home/ubuntu/anaconda3/lib/python39.zip', '/home/ubuntu/anaconda3/lib/python3.9', '/home/ubuntu/anaconda3/lib/python3.9/lib-dynload', '', '/home/ubuntu/anaconda3/lib/python3.9/site-packages', '/home/ubuntu/anaconda3/lib/python3.9/site-packages/locket-0.2.1-py3.9.egg', '/home/ubuntu/anaconda3/lib/python3.9/site-packages/IPython/extensions', '/home/ubuntu/.ipython', '/home/ubuntu/Desktop/CVPR 2022 AliProducts Challenge/code/model', '/tmp/tmpzyzywg49', '/home/ubuntu/Desktop/CVPR 2022 AliProducts Challenge/code/model', '/home/ubuntu/Desktop/CVPR 2022 AliProducts Challenge/code/model']\n",
      "['..', '..', '..', '..', '/home/ubuntu/Desktop/CVPR 2022 AliProducts Challenge/code/test_set_inference', '/home/ubuntu/anaconda3/lib/python39.zip', '/home/ubuntu/anaconda3/lib/python3.9', '/home/ubuntu/anaconda3/lib/python3.9/lib-dynload', '', '/home/ubuntu/anaconda3/lib/python3.9/site-packages', '/home/ubuntu/anaconda3/lib/python3.9/site-packages/locket-0.2.1-py3.9.egg', '/home/ubuntu/anaconda3/lib/python3.9/site-packages/IPython/extensions', '/home/ubuntu/.ipython', '/home/ubuntu/Desktop/CVPR 2022 AliProducts Challenge/code/model', '/tmp/tmpzyzywg49', '/home/ubuntu/Desktop/CVPR 2022 AliProducts Challenge/code/model', '/home/ubuntu/Desktop/CVPR 2022 AliProducts Challenge/code/model', '/home/ubuntu/Desktop/CVPR 2022 AliProducts Challenge/code/model']\n"
     ]
    }
   ],
   "source": [
    "import sys\n",
    "sys.path.insert(0, '..')\n",
    "print(sys.path)\n",
    "module_path = os.path.abspath(os.path.join('..'))\n",
    "if module_path not in sys.path:\n",
    "    sys.path.append(module_path+\"/model\")\n",
    "print(sys.path)\n",
    "import clip\n",
    "import torch\n",
    "from torch.utils.data import Dataset, DataLoader\n",
    "import matplotlib.pyplot as plt\n",
    "from PIL import Image\n",
    "import pandas as pd\n",
    "import numpy as np\n",
    "import pytorch_lightning as pl\n",
    "from pytorch_lightning import Trainer\n",
    "from sklearn.metrics import top_k_accuracy_score\n",
    "from sklearn.model_selection import train_test_split\n",
    "import pickle\n",
    "from tqdm import tqdm\n",
    "import gc\n",
    "import os\n",
    "import pickle\n",
    "from model.aliproduct_model import ALIPRODUCT_CLIP\n",
    "from model.aliproduct_blip_model import ALIPRODUCT_BLIP\n",
    "from model.dataset import ALIPRODUCT_DATASET,prepare_data\n",
    "from model.CONFIG import CONFIG\n",
    "import faiss\n",
    "from torchvision import transforms\n",
    "from torchvision.transforms.functional import InterpolationMode\n",
    "import json"
   ]
  },
  {
   "cell_type": "code",
   "execution_count": 39,
   "metadata": {},
   "outputs": [
    {
     "data": {
      "text/html": [
       "<div>\n",
       "<style scoped>\n",
       "    .dataframe tbody tr th:only-of-type {\n",
       "        vertical-align: middle;\n",
       "    }\n",
       "\n",
       "    .dataframe tbody tr th {\n",
       "        vertical-align: top;\n",
       "    }\n",
       "\n",
       "    .dataframe thead th {\n",
       "        text-align: right;\n",
       "    }\n",
       "</style>\n",
       "<table border=\"1\" class=\"dataframe\">\n",
       "  <thead>\n",
       "    <tr style=\"text-align: right;\">\n",
       "      <th></th>\n",
       "      <th>Unnamed: 0</th>\n",
       "      <th>test_caption</th>\n",
       "      <th>test_imgs</th>\n",
       "    </tr>\n",
       "  </thead>\n",
       "  <tbody>\n",
       "    <tr>\n",
       "      <th>0</th>\n",
       "      <td>0</td>\n",
       "      <td>feiyangg/LP Paragraph Style Electric Guitar Ti...</td>\n",
       "      <td>O1CN01r2RqZk1lJ4Sk2ZYaN_!!2200643934797.jpg</td>\n",
       "    </tr>\n",
       "    <tr>\n",
       "      <th>1</th>\n",
       "      <td>1</td>\n",
       "      <td>Summer Lace White Shorts Pants Female Thin Ant...</td>\n",
       "      <td>O1CN01H0o2pi2HAtGC9rVWa_!!2206736519111.jpg</td>\n",
       "    </tr>\n",
       "    <tr>\n",
       "      <th>2</th>\n",
       "      <td>2</td>\n",
       "      <td>High-Quality Export 8MM with Adhesive Cork Cor...</td>\n",
       "      <td>O1CN01qeHW0Z1D3mRPfmNvM_!!161-0-lubanu.jpg</td>\n",
       "    </tr>\n",
       "    <tr>\n",
       "      <th>3</th>\n",
       "      <td>3</td>\n",
       "      <td>LED Ceiling Living Room Bedroom Corridor Corri...</td>\n",
       "      <td>O1CN01phQoOe25ljjN1lpLO_!!3082327567.jpg</td>\n",
       "    </tr>\n",
       "    <tr>\n",
       "      <th>4</th>\n",
       "      <td>4</td>\n",
       "      <td>Disposable Cotton Cotton Female Thin Water Fac...</td>\n",
       "      <td>O1CN01Dzpgpr2FxJsUzqAdE_!!2963188946.jpg</td>\n",
       "    </tr>\n",
       "  </tbody>\n",
       "</table>\n",
       "</div>"
      ],
      "text/plain": [
       "   Unnamed: 0                                       test_caption  \\\n",
       "0           0  feiyangg/LP Paragraph Style Electric Guitar Ti...   \n",
       "1           1  Summer Lace White Shorts Pants Female Thin Ant...   \n",
       "2           2  High-Quality Export 8MM with Adhesive Cork Cor...   \n",
       "3           3  LED Ceiling Living Room Bedroom Corridor Corri...   \n",
       "4           4  Disposable Cotton Cotton Female Thin Water Fac...   \n",
       "\n",
       "                                     test_imgs  \n",
       "0  O1CN01r2RqZk1lJ4Sk2ZYaN_!!2200643934797.jpg  \n",
       "1  O1CN01H0o2pi2HAtGC9rVWa_!!2206736519111.jpg  \n",
       "2   O1CN01qeHW0Z1D3mRPfmNvM_!!161-0-lubanu.jpg  \n",
       "3     O1CN01phQoOe25ljjN1lpLO_!!3082327567.jpg  \n",
       "4     O1CN01Dzpgpr2FxJsUzqAdE_!!2963188946.jpg  "
      ]
     },
     "execution_count": 39,
     "metadata": {},
     "output_type": "execute_result"
    }
   ],
   "source": [
    "clean_df = pd.read_csv(\"/home/ubuntu/Desktop/CVPR 2022 AliProducts Challenge/code/test_set_inference/test.csv\")\n",
    "clean_df.head()"
   ]
  },
  {
   "cell_type": "code",
   "execution_count": 40,
   "metadata": {},
   "outputs": [],
   "source": [
    "image_embed_path = \"./image_embeds\"\n",
    "text_embed_path = \"./text_embeds\"\n",
    "image_embed_files = os.listdir(image_embed_path)\n",
    "text_embed_files = os.listdir(text_embed_path)"
   ]
  },
  {
   "cell_type": "code",
   "execution_count": 41,
   "metadata": {},
   "outputs": [
    {
     "data": {
      "text/plain": [
       "['txt_emded-base-base_1st_e_5.pkl',\n",
       " 'txt_emded-base-base_3rd_e_5.pkl',\n",
       " 'txt_emded-base-base_2nd_e_5.pkl',\n",
       " 'txt_emded-base-base_all_e_7.pkl',\n",
       " 'txt_emded-large-large_all_e_9.pkl',\n",
       " 'txt_emded-large-large_v1_e_5.pkl']"
      ]
     },
     "execution_count": 41,
     "metadata": {},
     "output_type": "execute_result"
    }
   ],
   "source": [
    "text_embed_files"
   ]
  },
  {
   "cell_type": "code",
   "execution_count": 42,
   "metadata": {},
   "outputs": [
    {
     "name": "stderr",
     "output_type": "stream",
     "text": [
      "6it [00:00,  6.35it/s]\n"
     ]
    }
   ],
   "source": [
    "all_image_embed ={}\n",
    "all_text_embed = {}\n",
    "for i,t in tqdm(zip(image_embed_files,text_embed_files)):\n",
    "    with open(f\"{image_embed_path}/{i}\",\"rb\") as img_file:\n",
    "        img_embed = pickle.load(img_file)\n",
    "        all_image_embed[img_embed[\"model_name\"]] = img_embed[\"embed\"]\n",
    "    with open(f\"{text_embed_path}/{t}\",\"rb\") as txt_file:\n",
    "        txt_embed = pickle.load(txt_file)\n",
    "        all_text_embed[txt_embed[\"model_name\"]] = txt_embed[\"embed\"]\n"
   ]
  },
  {
   "cell_type": "code",
   "execution_count": 43,
   "metadata": {},
   "outputs": [
    {
     "data": {
      "text/plain": [
       "dict_keys(['base_all_e_7', 'base_2nd_e_5', 'base_1st_e_5', 'large_v1_e_5', 'base_3rd_e_5', 'large_all_e_9'])"
      ]
     },
     "execution_count": 43,
     "metadata": {},
     "output_type": "execute_result"
    }
   ],
   "source": [
    "all_image_embed.keys()"
   ]
  },
  {
   "cell_type": "code",
   "execution_count": 44,
   "metadata": {},
   "outputs": [
    {
     "data": {
      "text/plain": [
       "dict_keys(['base_1st_e_5', 'base_3rd_e_5', 'base_2nd_e_5', 'base_all_e_7', 'large_all_e_9', 'large_v1_e_5'])"
      ]
     },
     "execution_count": 44,
     "metadata": {},
     "output_type": "execute_result"
    }
   ],
   "source": [
    "all_text_embed.keys()"
   ]
  },
  {
   "cell_type": "code",
   "execution_count": 45,
   "metadata": {},
   "outputs": [],
   "source": [
    "pair_to_test = \"base_3rd_e_5\""
   ]
  },
  {
   "cell_type": "code",
   "execution_count": 46,
   "metadata": {},
   "outputs": [],
   "source": [
    "image_embed = all_image_embed[pair_to_test]\n",
    "text_embed = all_text_embed[pair_to_test]"
   ]
  },
  {
   "cell_type": "code",
   "execution_count": 47,
   "metadata": {},
   "outputs": [],
   "source": [
    "# test  =text_embed @ image_embed.T"
   ]
  },
  {
   "cell_type": "code",
   "execution_count": 48,
   "metadata": {},
   "outputs": [],
   "source": [
    "# torch.topk(test,10)"
   ]
  },
  {
   "cell_type": "code",
   "execution_count": 49,
   "metadata": {},
   "outputs": [],
   "source": [
    "\n",
    "def get_preds(all_image_embed,all_text_embed,pair_to_test):\n",
    "    image_embed = all_image_embed[pair_to_test]\n",
    "    text_embed = all_text_embed[pair_to_test]\n",
    "    faiss_index = faiss.IndexFlatIP(256)\n",
    "    faiss_index.add(image_embed.numpy().astype(np.float32))\n",
    "    top5_k_e,top5_k_y_pred = faiss_index.search(text_embed.numpy().astype(np.float32),5)\n",
    "    top10_k_e,top10_k_y_pred = faiss_index.search(text_embed.numpy().astype(np.float32),10)\n",
    "    \n",
    "    return top5_k_y_pred,top10_k_y_pred,top5_k_e,top10_k_e"
   ]
  },
  {
   "cell_type": "code",
   "execution_count": 50,
   "metadata": {},
   "outputs": [],
   "source": [
    "top5_pred_idx,top10_pred_idx,top5_k_e,top10_k_e = get_preds(all_image_embed,all_text_embed,pair_to_test)"
   ]
  },
  {
   "cell_type": "code",
   "execution_count": 51,
   "metadata": {},
   "outputs": [],
   "source": [
    "def remap_pred_to_name(top5_pred_idx,top10_pred_idx,image_array):\n",
    "    top5_pred = [list(image_array[p]) for p in top5_pred_idx]\n",
    "    top10_pred =  [list(image_array[p]) for p in top10_pred_idx]\n",
    "    return top5_pred,top10_pred"
   ]
  },
  {
   "cell_type": "code",
   "execution_count": 52,
   "metadata": {},
   "outputs": [],
   "source": [
    "top5_pred,top10_pred =remap_pred_to_name(top5_pred_idx,top10_pred_idx,clean_df[\"test_imgs\"].values)"
   ]
  },
  {
   "cell_type": "code",
   "execution_count": 53,
   "metadata": {},
   "outputs": [],
   "source": [
    "def results_to_json(top5_pred,top10_pred,caption_array,result_dir,result_file_name):\n",
    "    results = []\n",
    "    for c,t5,t10 in tqdm(zip(caption_array,top5_pred,top10_pred)):\n",
    "        result_dict = {}\n",
    "        result_dict[\"caption\"] = c\n",
    "        result_dict[\"top5\"] = t5\n",
    "        result_dict[\"top10\"] = t10\n",
    "        results.append(result_dict)\n",
    "    print(\"checking results format\")\n",
    "    print(results[0])\n",
    "    with open(f\"{result_dir}/{result_file_name}.json\",\"w\") as results_file:\n",
    "        json.dump(results,results_file)\n",
    "    with open(f\"{result_dir}/{result_file_name}.json\",\"r\") as results_file:\n",
    "        check_results = json.load(results_file)\n",
    "    print(\"checking results format of saved file\")\n",
    "    print(check_results[0])\n",
    "    return check_results\n",
    "    \n",
    "        \n",
    "\n"
   ]
  },
  {
   "cell_type": "code",
   "execution_count": 54,
   "metadata": {},
   "outputs": [
    {
     "name": "stderr",
     "output_type": "stream",
     "text": [
      "20000it [00:00, 672131.79it/s]\n"
     ]
    },
    {
     "name": "stdout",
     "output_type": "stream",
     "text": [
      "checking results format\n",
      "{'caption': 'feiyangg/LP Paragraph Style Electric Guitar Tiger Veneer Factory Direct Color Can Be Customized', 'top5': ['O1CN011pW88rTaqfnNIi1_!!754885367.jpg', 'TB25xAzdCGI.eBjSspcXXcVjFXa_!!754885367.jpg', 'O1CN016zxVN01qPYIlq8the_!!0-item_pic.jpg', 'O1CN01h0ZgaM1qPYIr3q9Cf_!!0-item_pic.jpg', 'O1CN01p912eO1lKuB1TiTl6_!!2207916444801.png'], 'top10': ['O1CN011pW88rTaqfnNIi1_!!754885367.jpg', 'TB25xAzdCGI.eBjSspcXXcVjFXa_!!754885367.jpg', 'O1CN016zxVN01qPYIlq8the_!!0-item_pic.jpg', 'O1CN01h0ZgaM1qPYIr3q9Cf_!!0-item_pic.jpg', 'O1CN01p912eO1lKuB1TiTl6_!!2207916444801.png', 'O1CN01ha825u1ctPVv8XwDP_!!2211470413658-0-picasso.jpg', 'O1CN01Dj2czX1oWlFVAZ05k_!!2207737885233.jpg', 'O1CN01S8ewME1m1UwiK89Pr_!!1973994894.jpg', 'TB2lylSaQ.OyuJjSszhXXbZbVXa_!!20295181.jpg', 'O1CN01XJH6iU1lKuBgk0ndT_!!2207916444801.jpg']}\n",
      "checking results format of saved file\n",
      "{'caption': 'feiyangg/LP Paragraph Style Electric Guitar Tiger Veneer Factory Direct Color Can Be Customized', 'top5': ['O1CN011pW88rTaqfnNIi1_!!754885367.jpg', 'TB25xAzdCGI.eBjSspcXXcVjFXa_!!754885367.jpg', 'O1CN016zxVN01qPYIlq8the_!!0-item_pic.jpg', 'O1CN01h0ZgaM1qPYIr3q9Cf_!!0-item_pic.jpg', 'O1CN01p912eO1lKuB1TiTl6_!!2207916444801.png'], 'top10': ['O1CN011pW88rTaqfnNIi1_!!754885367.jpg', 'TB25xAzdCGI.eBjSspcXXcVjFXa_!!754885367.jpg', 'O1CN016zxVN01qPYIlq8the_!!0-item_pic.jpg', 'O1CN01h0ZgaM1qPYIr3q9Cf_!!0-item_pic.jpg', 'O1CN01p912eO1lKuB1TiTl6_!!2207916444801.png', 'O1CN01ha825u1ctPVv8XwDP_!!2211470413658-0-picasso.jpg', 'O1CN01Dj2czX1oWlFVAZ05k_!!2207737885233.jpg', 'O1CN01S8ewME1m1UwiK89Pr_!!1973994894.jpg', 'TB2lylSaQ.OyuJjSszhXXbZbVXa_!!20295181.jpg', 'O1CN01XJH6iU1lKuBgk0ndT_!!2207916444801.jpg']}\n"
     ]
    }
   ],
   "source": [
    "saved_result = results_to_json(top5_pred,top10_pred,clean_df[\"test_caption\"].values[0:20000],\"./submissions\",\"test_single_b_e_5_v3_3_6_22\")"
   ]
  },
  {
   "cell_type": "code",
   "execution_count": 56,
   "metadata": {},
   "outputs": [
    {
     "data": {
      "text/plain": [
       "20000"
      ]
     },
     "execution_count": 56,
     "metadata": {},
     "output_type": "execute_result"
    }
   ],
   "source": [
    "len(saved_result)"
   ]
  },
  {
   "cell_type": "code",
   "execution_count": 63,
   "metadata": {},
   "outputs": [
    {
     "data": {
      "text/plain": [
       "{'caption': 'feiyangg/LP Paragraph Style Electric Guitar Tiger Veneer Factory Direct Color Can Be Customized',\n",
       " 'top5': ['O1CN011pW88rTaqfnNIi1_!!754885367.jpg',\n",
       "  'TB25xAzdCGI.eBjSspcXXcVjFXa_!!754885367.jpg',\n",
       "  'O1CN016zxVN01qPYIlq8the_!!0-item_pic.jpg',\n",
       "  'O1CN01h0ZgaM1qPYIr3q9Cf_!!0-item_pic.jpg',\n",
       "  'O1CN01p912eO1lKuB1TiTl6_!!2207916444801.png'],\n",
       " 'top10': ['O1CN011pW88rTaqfnNIi1_!!754885367.jpg',\n",
       "  'TB25xAzdCGI.eBjSspcXXcVjFXa_!!754885367.jpg',\n",
       "  'O1CN016zxVN01qPYIlq8the_!!0-item_pic.jpg',\n",
       "  'O1CN01h0ZgaM1qPYIr3q9Cf_!!0-item_pic.jpg',\n",
       "  'O1CN01p912eO1lKuB1TiTl6_!!2207916444801.png',\n",
       "  'O1CN01ha825u1ctPVv8XwDP_!!2211470413658-0-picasso.jpg',\n",
       "  'O1CN01Dj2czX1oWlFVAZ05k_!!2207737885233.jpg',\n",
       "  'O1CN01S8ewME1m1UwiK89Pr_!!1973994894.jpg',\n",
       "  'TB2lylSaQ.OyuJjSszhXXbZbVXa_!!20295181.jpg',\n",
       "  'O1CN01XJH6iU1lKuBgk0ndT_!!2207916444801.jpg']}"
      ]
     },
     "execution_count": 63,
     "metadata": {},
     "output_type": "execute_result"
    }
   ],
   "source": [
    "saved_result[0]"
   ]
  },
  {
   "cell_type": "code",
   "execution_count": null,
   "metadata": {},
   "outputs": [],
   "source": []
  }
 ],
 "metadata": {
  "interpreter": {
   "hash": "caf1c2fcf97217de91eafa76b907d50f9ea378f5ffbee7f571142d119bb6a771"
  },
  "kernelspec": {
   "display_name": "Python 3.9.7 ('base')",
   "language": "python",
   "name": "python3"
  },
  "language_info": {
   "codemirror_mode": {
    "name": "ipython",
    "version": 3
   },
   "file_extension": ".py",
   "mimetype": "text/x-python",
   "name": "python",
   "nbconvert_exporter": "python",
   "pygments_lexer": "ipython3",
   "version": "3.9.7"
  },
  "orig_nbformat": 4
 },
 "nbformat": 4,
 "nbformat_minor": 2
}
