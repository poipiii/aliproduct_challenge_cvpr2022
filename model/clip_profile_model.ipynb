{
 "cells": [
  {
   "cell_type": "code",
   "execution_count": 1,
   "metadata": {},
   "outputs": [
    {
     "name": "stdout",
     "output_type": "stream",
     "text": [
      "Requirement already satisfied: ftfy in /home/ubuntu/anaconda3/lib/python3.9/site-packages (6.1.1)\n",
      "Requirement already satisfied: regex in /home/ubuntu/anaconda3/lib/python3.9/site-packages (2021.8.3)\n",
      "Requirement already satisfied: tqdm in /home/ubuntu/anaconda3/lib/python3.9/site-packages (4.62.3)\n",
      "Requirement already satisfied: torch in /home/ubuntu/anaconda3/lib/python3.9/site-packages (1.10.2)\n",
      "Requirement already satisfied: wcwidth>=0.2.5 in /home/ubuntu/anaconda3/lib/python3.9/site-packages (from ftfy) (0.2.5)\n",
      "Requirement already satisfied: typing-extensions in /home/ubuntu/anaconda3/lib/python3.9/site-packages (from torch) (4.1.1)\n",
      "Collecting git+https://github.com/openai/CLIP.git\n",
      "  Cloning https://github.com/openai/CLIP.git to /tmp/pip-req-build-m8c4tutq\n",
      "  Running command git clone -q https://github.com/openai/CLIP.git /tmp/pip-req-build-m8c4tutq\n",
      "  Resolved https://github.com/openai/CLIP.git to commit b4ae44927b78d0093b556e3ce43cbdcff422017a\n",
      "Requirement already satisfied: ftfy in /home/ubuntu/anaconda3/lib/python3.9/site-packages (from clip==1.0) (6.1.1)\n",
      "Requirement already satisfied: regex in /home/ubuntu/anaconda3/lib/python3.9/site-packages (from clip==1.0) (2021.8.3)\n",
      "Requirement already satisfied: tqdm in /home/ubuntu/anaconda3/lib/python3.9/site-packages (from clip==1.0) (4.62.3)\n",
      "Requirement already satisfied: torch in /home/ubuntu/anaconda3/lib/python3.9/site-packages (from clip==1.0) (1.10.2)\n",
      "Requirement already satisfied: torchvision in /home/ubuntu/anaconda3/lib/python3.9/site-packages (from clip==1.0) (0.11.3)\n",
      "Requirement already satisfied: wcwidth>=0.2.5 in /home/ubuntu/anaconda3/lib/python3.9/site-packages (from ftfy->clip==1.0) (0.2.5)\n",
      "Requirement already satisfied: typing-extensions in /home/ubuntu/anaconda3/lib/python3.9/site-packages (from torch->clip==1.0) (4.1.1)\n",
      "Requirement already satisfied: pillow!=8.3.0,>=5.3.0 in /home/ubuntu/anaconda3/lib/python3.9/site-packages (from torchvision->clip==1.0) (8.4.0)\n",
      "Requirement already satisfied: numpy in /home/ubuntu/anaconda3/lib/python3.9/site-packages (from torchvision->clip==1.0) (1.20.3)\n",
      "Requirement already satisfied: pytorch-lightning in /home/ubuntu/anaconda3/lib/python3.9/site-packages (1.6.0)\n",
      "Requirement already satisfied: fsspec[http]!=2021.06.0,>=2021.05.0 in /home/ubuntu/anaconda3/lib/python3.9/site-packages (from pytorch-lightning) (2021.8.1)\n",
      "Requirement already satisfied: torchmetrics>=0.4.1 in /home/ubuntu/anaconda3/lib/python3.9/site-packages (from pytorch-lightning) (0.7.2)\n",
      "Requirement already satisfied: torch>=1.8.* in /home/ubuntu/anaconda3/lib/python3.9/site-packages (from pytorch-lightning) (1.10.2)\n",
      "Requirement already satisfied: typing-extensions>=4.0.0 in /home/ubuntu/anaconda3/lib/python3.9/site-packages (from pytorch-lightning) (4.1.1)\n",
      "Requirement already satisfied: tensorboard>=2.2.0 in /home/ubuntu/anaconda3/lib/python3.9/site-packages (from pytorch-lightning) (2.8.0)\n",
      "Requirement already satisfied: tqdm>=4.41.0 in /home/ubuntu/anaconda3/lib/python3.9/site-packages (from pytorch-lightning) (4.62.3)\n",
      "Requirement already satisfied: pyDeprecate<0.4.0,>=0.3.1 in /home/ubuntu/anaconda3/lib/python3.9/site-packages (from pytorch-lightning) (0.3.2)\n",
      "Requirement already satisfied: PyYAML>=5.4 in /home/ubuntu/anaconda3/lib/python3.9/site-packages (from pytorch-lightning) (6.0)\n",
      "Requirement already satisfied: numpy>=1.17.2 in /home/ubuntu/anaconda3/lib/python3.9/site-packages (from pytorch-lightning) (1.20.3)\n",
      "Requirement already satisfied: packaging>=17.0 in /home/ubuntu/anaconda3/lib/python3.9/site-packages (from pytorch-lightning) (21.0)\n",
      "Requirement already satisfied: requests in /home/ubuntu/anaconda3/lib/python3.9/site-packages (from fsspec[http]!=2021.06.0,>=2021.05.0->pytorch-lightning) (2.26.0)\n",
      "Requirement already satisfied: aiohttp in /home/ubuntu/anaconda3/lib/python3.9/site-packages (from fsspec[http]!=2021.06.0,>=2021.05.0->pytorch-lightning) (3.8.1)\n",
      "Requirement already satisfied: pyparsing>=2.0.2 in /home/ubuntu/anaconda3/lib/python3.9/site-packages (from packaging>=17.0->pytorch-lightning) (3.0.4)\n",
      "Requirement already satisfied: werkzeug>=0.11.15 in /home/ubuntu/anaconda3/lib/python3.9/site-packages (from tensorboard>=2.2.0->pytorch-lightning) (2.0.2)\n",
      "Requirement already satisfied: tensorboard-data-server<0.7.0,>=0.6.0 in /home/ubuntu/anaconda3/lib/python3.9/site-packages (from tensorboard>=2.2.0->pytorch-lightning) (0.6.1)\n",
      "Requirement already satisfied: markdown>=2.6.8 in /home/ubuntu/anaconda3/lib/python3.9/site-packages (from tensorboard>=2.2.0->pytorch-lightning) (3.3.6)\n",
      "Requirement already satisfied: google-auth<3,>=1.6.3 in /home/ubuntu/anaconda3/lib/python3.9/site-packages (from tensorboard>=2.2.0->pytorch-lightning) (2.6.3)\n",
      "Requirement already satisfied: wheel>=0.26 in /home/ubuntu/anaconda3/lib/python3.9/site-packages (from tensorboard>=2.2.0->pytorch-lightning) (0.37.0)\n",
      "Requirement already satisfied: google-auth-oauthlib<0.5,>=0.4.1 in /home/ubuntu/anaconda3/lib/python3.9/site-packages (from tensorboard>=2.2.0->pytorch-lightning) (0.4.6)\n",
      "Requirement already satisfied: tensorboard-plugin-wit>=1.6.0 in /home/ubuntu/anaconda3/lib/python3.9/site-packages (from tensorboard>=2.2.0->pytorch-lightning) (1.8.1)\n",
      "Requirement already satisfied: grpcio>=1.24.3 in /home/ubuntu/anaconda3/lib/python3.9/site-packages (from tensorboard>=2.2.0->pytorch-lightning) (1.44.0)\n",
      "Requirement already satisfied: setuptools>=41.0.0 in /home/ubuntu/anaconda3/lib/python3.9/site-packages (from tensorboard>=2.2.0->pytorch-lightning) (58.0.4)\n",
      "Requirement already satisfied: absl-py>=0.4 in /home/ubuntu/anaconda3/lib/python3.9/site-packages (from tensorboard>=2.2.0->pytorch-lightning) (1.0.0)\n",
      "Requirement already satisfied: protobuf>=3.6.0 in /home/ubuntu/anaconda3/lib/python3.9/site-packages (from tensorboard>=2.2.0->pytorch-lightning) (3.20.0)\n",
      "Requirement already satisfied: six in /home/ubuntu/anaconda3/lib/python3.9/site-packages (from absl-py>=0.4->tensorboard>=2.2.0->pytorch-lightning) (1.16.0)\n",
      "Requirement already satisfied: pyasn1-modules>=0.2.1 in /home/ubuntu/anaconda3/lib/python3.9/site-packages (from google-auth<3,>=1.6.3->tensorboard>=2.2.0->pytorch-lightning) (0.2.8)\n",
      "Requirement already satisfied: rsa<5,>=3.1.4 in /home/ubuntu/anaconda3/lib/python3.9/site-packages (from google-auth<3,>=1.6.3->tensorboard>=2.2.0->pytorch-lightning) (4.8)\n",
      "Requirement already satisfied: cachetools<6.0,>=2.0.0 in /home/ubuntu/anaconda3/lib/python3.9/site-packages (from google-auth<3,>=1.6.3->tensorboard>=2.2.0->pytorch-lightning) (5.0.0)\n",
      "Requirement already satisfied: requests-oauthlib>=0.7.0 in /home/ubuntu/anaconda3/lib/python3.9/site-packages (from google-auth-oauthlib<0.5,>=0.4.1->tensorboard>=2.2.0->pytorch-lightning) (1.3.1)\n",
      "Requirement already satisfied: importlib-metadata>=4.4 in /home/ubuntu/anaconda3/lib/python3.9/site-packages (from markdown>=2.6.8->tensorboard>=2.2.0->pytorch-lightning) (4.8.1)\n",
      "Requirement already satisfied: zipp>=0.5 in /home/ubuntu/anaconda3/lib/python3.9/site-packages (from importlib-metadata>=4.4->markdown>=2.6.8->tensorboard>=2.2.0->pytorch-lightning) (3.6.0)\n",
      "Requirement already satisfied: pyasn1<0.5.0,>=0.4.6 in /home/ubuntu/anaconda3/lib/python3.9/site-packages (from pyasn1-modules>=0.2.1->google-auth<3,>=1.6.3->tensorboard>=2.2.0->pytorch-lightning) (0.4.8)\n",
      "Requirement already satisfied: idna<4,>=2.5 in /home/ubuntu/anaconda3/lib/python3.9/site-packages (from requests->fsspec[http]!=2021.06.0,>=2021.05.0->pytorch-lightning) (3.2)\n",
      "Requirement already satisfied: urllib3<1.27,>=1.21.1 in /home/ubuntu/anaconda3/lib/python3.9/site-packages (from requests->fsspec[http]!=2021.06.0,>=2021.05.0->pytorch-lightning) (1.26.7)\n",
      "Requirement already satisfied: certifi>=2017.4.17 in /home/ubuntu/anaconda3/lib/python3.9/site-packages (from requests->fsspec[http]!=2021.06.0,>=2021.05.0->pytorch-lightning) (2021.10.8)\n",
      "Requirement already satisfied: charset-normalizer~=2.0.0 in /home/ubuntu/anaconda3/lib/python3.9/site-packages (from requests->fsspec[http]!=2021.06.0,>=2021.05.0->pytorch-lightning) (2.0.4)\n",
      "Requirement already satisfied: oauthlib>=3.0.0 in /home/ubuntu/anaconda3/lib/python3.9/site-packages (from requests-oauthlib>=0.7.0->google-auth-oauthlib<0.5,>=0.4.1->tensorboard>=2.2.0->pytorch-lightning) (3.2.0)\n",
      "Requirement already satisfied: multidict<7.0,>=4.5 in /home/ubuntu/anaconda3/lib/python3.9/site-packages (from aiohttp->fsspec[http]!=2021.06.0,>=2021.05.0->pytorch-lightning) (6.0.2)\n",
      "Requirement already satisfied: attrs>=17.3.0 in /home/ubuntu/anaconda3/lib/python3.9/site-packages (from aiohttp->fsspec[http]!=2021.06.0,>=2021.05.0->pytorch-lightning) (21.2.0)\n",
      "Requirement already satisfied: frozenlist>=1.1.1 in /home/ubuntu/anaconda3/lib/python3.9/site-packages (from aiohttp->fsspec[http]!=2021.06.0,>=2021.05.0->pytorch-lightning) (1.3.0)\n",
      "Requirement already satisfied: yarl<2.0,>=1.0 in /home/ubuntu/anaconda3/lib/python3.9/site-packages (from aiohttp->fsspec[http]!=2021.06.0,>=2021.05.0->pytorch-lightning) (1.7.2)\n",
      "Requirement already satisfied: async-timeout<5.0,>=4.0.0a3 in /home/ubuntu/anaconda3/lib/python3.9/site-packages (from aiohttp->fsspec[http]!=2021.06.0,>=2021.05.0->pytorch-lightning) (4.0.2)\n",
      "Requirement already satisfied: aiosignal>=1.1.2 in /home/ubuntu/anaconda3/lib/python3.9/site-packages (from aiohttp->fsspec[http]!=2021.06.0,>=2021.05.0->pytorch-lightning) (1.2.0)\n"
     ]
    }
   ],
   "source": [
    "!pip install ftfy regex tqdm torch\n",
    "!pip install git+https://github.com/openai/CLIP.git\n",
    "!pip install pytorch-lightning"
   ]
  },
  {
   "cell_type": "code",
   "execution_count": 1,
   "metadata": {},
   "outputs": [],
   "source": [
    "import clip\n",
    "import torch\n",
    "from torch.utils.data import Dataset, DataLoader\n",
    "import matplotlib.pyplot as plt\n",
    "from PIL import Image\n",
    "import pandas as pd\n",
    "import numpy as np\n",
    "import pytorch_lightning as pl\n",
    "from pytorch_lightning import Trainer\n",
    "from sklearn.metrics import top_k_accuracy_score\n",
    "from sklearn.model_selection import train_test_split\n",
    "import pickle\n",
    "import seaborn as sns\n",
    "from aliproduct_model import ALIPRODUCT_CLIP"
   ]
  },
  {
   "cell_type": "code",
   "execution_count": 3,
   "metadata": {},
   "outputs": [
    {
     "name": "stdout",
     "output_type": "stream",
     "text": [
      "Mon Apr 25 11:22:46 2022       \n",
      "+-----------------------------------------------------------------------------+\n",
      "| NVIDIA-SMI 510.60.02    Driver Version: 510.60.02    CUDA Version: 11.6     |\n",
      "|-------------------------------+----------------------+----------------------+\n",
      "| GPU  Name        Persistence-M| Bus-Id        Disp.A | Volatile Uncorr. ECC |\n",
      "| Fan  Temp  Perf  Pwr:Usage/Cap|         Memory-Usage | GPU-Util  Compute M. |\n",
      "|                               |                      |               MIG M. |\n",
      "|===============================+======================+======================|\n",
      "|   0  NVIDIA TITAN X ...  Off  | 00000000:02:00.0 Off |                  N/A |\n",
      "| 33%   48C    P8    12W / 250W |      8MiB / 12288MiB |      0%      Default |\n",
      "|                               |                      |                  N/A |\n",
      "+-------------------------------+----------------------+----------------------+\n",
      "|   1  NVIDIA TITAN X ...  Off  | 00000000:03:00.0 Off |                  N/A |\n",
      "| 23%   30C    P8     9W / 250W |      8MiB / 12288MiB |      0%      Default |\n",
      "|                               |                      |                  N/A |\n",
      "+-------------------------------+----------------------+----------------------+\n",
      "|   2  NVIDIA TITAN X ...  Off  | 00000000:82:00.0 Off |                  N/A |\n",
      "| 23%   25C    P8     8W / 250W |      8MiB / 12288MiB |      0%      Default |\n",
      "|                               |                      |                  N/A |\n",
      "+-------------------------------+----------------------+----------------------+\n",
      "|   3  NVIDIA TITAN X ...  Off  | 00000000:83:00.0 Off |                  N/A |\n",
      "| 23%   26C    P8     8W / 250W |      8MiB / 12288MiB |      0%      Default |\n",
      "|                               |                      |                  N/A |\n",
      "+-------------------------------+----------------------+----------------------+\n",
      "                                                                               \n",
      "+-----------------------------------------------------------------------------+\n",
      "| Processes:                                                                  |\n",
      "|  GPU   GI   CI        PID   Type   Process name                  GPU Memory |\n",
      "|        ID   ID                                                   Usage      |\n",
      "|=============================================================================|\n",
      "|    0   N/A  N/A      1579      G   /usr/lib/xorg/Xorg                  4MiB |\n",
      "|    1   N/A  N/A      1579      G   /usr/lib/xorg/Xorg                  4MiB |\n",
      "|    2   N/A  N/A      1579      G   /usr/lib/xorg/Xorg                  4MiB |\n",
      "|    3   N/A  N/A      1579      G   /usr/lib/xorg/Xorg                  4MiB |\n",
      "+-----------------------------------------------------------------------------+\n"
     ]
    }
   ],
   "source": [
    "!nvidia-smi"
   ]
  },
  {
   "cell_type": "code",
   "execution_count": 4,
   "metadata": {},
   "outputs": [
    {
     "name": "stdout",
     "output_type": "stream",
     "text": [
      "Using device: cuda\n"
     ]
    }
   ],
   "source": [
    "class CONFIG:\n",
    "    device = \"cuda\" if torch.cuda.is_available() else \"cpu\"\n",
    "    sample = False\n",
    "    filter_sample = False\n",
    "    custom_sample =True\n",
    "    single_sample  = \"00001_5417.jpg\"\n",
    "    with open(\"../clip/img_sample_to_test.txt\",\"r\") as f:\n",
    "        custom_sample_list = f.readlines()\n",
    "        custom_sample_list = [i.strip() for i in custom_sample_list]\n",
    "    custom_label_list =[ 1,  2,  3,  4,  5,  6,  7,  8,  9, 10]\n",
    "print(f\"Using device: {CONFIG.device}\")"
   ]
  },
  {
   "cell_type": "code",
   "execution_count": 5,
   "metadata": {},
   "outputs": [
    {
     "data": {
      "text/html": [
       "<div>\n",
       "<style scoped>\n",
       "    .dataframe tbody tr th:only-of-type {\n",
       "        vertical-align: middle;\n",
       "    }\n",
       "\n",
       "    .dataframe tbody tr th {\n",
       "        vertical-align: top;\n",
       "    }\n",
       "\n",
       "    .dataframe thead th {\n",
       "        text-align: right;\n",
       "    }\n",
       "</style>\n",
       "<table border=\"1\" class=\"dataframe\">\n",
       "  <thead>\n",
       "    <tr style=\"text-align: right;\">\n",
       "      <th></th>\n",
       "      <th>Unnamed: 0</th>\n",
       "      <th>syn_image</th>\n",
       "      <th>label</th>\n",
       "      <th>label_name</th>\n",
       "    </tr>\n",
       "  </thead>\n",
       "  <tbody>\n",
       "    <tr>\n",
       "      <th>0</th>\n",
       "      <td>0</td>\n",
       "      <td>00055_91621.jpg</td>\n",
       "      <td>55</td>\n",
       "      <td>Heavy Duty Forks</td>\n",
       "    </tr>\n",
       "    <tr>\n",
       "      <th>1</th>\n",
       "      <td>1</td>\n",
       "      <td>00079_67082.jpg</td>\n",
       "      <td>79</td>\n",
       "      <td>Nasal Strip</td>\n",
       "    </tr>\n",
       "    <tr>\n",
       "      <th>2</th>\n",
       "      <td>2</td>\n",
       "      <td>00008_96887.jpg</td>\n",
       "      <td>8</td>\n",
       "      <td>Bandaid Variety</td>\n",
       "    </tr>\n",
       "    <tr>\n",
       "      <th>3</th>\n",
       "      <td>3</td>\n",
       "      <td>00077_26117.jpg</td>\n",
       "      <td>77</td>\n",
       "      <td>Nasacort Allergy</td>\n",
       "    </tr>\n",
       "    <tr>\n",
       "      <th>4</th>\n",
       "      <td>4</td>\n",
       "      <td>00025_30398.jpg</td>\n",
       "      <td>25</td>\n",
       "      <td>Chocolate Fudge Poptart</td>\n",
       "    </tr>\n",
       "  </tbody>\n",
       "</table>\n",
       "</div>"
      ],
      "text/plain": [
       "   Unnamed: 0        syn_image  label               label_name\n",
       "0           0  00055_91621.jpg     55         Heavy Duty Forks\n",
       "1           1  00079_67082.jpg     79              Nasal Strip\n",
       "2           2  00008_96887.jpg      8          Bandaid Variety\n",
       "3           3  00077_26117.jpg     77         Nasacort Allergy\n",
       "4           4  00025_30398.jpg     25  Chocolate Fudge Poptart"
      ]
     },
     "execution_count": 5,
     "metadata": {},
     "output_type": "execute_result"
    }
   ],
   "source": [
    "image_data_dir = \"/home/ubuntu/Downloads/Auto-retail-syndata-release\"\n",
    "image_data_folder = \"syn_image_train\"\n",
    "df = pd.read_csv(\"../clip/aicity4.csv\")\n",
    "df.head()"
   ]
  },
  {
   "cell_type": "code",
   "execution_count": 6,
   "metadata": {},
   "outputs": [],
   "source": [
    "x_train,x_test = train_test_split(df,random_state= 101,stratify=df[\"label\"],test_size=0.2)"
   ]
  },
  {
   "cell_type": "code",
   "execution_count": 7,
   "metadata": {},
   "outputs": [
    {
     "data": {
      "text/plain": [
       "Int64Index([  2583,  20947,  21674,  94206,  63404,  97070,  49368,  43331,\n",
       "             87923, 104281,\n",
       "            ...\n",
       "             70677,  30506,  45496,  45688,  90125,  36410,  19615,  36299,\n",
       "            107485,  41658],\n",
       "           dtype='int64', length=23300)"
      ]
     },
     "execution_count": 7,
     "metadata": {},
     "output_type": "execute_result"
    }
   ],
   "source": [
    "x_test.index"
   ]
  },
  {
   "cell_type": "code",
   "execution_count": 8,
   "metadata": {},
   "outputs": [],
   "source": [
    "class AI_CITY_DATASET():\n",
    "    def __init__(self,df,dir,folder,preprocess):\n",
    "        self.df = df\n",
    "        self.dir = dir\n",
    "        self.folder = folder\n",
    "        self.preprocess = preprocess\n",
    "        self.z_shot_labels,self.z_shot_label_map = self.create_z_shot_labels(self.df[\"label_name\"].unique(),self.df[\"label\"].unique())\n",
    "    def __len__(self):\n",
    "        return(len(self.df))\n",
    "    def __getitem__(self,idx):\n",
    "        image_name = self.df.iloc[idx,:][\"syn_image\"]\n",
    "        image = Image.open(f\"{self.dir}/{self.folder}/{image_name}\").convert(\"RGB\")\n",
    "        image = self.preprocess(image)\n",
    "        return image \n",
    "    def create_z_shot_labels(self,label_names,label):\n",
    "        z_shot_labels = []\n",
    "        z_shot_label_map  = {}\n",
    "        for label_name, label, idx in zip(label_names, label, range(len(label))):\n",
    "            z_shot_label = f\"this is a {label_name}\"\n",
    "            z_shot_labels.append(z_shot_label)\n",
    "            z_shot_label_map[idx] = {\"label_name\": label_name, \"label\": label}\n",
    "        z_shot_labels = clip.tokenize(z_shot_labels)\n",
    "        return z_shot_labels,z_shot_label_map\n",
    "\n",
    "            \n",
    "        "
   ]
  },
  {
   "cell_type": "code",
   "execution_count": 9,
   "metadata": {},
   "outputs": [
    {
     "data": {
      "text/plain": [
       "['RN50',\n",
       " 'RN101',\n",
       " 'RN50x4',\n",
       " 'RN50x16',\n",
       " 'RN50x64',\n",
       " 'ViT-B/32',\n",
       " 'ViT-B/16',\n",
       " 'ViT-L/14']"
      ]
     },
     "execution_count": 9,
     "metadata": {},
     "output_type": "execute_result"
    }
   ],
   "source": [
    "clip.available_models()"
   ]
  },
  {
   "cell_type": "code",
   "execution_count": 10,
   "metadata": {},
   "outputs": [],
   "source": [
    "model,preprocess = clip.load('RN50',CONFIG.device,jit=False)"
   ]
  },
  {
   "cell_type": "code",
   "execution_count": 11,
   "metadata": {},
   "outputs": [],
   "source": [
    "data = AI_CITY_DATASET(x_test,image_data_dir,image_data_folder,preprocess)\n",
    "pred_dataloader = DataLoader(data,64,shuffle=False,num_workers=8)\n",
    "z_shot_labels = data.z_shot_labels\n",
    "z_shot_label_map = data.z_shot_label_map"
   ]
  },
  {
   "cell_type": "code",
   "execution_count": 12,
   "metadata": {},
   "outputs": [
    {
     "data": {
      "text/plain": [
       "torch.Size([116, 77])"
      ]
     },
     "execution_count": 12,
     "metadata": {},
     "output_type": "execute_result"
    }
   ],
   "source": [
    "z_shot_labels.size()"
   ]
  },
  {
   "cell_type": "code",
   "execution_count": 13,
   "metadata": {},
   "outputs": [
    {
     "data": {
      "text/plain": [
       "{0: {'label_name': 'Sour Patch Kids', 'label': 96},\n",
       " 1: {'label_name': 'Cane Sugar', 'label': 20},\n",
       " 2: {'label_name': \"Vick's Pure Zzz's\", 'label': 111},\n",
       " 3: {'label_name': 'Sunmaid Raisins', 'label': 100},\n",
       " 4: {'label_name': 'Tide Pods', 'label': 103},\n",
       " 5: {'label_name': 'Whoppers', 'label': 114},\n",
       " 6: {'label_name': 'Pocky Strawberry', 'label': 87},\n",
       " 7: {'label_name': 'French Roast Starbucks', 'label': 43},\n",
       " 8: {'label_name': 'Gluten Free Pasta', 'label': 52},\n",
       " 9: {'label_name': 'Children_s Zyrtec', 'label': 24},\n",
       " 10: {'label_name': 'Dove Soap Sensitive', 'label': 34},\n",
       " 11: {'label_name': 'Children_s Allegra Allergy', 'label': 23},\n",
       " 12: {'label_name': 'Peets Keurig', 'label': 84},\n",
       " 13: {'label_name': 'Ice Cream Sandwiches', 'label': 59},\n",
       " 14: {'label_name': 'Barnums Animal Crackers', 'label': 13},\n",
       " 15: {'label_name': 'Aleve Tablets', 'label': 5},\n",
       " 16: {'label_name': 'Hefty Small Trash Bags', 'label': 56},\n",
       " 17: {'label_name': 'Kleenex', 'label': 63},\n",
       " 18: {'label_name': 'Rewetting Drops Contact Solution', 'label': 93},\n",
       " 19: {'label_name': 'All Free and Clear Pods', 'label': 6},\n",
       " 20: {'label_name': 'Chicken Bouillon', 'label': 22},\n",
       " 21: {'label_name': 'Hello Toothpaste', 'label': 57},\n",
       " 22: {'label_name': 'Strawberry Jello', 'label': 98},\n",
       " 23: {'label_name': 'Playtex Sport', 'label': 86},\n",
       " 24: {'label_name': 'Pedialyte Powder', 'label': 83},\n",
       " 25: {'label_name': 'Chocolate Pocky', 'label': 26},\n",
       " 26: {'label_name': \"Mac 'n' Cheese Shells\", 'label': 65},\n",
       " 27: {'label_name': 'Milk Duds', 'label': 69},\n",
       " 28: {'label_name': 'Jello Vanilla Pudding', 'label': 61},\n",
       " 29: {'label_name': 'Kerrygold Butter', 'label': 62},\n",
       " 30: {'label_name': 'Extra Spearmint', 'label': 40},\n",
       " 31: {'label_name': 'Healthy Choice Chicken Alfredo', 'label': 54},\n",
       " 32: {'label_name': 'M&Ms Peanuts', 'label': 73},\n",
       " 33: {'label_name': 'Mr Clean', 'label': 76},\n",
       " 34: {'label_name': 'Nasacort Allergy', 'label': 77},\n",
       " 35: {'label_name': 'Nintendo Switch Controllers', 'label': 81},\n",
       " 36: {'label_name': 'Glad Drawstring Trash Bag', 'label': 50},\n",
       " 37: {'label_name': 'Gluten Free Brownies', 'label': 51},\n",
       " 38: {'label_name': 'Flow Flex Covid 19 Test', 'label': 42},\n",
       " 39: {'label_name': 'Crest White Strips', 'label': 32},\n",
       " 40: {'label_name': 'Bandaid Variety', 'label': 8},\n",
       " 41: {'label_name': 'Stress Relief Spray All Natural', 'label': 99},\n",
       " 42: {'label_name': 'Macaroni and Cheese Original', 'label': 66},\n",
       " 43: {'label_name': 'Chamomile Tea', 'label': 21},\n",
       " 44: {'label_name': \"Reese's Pieces\", 'label': 92},\n",
       " 45: {'label_name': 'Swiss Miss Hot Chocolate', 'label': 101},\n",
       " 46: {'label_name': 'Crackers and Cheese', 'label': 30},\n",
       " 47: {'label_name': 'Cream Cheese', 'label': 31},\n",
       " 48: {'label_name': 'Bumble Bee Tuna', 'label': 19},\n",
       " 49: {'label_name': 'Tampax', 'label': 102},\n",
       " 50: {'label_name': 'Tussin', 'label': 107},\n",
       " 51: {'label_name': 'Matzo Balls', 'label': 67},\n",
       " 52: {'label_name': 'Barilla Penne', 'label': 10},\n",
       " 53: {'label_name': \"Peet's Coffee Grounds Dark Roast\", 'label': 85},\n",
       " 54: {'label_name': 'Banza', 'label': 9},\n",
       " 55: {'label_name': 'Mixed Berries Hibiscus Tea', 'label': 72},\n",
       " 56: {'label_name': 'Nasal Strip', 'label': 79},\n",
       " 57: {'label_name': 'Toothpicks', 'label': 104},\n",
       " 58: {'label_name': 'Wild Strawberry Tea', 'label': 115},\n",
       " 59: {'label_name': 'Dry Eye Relief', 'label': 38},\n",
       " 60: {'label_name': 'Alcohol Pads', 'label': 3},\n",
       " 61: {'label_name': 'Motrin Ib Migraine', 'label': 75},\n",
       " 62: {'label_name': 'Minute Tapioca', 'label': 70},\n",
       " 63: {'label_name': 'Claratin Chewable', 'label': 28},\n",
       " 64: {'label_name': 'Visine Red Eye Hydrating Comfort', 'label': 113},\n",
       " 65: {'label_name': 'Gournay Cheese', 'label': 53},\n",
       " 66: {'label_name': 'Stevia in the Raw', 'label': 97},\n",
       " 67: {'label_name': 'Vinyl Gloves', 'label': 112},\n",
       " 68: {'label_name': 'Flonase', 'label': 41},\n",
       " 69: {'label_name': 'Coffee Mate Creamer', 'label': 29},\n",
       " 70: {'label_name': 'Pure Vanilla Extract', 'label': 89},\n",
       " 71: {'label_name': 'Pork Sausage', 'label': 88},\n",
       " 72: {'label_name': 'Garnier Shampoo', 'label': 49},\n",
       " 73: {'label_name': 'Smores Poptarts', 'label': 94},\n",
       " 74: {'label_name': 'Honey Maid Graham Crackers', 'label': 58},\n",
       " 75: {'label_name': 'Barilla Red Lentil', 'label': 11},\n",
       " 76: {'label_name': 'Fudge Oreos', 'label': 45},\n",
       " 77: {'label_name': 'Vapo Rub', 'label': 110},\n",
       " 78: {'label_name': 'Dove Cool Moisturizer', 'label': 33},\n",
       " 79: {'label_name': 'Nasal Decongestant', 'label': 78},\n",
       " 80: {'label_name': 'Unstoppables', 'label': 109},\n",
       " 81: {'label_name': 'Nature Valley Granola Bars', 'label': 80},\n",
       " 82: {'label_name': 'Ice Breakers Ice Cubes', 'label': 60},\n",
       " 83: {'label_name': 'Mochi Ice Cream', 'label': 74},\n",
       " 84: {'label_name': 'Downy Odor Defense', 'label': 36},\n",
       " 85: {'label_name': 'Raisinets', 'label': 90},\n",
       " 86: {'label_name': 'Chocolate Fudge Poptart', 'label': 25},\n",
       " 87: {'label_name': 'Aleve PM', 'label': 4},\n",
       " 88: {'label_name': 'Biore', 'label': 17},\n",
       " 89: {'label_name': 'Brown Rice', 'label': 18},\n",
       " 90: {'label_name': 'Frosting Mix Chocolate', 'label': 44},\n",
       " 91: {'label_name': 'Gain Flings', 'label': 48},\n",
       " 92: {'label_name': 'McCormick Natures Food Coloring', 'label': 68},\n",
       " 93: {'label_name': 'Chocolate Strawberries', 'label': 27},\n",
       " 94: {'label_name': 'Ranch Seasoning', 'label': 91},\n",
       " 95: {'label_name': 'Dove Body Wash', 'label': 35},\n",
       " 96: {'label_name': 'Tostada Shells', 'label': 105},\n",
       " 97: {'label_name': 'Lipton Noodle Soup', 'label': 64},\n",
       " 98: {'label_name': 'Barilla Rotini Pasta', 'label': 12},\n",
       " 99: {'label_name': 'Excedrine Migraine', 'label': 39},\n",
       " 100: {'label_name': 'Dreft Scent Beads', 'label': 37},\n",
       " 101: {'label_name': 'Total Home Scent Boos', 'label': 106},\n",
       " 102: {'label_name': 'Gain Fireworks Scent Beads', 'label': 47},\n",
       " 103: {'label_name': 'Advil Liquid Gel', 'label': 1},\n",
       " 104: {'label_name': 'Woolite Delicates _Attempt_', 'label': 116},\n",
       " 105: {'label_name': 'Miss Dior', 'label': 71},\n",
       " 106: {'label_name': 'Funfetti Cake', 'label': 46},\n",
       " 107: {'label_name': 'Onion Soup Dip Mix', 'label': 82},\n",
       " 108: {'label_name': 'Snuggle Dryer Sheets', 'label': 95},\n",
       " 109: {'label_name': 'Benadryl Allergy Tablets', 'label': 16},\n",
       " 110: {'label_name': 'Advil Tablets', 'label': 2},\n",
       " 111: {'label_name': 'Bayer Lower Dose', 'label': 15},\n",
       " 112: {'label_name': 'Heavy Duty Forks', 'label': 55},\n",
       " 113: {'label_name': 'Arm and Hammer Toothpaste', 'label': 7},\n",
       " 114: {'label_name': 'Bayer Chewable 3 Pack', 'label': 14},\n",
       " 115: {'label_name': 'Tylenol Arthritis', 'label': 108}}"
      ]
     },
     "execution_count": 13,
     "metadata": {},
     "output_type": "execute_result"
    }
   ],
   "source": [
    "z_shot_label_map"
   ]
  },
  {
   "cell_type": "code",
   "execution_count": 14,
   "metadata": {},
   "outputs": [],
   "source": [
    "filename = \"label_map.pkl\"\n",
    "file = open(filename,\"wb\")\n",
    "pickle.dump(z_shot_label_map,file)\n",
    "file.close()"
   ]
  },
  {
   "cell_type": "code",
   "execution_count": 15,
   "metadata": {},
   "outputs": [],
   "source": [
    "class AI_CITY_CLIP(pl.LightningModule):\n",
    "    def __init__(self,model):\n",
    "        super().__init__()\n",
    "        self.model = model\n",
    "\n",
    "    def forward(self,img,label):\n",
    "        img = img.to(CONFIG.device)\n",
    "        label = label.to(CONFIG.device)\n",
    "\n",
    "        image_features = self.model.encode_image(img)\n",
    "        text_features = self.model.encode_text(label)\n",
    "        image_features /= image_features.norm(dim=-1, keepdim=True)\n",
    "        text_features /= text_features.norm(dim=-1, keepdim=True)\n",
    "        similarity = (100.0 * image_features @ text_features.T)\n",
    "        return similarity\n",
    "    def predict_step(self,batch,batch_idx):\n",
    "        with torch.no_grad():\n",
    "            similarity = self(batch,z_shot_labels)\n",
    "            pred = similarity.softmax(dim=-1)\n",
    "            return pred.detach().cpu()\n"
   ]
  },
  {
   "cell_type": "code",
   "execution_count": 16,
   "metadata": {},
   "outputs": [],
   "source": [
    "models_preds = {}"
   ]
  },
  {
   "cell_type": "code",
   "execution_count": 17,
   "metadata": {},
   "outputs": [
    {
     "name": "stderr",
     "output_type": "stream",
     "text": [
      "/home/ubuntu/anaconda3/lib/python3.9/site-packages/pytorch_lightning/loops/utilities.py:91: PossibleUserWarning: `max_epochs` was not set. Setting it to 1000 epochs. To train without an epoch limit, set `max_epochs=-1`.\n",
      "  rank_zero_warn(\n",
      "GPU available: True, used: True\n",
      "TPU available: False, using: 0 TPU cores\n",
      "IPU available: False, using: 0 IPUs\n",
      "HPU available: False, using: 0 HPUs\n",
      "LOCAL_RANK: 0 - CUDA_VISIBLE_DEVICES: [0,1,2,3]\n"
     ]
    },
    {
     "name": "stdout",
     "output_type": "stream",
     "text": [
      "Predicting DataLoader 0: 100%|██████████| 365/365 [01:54<00:00,  3.19it/s]\n"
     ]
    },
    {
     "data": {
      "text/plain": [
       "(23300, 116)"
      ]
     },
     "execution_count": 17,
     "metadata": {},
     "output_type": "execute_result"
    }
   ],
   "source": [
    "clip_model = AI_CITY_CLIP(model)\n",
    "trainer = Trainer(gpus=1)\n",
    "pred = trainer.predict(clip_model,pred_dataloader)\n",
    "full_pred = torch.concat(pred)\n",
    "full_pred_np = full_pred.numpy()\n",
    "models_preds[\"RN50\"] = full_pred_np\n",
    "full_pred_np.shape\n"
   ]
  },
  {
   "cell_type": "code",
   "execution_count": 18,
   "metadata": {},
   "outputs": [
    {
     "name": "stderr",
     "output_type": "stream",
     "text": [
      "GPU available: True, used: True\n",
      "TPU available: False, using: 0 TPU cores\n",
      "IPU available: False, using: 0 IPUs\n",
      "HPU available: False, using: 0 HPUs\n",
      "LOCAL_RANK: 0 - CUDA_VISIBLE_DEVICES: [0,1,2,3]\n"
     ]
    },
    {
     "name": "stdout",
     "output_type": "stream",
     "text": [
      "Predicting DataLoader 0: 100%|██████████| 365/365 [01:55<00:00,  3.15it/s]\n"
     ]
    },
    {
     "data": {
      "text/plain": [
       "(23300, 116)"
      ]
     },
     "execution_count": 18,
     "metadata": {},
     "output_type": "execute_result"
    }
   ],
   "source": [
    "trained_clip_model = AI_CITY_CLIP(model)\n",
    "checkpoint = torch.load(\"../ai_city_clip_val_clip_loss=0.42675.ckpt\")\n",
    "trained_clip_model.load_state_dict(checkpoint[\"state_dict\"])\n",
    "trainer = Trainer(gpus=1)\n",
    "trained_pred = trainer.predict(trained_clip_model,pred_dataloader)\n",
    "trained_full_pred = torch.concat(trained_pred)\n",
    "trained_full_pred_np = trained_full_pred.numpy()\n",
    "models_preds[\"RN50_trained\"] = trained_full_pred_np\n",
    "trained_full_pred_np.shape\n"
   ]
  },
  {
   "cell_type": "code",
   "execution_count": null,
   "metadata": {},
   "outputs": [],
   "source": []
  },
  {
   "cell_type": "code",
   "execution_count": null,
   "metadata": {},
   "outputs": [],
   "source": []
  },
  {
   "cell_type": "code",
   "execution_count": 19,
   "metadata": {},
   "outputs": [],
   "source": [
    "full_pred_np = full_pred.numpy()\n",
    "y_true = x_test[\"label\"].values.tolist()"
   ]
  },
  {
   "cell_type": "code",
   "execution_count": 20,
   "metadata": {},
   "outputs": [],
   "source": [
    "def topk_accuracy(y_true, pred, label_map, k,threshold):\n",
    "    pred[pred < threshold] = 0\n",
    "    pred_count = []\n",
    "    remap = np.vectorize(lambda x: label_map[x][\"label\"])\n",
    "    #get top k values\n",
    "    top_k_pred = remap(pred.argsort(axis=1)[:, -k:][:, ::-1])\n",
    "    # append 1 if true label is in top k values else append 0\n",
    "    for i in range(len(y_true)):\n",
    "        if y_true[i] in top_k_pred[i]:\n",
    "            pred_count.append(1)\n",
    "        else:\n",
    "            pred_count.append(0)\n",
    "    return sum(pred_count)/len(pred_count)\n"
   ]
  },
  {
   "cell_type": "code",
   "execution_count": 21,
   "metadata": {},
   "outputs": [],
   "source": [
    "def calcuate_top_k(y_true,models_preds, z_shot_label_map):\n",
    "    k_test_list = [1,5,10,50,100]\n",
    "    threshold_test_list  = [0,0.1,0.2,0.3,0.4,0.5]\n",
    "    topk_df = []\n",
    "    for m in models_preds.keys():\n",
    "        for k in k_test_list:\n",
    "            for t in threshold_test_list:\n",
    "                pred =topk_accuracy(y_true,models_preds[m], z_shot_label_map, k=k, threshold=t)\n",
    "                topk_row = {}\n",
    "                topk_row[\"model\"] = m\n",
    "                topk_row[\"top_k\"] = k\n",
    "                topk_row[\"threshold\"] = t\n",
    "                topk_row[\"accuracy\"] = pred\n",
    "                topk_df.append(topk_row)\n",
    "\n",
    "    topk_df = pd.DataFrame(topk_df)\n",
    "    return topk_df\n",
    "topk_df = calcuate_top_k(y_true,models_preds, z_shot_label_map)"
   ]
  },
  {
   "cell_type": "code",
   "execution_count": 32,
   "metadata": {},
   "outputs": [],
   "source": [
    "topk_df.head()\n",
    "topk_df[\"top_k\"] = topk_df[\"top_k\"].astype(str)"
   ]
  },
  {
   "cell_type": "code",
   "execution_count": 40,
   "metadata": {},
   "outputs": [
    {
     "data": {
      "text/plain": [
       "<seaborn.axisgrid.FacetGrid at 0x7fbfec49f2e0>"
      ]
     },
     "execution_count": 40,
     "metadata": {},
     "output_type": "execute_result"
    },
    {
     "data": {
      "image/png": "[encoded data removed]",
      "text/plain": [
       "<Figure size 415.125x360 with 1 Axes>"
      ]
     },
     "metadata": {
      "needs_background": "light"
     },
     "output_type": "display_data"
    }
   ],
   "source": [
    "sns.catplot(data=topk_df[topk_df[\"model\"]==\"RN50\"],x=\"top_k\",y=\"accuracy\",kind=\"bar\",hue=\"threshold\",palette=\"tab20\")"
   ]
  },
  {
   "cell_type": "code",
   "execution_count": 39,
   "metadata": {},
   "outputs": [
    {
     "data": {
      "text/plain": [
       "<seaborn.axisgrid.FacetGrid at 0x7fbfec195be0>"
      ]
     },
     "execution_count": 39,
     "metadata": {},
     "output_type": "execute_result"
    },
    {
     "data": {
      "image/png": "[encoded data removed]",
      "text/plain": [
       "<Figure size 415.125x360 with 1 Axes>"
      ]
     },
     "metadata": {
      "needs_background": "light"
     },
     "output_type": "display_data"
    }
   ],
   "source": [
    "sns.catplot(data=topk_df[topk_df[\"model\"]==\"RN50_trained\"],x=\"top_k\",y=\"accuracy\",kind=\"bar\",hue=\"threshold\",palette=\"tab20\")"
   ]
  },
  {
   "cell_type": "code",
   "execution_count": null,
   "metadata": {},
   "outputs": [],
   "source": []
  }
 ],
 "metadata": {
  "interpreter": {
   "hash": "739bb0130681e54b0aade1c9a25771bb70035002e988ac793f7dc41e81d43e31"
  },
  "kernelspec": {
   "display_name": "Python 3.8.5 64-bit ('base': conda)",
   "language": "python",
   "name": "python3"
  },
  "language_info": {
   "codemirror_mode": {
    "name": "ipython",
    "version": 3
   },
   "file_extension": ".py",
   "mimetype": "text/x-python",
   "name": "python",
   "nbconvert_exporter": "python",
   "pygments_lexer": "ipython3",
   "version": "3.9.7"
  },
  "orig_nbformat": 4
 },
 "nbformat": 4,
 "nbformat_minor": 2
}
