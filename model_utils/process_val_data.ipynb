{
 "cells": [
  {
   "cell_type": "code",
   "execution_count": 22,
   "metadata": {},
   "outputs": [],
   "source": [
    "import pandas as pd\n",
    "import numpy as np \n",
    "import matplotlib.pyplot as plt\n",
    "import json\n",
    "from PIL import Image \n",
    "import pprint\n",
    "import os\n",
    "\n"
   ]
  },
  {
   "cell_type": "code",
   "execution_count": 23,
   "metadata": {},
   "outputs": [],
   "source": [
    "\n",
    "val_data_dir = \"../../val_imgs\"\n",
    "val_data_map = \"../../val.json\""
   ]
  },
  {
   "cell_type": "code",
   "execution_count": 24,
   "metadata": {},
   "outputs": [],
   "source": [
    "with open(val_data_map, 'r') as f:\n",
    "    val_data = json.load(f)"
   ]
  },
  {
   "cell_type": "code",
   "execution_count": 25,
   "metadata": {},
   "outputs": [
    {
     "data": {
      "text/html": [
       "<div>\n",
       "<style scoped>\n",
       "    .dataframe tbody tr th:only-of-type {\n",
       "        vertical-align: middle;\n",
       "    }\n",
       "\n",
       "    .dataframe tbody tr th {\n",
       "        vertical-align: top;\n",
       "    }\n",
       "\n",
       "    .dataframe thead th {\n",
       "        text-align: right;\n",
       "    }\n",
       "</style>\n",
       "<table border=\"1\" class=\"dataframe\">\n",
       "  <thead>\n",
       "    <tr style=\"text-align: right;\">\n",
       "      <th></th>\n",
       "      <th>caption</th>\n",
       "      <th>product</th>\n",
       "    </tr>\n",
       "  </thead>\n",
       "  <tbody>\n",
       "    <tr>\n",
       "      <th>0</th>\n",
       "      <td>Tanabata Valentine's Day Shenzhen Bao'an M Nan...</td>\n",
       "      <td>O1CN01cSoTwD1spJos7ZSF6_!!0-item_pic.jpg</td>\n",
       "    </tr>\n",
       "    <tr>\n",
       "      <th>1</th>\n",
       "      <td>Children's Toys Little Girl over 6 Years Old G...</td>\n",
       "      <td>O1CN01iI5sGv1vIkV5dfICu_!!0-item_pic.jpg</td>\n",
       "    </tr>\n",
       "    <tr>\n",
       "      <th>2</th>\n",
       "      <td>sm qing qu Alternative Sex between Men and Wom...</td>\n",
       "      <td>O1CN01xnnyaz248W0n5le2q_!!131027346.jpg</td>\n",
       "    </tr>\n",
       "    <tr>\n",
       "      <th>3</th>\n",
       "      <td>Traditional Chinese Painting Burnin' Up Yingke...</td>\n",
       "      <td>O1CN01lfHuuA1D3K2MEM63p_!!160-0-lubanu.jpg</td>\n",
       "    </tr>\n",
       "    <tr>\n",
       "      <th>4</th>\n",
       "      <td>lgnace Lee Men's Jeans Thick Section Distresse...</td>\n",
       "      <td>TB23FV3afBNTKJjy0FdXXcPpVXa_!!1944606990.jpg</td>\n",
       "    </tr>\n",
       "  </tbody>\n",
       "</table>\n",
       "</div>"
      ],
      "text/plain": [
       "                                             caption  \\\n",
       "0  Tanabata Valentine's Day Shenzhen Bao'an M Nan...   \n",
       "1  Children's Toys Little Girl over 6 Years Old G...   \n",
       "2  sm qing qu Alternative Sex between Men and Wom...   \n",
       "3  Traditional Chinese Painting Burnin' Up Yingke...   \n",
       "4  lgnace Lee Men's Jeans Thick Section Distresse...   \n",
       "\n",
       "                                        product  \n",
       "0      O1CN01cSoTwD1spJos7ZSF6_!!0-item_pic.jpg  \n",
       "1      O1CN01iI5sGv1vIkV5dfICu_!!0-item_pic.jpg  \n",
       "2       O1CN01xnnyaz248W0n5le2q_!!131027346.jpg  \n",
       "3    O1CN01lfHuuA1D3K2MEM63p_!!160-0-lubanu.jpg  \n",
       "4  TB23FV3afBNTKJjy0FdXXcPpVXa_!!1944606990.jpg  "
      ]
     },
     "execution_count": 25,
     "metadata": {},
     "output_type": "execute_result"
    }
   ],
   "source": [
    "val_df = pd.DataFrame(val_data)\n",
    "val_df.head()"
   ]
  },
  {
   "cell_type": "code",
   "execution_count": 26,
   "metadata": {},
   "outputs": [
    {
     "name": "stdout",
     "output_type": "stream",
     "text": [
      "shape of data (50000, 2)\n",
      "count of missiing values\n",
      " caption    0\n",
      "product    0\n",
      "dtype: int64\n",
      "number of unique labels 49715\n"
     ]
    }
   ],
   "source": [
    "print(\"shape of data\",val_df.shape)\n",
    "print(\"count of missiing values\\n\",val_df.isna().sum())\n",
    "print(\"number of unique labels\",len(val_df[\"caption\"].unique()))"
   ]
  },
  {
   "cell_type": "code",
   "execution_count": 27,
   "metadata": {},
   "outputs": [
    {
     "data": {
      "text/plain": [
       "Space Aluminum Hanger Adult Incognito yi cheng Clothes Drying Rack for Stainless Steel Non-Slip Hang the Household Drying    4\n",
       "Natural Agate Cornucopia Crystal Degaussing Small Stone Ornaments Were a Graph Multi-Optional                                3\n",
       "The Nordic Light Luxury Rocking Chair Recliner Lazy Single Sofa Home wo niu yi Adults Balcony Leisure Chair                  3\n",
       "Canada Purchasing Vans Old Skool Authentic Van Schaik a Pedal Shoes Casual Shoes for Men and Women                           3\n",
       "[Spot American jflowers tai qiu gan tong JF Leather Tub 6 Holes Carved Flowers Magic 1/2 Club Bucket                         3\n",
       "                                                                                                                            ..\n",
       "Copper Body Basin Faucet Double Hole Washbasin Bathroom Sink Basin of Hot and Cold Water Faucet                              1\n",
       "U gesswein Allow Stone EDM Series OT Series as the D-Series 2104 2904                                                        1\n",
       "Buy Solid Rod Home Weight Said Lu gou cheng 20 Aluminum Scale Lu Rod Supplies Aluminum Steelyard Scale Fe Old Laptop         1\n",
       "bodypops 18 Years 5 Bars Boxed Cotton Underwear BCWP823C62 188 Counter Genuine ~ Quadruple                                   1\n",
       "M2 SKH51 M35 SKH55 M42 High-Speed Steel Bar fdac Quenched and Tempered Steel round Bar Tool Steel Zero Shear                 1\n",
       "Name: caption, Length: 49715, dtype: int64"
      ]
     },
     "execution_count": 27,
     "metadata": {},
     "output_type": "execute_result"
    }
   ],
   "source": [
    "val_df[\"caption\"].value_counts()"
   ]
  },
  {
   "cell_type": "code",
   "execution_count": 28,
   "metadata": {},
   "outputs": [],
   "source": [
    "val_df[\"label\"] = val_df.groupby(\"caption\").ngroup()"
   ]
  },
  {
   "cell_type": "code",
   "execution_count": 29,
   "metadata": {},
   "outputs": [
    {
     "data": {
      "text/plain": [
       "49715"
      ]
     },
     "execution_count": 29,
     "metadata": {},
     "output_type": "execute_result"
    }
   ],
   "source": [
    "len(val_df[\"label\"].unique())"
   ]
  },
  {
   "cell_type": "code",
   "execution_count": 30,
   "metadata": {},
   "outputs": [
    {
     "data": {
      "text/html": [
       "<div>\n",
       "<style scoped>\n",
       "    .dataframe tbody tr th:only-of-type {\n",
       "        vertical-align: middle;\n",
       "    }\n",
       "\n",
       "    .dataframe tbody tr th {\n",
       "        vertical-align: top;\n",
       "    }\n",
       "\n",
       "    .dataframe thead th {\n",
       "        text-align: right;\n",
       "    }\n",
       "</style>\n",
       "<table border=\"1\" class=\"dataframe\">\n",
       "  <thead>\n",
       "    <tr style=\"text-align: right;\">\n",
       "      <th></th>\n",
       "      <th>caption</th>\n",
       "      <th>product</th>\n",
       "      <th>label</th>\n",
       "    </tr>\n",
       "  </thead>\n",
       "  <tbody>\n",
       "    <tr>\n",
       "      <th>0</th>\n",
       "      <td>Tanabata Valentine's Day Shenzhen Bao'an M Nan...</td>\n",
       "      <td>O1CN01cSoTwD1spJos7ZSF6_!!0-item_pic.jpg</td>\n",
       "      <td>32820</td>\n",
       "    </tr>\n",
       "    <tr>\n",
       "      <th>1</th>\n",
       "      <td>Children's Toys Little Girl over 6 Years Old G...</td>\n",
       "      <td>O1CN01iI5sGv1vIkV5dfICu_!!0-item_pic.jpg</td>\n",
       "      <td>8326</td>\n",
       "    </tr>\n",
       "    <tr>\n",
       "      <th>2</th>\n",
       "      <td>sm qing qu Alternative Sex between Men and Wom...</td>\n",
       "      <td>O1CN01xnnyaz248W0n5le2q_!!131027346.jpg</td>\n",
       "      <td>47598</td>\n",
       "    </tr>\n",
       "    <tr>\n",
       "      <th>3</th>\n",
       "      <td>Traditional Chinese Painting Burnin' Up Yingke...</td>\n",
       "      <td>O1CN01lfHuuA1D3K2MEM63p_!!160-0-lubanu.jpg</td>\n",
       "      <td>36608</td>\n",
       "    </tr>\n",
       "    <tr>\n",
       "      <th>4</th>\n",
       "      <td>lgnace Lee Men's Jeans Thick Section Distresse...</td>\n",
       "      <td>TB23FV3afBNTKJjy0FdXXcPpVXa_!!1944606990.jpg</td>\n",
       "      <td>45566</td>\n",
       "    </tr>\n",
       "  </tbody>\n",
       "</table>\n",
       "</div>"
      ],
      "text/plain": [
       "                                             caption  \\\n",
       "0  Tanabata Valentine's Day Shenzhen Bao'an M Nan...   \n",
       "1  Children's Toys Little Girl over 6 Years Old G...   \n",
       "2  sm qing qu Alternative Sex between Men and Wom...   \n",
       "3  Traditional Chinese Painting Burnin' Up Yingke...   \n",
       "4  lgnace Lee Men's Jeans Thick Section Distresse...   \n",
       "\n",
       "                                        product  label  \n",
       "0      O1CN01cSoTwD1spJos7ZSF6_!!0-item_pic.jpg  32820  \n",
       "1      O1CN01iI5sGv1vIkV5dfICu_!!0-item_pic.jpg   8326  \n",
       "2       O1CN01xnnyaz248W0n5le2q_!!131027346.jpg  47598  \n",
       "3    O1CN01lfHuuA1D3K2MEM63p_!!160-0-lubanu.jpg  36608  \n",
       "4  TB23FV3afBNTKJjy0FdXXcPpVXa_!!1944606990.jpg  45566  "
      ]
     },
     "execution_count": 30,
     "metadata": {},
     "output_type": "execute_result"
    }
   ],
   "source": [
    "val_df.head()"
   ]
  },
  {
   "cell_type": "code",
   "execution_count": 31,
   "metadata": {},
   "outputs": [],
   "source": [
    "\n",
    "val_df.to_csv(\"../data/val_data_map.csv\",index=False)\n"
   ]
  }
 ],
 "metadata": {
  "interpreter": {
   "hash": "caf1c2fcf97217de91eafa76b907d50f9ea378f5ffbee7f571142d119bb6a771"
  },
  "kernelspec": {
   "display_name": "Python 3.9.7 ('base')",
   "language": "python",
   "name": "python3"
  },
  "language_info": {
   "codemirror_mode": {
    "name": "ipython",
    "version": 3
   },
   "file_extension": ".py",
   "mimetype": "text/x-python",
   "name": "python",
   "nbconvert_exporter": "python",
   "pygments_lexer": "ipython3",
   "version": "3.9.7"
  },
  "orig_nbformat": 4
 },
 "nbformat": 4,
 "nbformat_minor": 2
}
